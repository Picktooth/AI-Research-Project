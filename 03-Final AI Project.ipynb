{
 "cells": [
  {
   "cell_type": "markdown",
   "id": "464d3f63-1ec7-4a34-a439-fd3e081e7db7",
   "metadata": {},
   "source": [
    "# <center>For this project, we use the [FCI@AI CNN, NSL-KDD, Multi-class, 2022 notebook for preprocessing the dataset](https://www.kaggle.com/code/lionsai/cnn-nsl-kdd-multi-class-2022) with some modifications</center> "
   ]
  },
  {
   "cell_type": "markdown",
   "id": "3e797294",
   "metadata": {
    "id": "DskfeDeASI2l",
    "papermill": {
     "duration": 0.149836,
     "end_time": "2021-12-22T10:13:34.001334",
     "exception": false,
     "start_time": "2021-12-22T10:13:33.851498",
     "status": "completed"
    },
    "tags": []
   },
   "source": [
    "# **Imports**"
   ]
  },
  {
   "cell_type": "code",
   "execution_count": 1,
   "id": "df37c155",
   "metadata": {
    "id": "CXLfwvHPvXWT",
    "papermill": {
     "duration": 8.547198,
     "end_time": "2021-12-22T10:13:42.704581",
     "exception": false,
     "start_time": "2021-12-22T10:13:34.157383",
     "status": "completed"
    },
    "tags": []
   },
   "outputs": [],
   "source": [
    "# importing required libraries\n",
    "import numpy as np\n",
    "import pandas as pd\n",
    "import pickle # saving and loading trained model\n",
    "from os import path\n",
    "\n",
    "# importing required libraries for normalizing data\n",
    "from sklearn import preprocessing\n",
    "from sklearn.preprocessing import (StandardScaler, OrdinalEncoder,LabelEncoder, MinMaxScaler, OneHotEncoder)\n",
    "from sklearn.preprocessing import Normalizer, MaxAbsScaler , RobustScaler, PowerTransformer\n",
    "\n",
    "# importing library for plotting\n",
    "import matplotlib.pyplot as plt\n",
    "import seaborn as sns\n",
    "\n",
    "from sklearn import metrics\n",
    "from sklearn.metrics import accuracy_score # for calculating accuracy of model\n",
    "from sklearn.model_selection import train_test_split # for splitting the dataset for training and testing\n",
    "from sklearn.metrics import classification_report # for generating a classification report of model\n",
    "\n",
    "from sklearn.metrics import precision_score\n",
    "from sklearn.metrics import recall_score\n",
    "from sklearn.metrics import f1_score\n",
    "\n",
    "from sklearn.metrics import roc_auc_score\n",
    "from sklearn.metrics import roc_curve, auc\n",
    "\n",
    "import tensorflow as tf\n",
    "from tensorflow.keras.utils import to_categorical\n",
    "\n",
    "from keras.layers import Dense, Conv1D, Conv2D, MaxPool1D, Flatten, Dropout # importing dense layer\n",
    "from keras.models import Sequential #importing Sequential layer\n",
    "from keras.layers import Input\n",
    "from keras.models import Model\n",
    "# representation of model layers\n",
    "from keras.utils.vis_utils import plot_model"
   ]
  },
  {
   "cell_type": "markdown",
   "id": "bafa1f59-6fe4-4a29-8c5e-8a85d6bac4d7",
   "metadata": {},
   "source": [
    "# Additional imports not included in the authors notebook"
   ]
  },
  {
   "cell_type": "code",
   "execution_count": 25,
   "id": "7ffbe05c-16c8-4581-8c1d-d85c86d4e698",
   "metadata": {},
   "outputs": [],
   "source": [
    "from pycaret.classification import *\n",
    "from sklearn.model_selection import StratifiedKFold, cross_val_score\n",
    "from sklearn.pipeline import Pipeline\n",
    "from scikeras.wrappers import KerasClassifier\n",
    "from sklearn.utils.multiclass import type_of_target\n",
    "import torch\n",
    "import xgboost\n",
    "import plotly.express as px"
   ]
  },
  {
   "cell_type": "markdown",
   "id": "21bc564f",
   "metadata": {
    "id": "XgFIb5Z1UI_X",
    "papermill": {
     "duration": 0.151623,
     "end_time": "2021-12-22T10:13:43.309810",
     "exception": false,
     "start_time": "2021-12-22T10:13:43.158187",
     "status": "completed"
    },
    "tags": []
   },
   "source": [
    "## Reading Data"
   ]
  },
  {
   "cell_type": "code",
   "execution_count": 16,
   "id": "8ede8a18",
   "metadata": {
    "id": "TSdvFAkVhBbF",
    "papermill": {
     "duration": 0.176908,
     "end_time": "2021-12-22T10:13:44.893909",
     "exception": false,
     "start_time": "2021-12-22T10:13:44.717001",
     "status": "completed"
    },
    "tags": []
   },
   "outputs": [],
   "source": [
    "feature=[\"duration\",\"protocol_type\",\"service\",\"flag\",\"src_bytes\",\"dst_bytes\",\"land\",\"wrong_fragment\",\"urgent\",\"hot\",\n",
    "          \"num_failed_logins\",\"logged_in\",\"num_compromised\",\"root_shell\",\"su_attempted\",\"num_root\",\"num_file_creations\",\"num_shells\",\n",
    "          \"num_access_files\",\"num_outbound_cmds\",\"is_host_login\",\"is_guest_login\",\"count\",\"srv_count\",\"serror_rate\",\"srv_serror_rate\",\n",
    "          \"rerror_rate\",\"srv_rerror_rate\",\"same_srv_rate\",\"diff_srv_rate\",\"srv_diff_host_rate\",\"dst_host_count\",\"dst_host_srv_count\", \n",
    "          \"dst_host_same_srv_rate\",\"dst_host_diff_srv_rate\",\"dst_host_same_src_port_rate\",\"dst_host_srv_diff_host_rate\",\"dst_host_serror_rate\",\n",
    "          \"dst_host_srv_serror_rate\",\"dst_host_rerror_rate\",\"dst_host_srv_rerror_rate\",\"label\",\"difficulty\"]"
   ]
  },
  {
   "cell_type": "code",
   "execution_count": 17,
   "id": "95ddd6d1",
   "metadata": {
    "id": "mu4fXAznhB6z",
    "papermill": {
     "duration": 1.164753,
     "end_time": "2021-12-22T10:13:46.217703",
     "exception": false,
     "start_time": "2021-12-22T10:13:45.052950",
     "status": "completed"
    },
    "tags": []
   },
   "outputs": [],
   "source": [
    "train='KDDTrain+.txt'\n",
    "test='KDDTest+.txt'\n",
    "test21='KDDTest-21.txt'\n",
    "train_data=pd.read_csv(train,names=feature)\n",
    "# test_data=pd.read_csv(test,names=feature)"
   ]
  },
  {
   "cell_type": "code",
   "execution_count": 18,
   "id": "d7063f0c",
   "metadata": {
    "id": "mRCm4uU-hFw8",
    "papermill": {
     "duration": 0.236696,
     "end_time": "2021-12-22T10:13:46.617220",
     "exception": false,
     "start_time": "2021-12-22T10:13:46.380524",
     "status": "completed"
    },
    "tags": []
   },
   "outputs": [],
   "source": [
    "# test_21 = pd.read_csv(test21, names= feature)"
   ]
  },
  {
   "cell_type": "code",
   "execution_count": 19,
   "id": "22e24643",
   "metadata": {
    "id": "Aerw00jLh4pN",
    "outputId": "2e679869-58fe-4b66-f18b-e45e366e847f",
    "papermill": {
     "duration": 0.230878,
     "end_time": "2021-12-22T10:13:46.997105",
     "exception": false,
     "start_time": "2021-12-22T10:13:46.766227",
     "status": "completed"
    },
    "tags": []
   },
   "outputs": [
    {
     "data": {
      "text/html": [
       "<div>\n",
       "<style scoped>\n",
       "    .dataframe tbody tr th:only-of-type {\n",
       "        vertical-align: middle;\n",
       "    }\n",
       "\n",
       "    .dataframe tbody tr th {\n",
       "        vertical-align: top;\n",
       "    }\n",
       "\n",
       "    .dataframe thead th {\n",
       "        text-align: right;\n",
       "    }\n",
       "</style>\n",
       "<table border=\"1\" class=\"dataframe\">\n",
       "  <thead>\n",
       "    <tr style=\"text-align: right;\">\n",
       "      <th></th>\n",
       "      <th>duration</th>\n",
       "      <th>protocol_type</th>\n",
       "      <th>service</th>\n",
       "      <th>flag</th>\n",
       "      <th>src_bytes</th>\n",
       "      <th>dst_bytes</th>\n",
       "      <th>land</th>\n",
       "      <th>wrong_fragment</th>\n",
       "      <th>urgent</th>\n",
       "      <th>hot</th>\n",
       "      <th>...</th>\n",
       "      <th>dst_host_same_srv_rate</th>\n",
       "      <th>dst_host_diff_srv_rate</th>\n",
       "      <th>dst_host_same_src_port_rate</th>\n",
       "      <th>dst_host_srv_diff_host_rate</th>\n",
       "      <th>dst_host_serror_rate</th>\n",
       "      <th>dst_host_srv_serror_rate</th>\n",
       "      <th>dst_host_rerror_rate</th>\n",
       "      <th>dst_host_srv_rerror_rate</th>\n",
       "      <th>label</th>\n",
       "      <th>difficulty</th>\n",
       "    </tr>\n",
       "  </thead>\n",
       "  <tbody>\n",
       "    <tr>\n",
       "      <th>0</th>\n",
       "      <td>0</td>\n",
       "      <td>tcp</td>\n",
       "      <td>ftp_data</td>\n",
       "      <td>SF</td>\n",
       "      <td>491</td>\n",
       "      <td>0</td>\n",
       "      <td>0</td>\n",
       "      <td>0</td>\n",
       "      <td>0</td>\n",
       "      <td>0</td>\n",
       "      <td>...</td>\n",
       "      <td>0.17</td>\n",
       "      <td>0.03</td>\n",
       "      <td>0.17</td>\n",
       "      <td>0.00</td>\n",
       "      <td>0.00</td>\n",
       "      <td>0.00</td>\n",
       "      <td>0.05</td>\n",
       "      <td>0.00</td>\n",
       "      <td>normal</td>\n",
       "      <td>20</td>\n",
       "    </tr>\n",
       "    <tr>\n",
       "      <th>1</th>\n",
       "      <td>0</td>\n",
       "      <td>udp</td>\n",
       "      <td>other</td>\n",
       "      <td>SF</td>\n",
       "      <td>146</td>\n",
       "      <td>0</td>\n",
       "      <td>0</td>\n",
       "      <td>0</td>\n",
       "      <td>0</td>\n",
       "      <td>0</td>\n",
       "      <td>...</td>\n",
       "      <td>0.00</td>\n",
       "      <td>0.60</td>\n",
       "      <td>0.88</td>\n",
       "      <td>0.00</td>\n",
       "      <td>0.00</td>\n",
       "      <td>0.00</td>\n",
       "      <td>0.00</td>\n",
       "      <td>0.00</td>\n",
       "      <td>normal</td>\n",
       "      <td>15</td>\n",
       "    </tr>\n",
       "    <tr>\n",
       "      <th>2</th>\n",
       "      <td>0</td>\n",
       "      <td>tcp</td>\n",
       "      <td>private</td>\n",
       "      <td>S0</td>\n",
       "      <td>0</td>\n",
       "      <td>0</td>\n",
       "      <td>0</td>\n",
       "      <td>0</td>\n",
       "      <td>0</td>\n",
       "      <td>0</td>\n",
       "      <td>...</td>\n",
       "      <td>0.10</td>\n",
       "      <td>0.05</td>\n",
       "      <td>0.00</td>\n",
       "      <td>0.00</td>\n",
       "      <td>1.00</td>\n",
       "      <td>1.00</td>\n",
       "      <td>0.00</td>\n",
       "      <td>0.00</td>\n",
       "      <td>neptune</td>\n",
       "      <td>19</td>\n",
       "    </tr>\n",
       "    <tr>\n",
       "      <th>3</th>\n",
       "      <td>0</td>\n",
       "      <td>tcp</td>\n",
       "      <td>http</td>\n",
       "      <td>SF</td>\n",
       "      <td>232</td>\n",
       "      <td>8153</td>\n",
       "      <td>0</td>\n",
       "      <td>0</td>\n",
       "      <td>0</td>\n",
       "      <td>0</td>\n",
       "      <td>...</td>\n",
       "      <td>1.00</td>\n",
       "      <td>0.00</td>\n",
       "      <td>0.03</td>\n",
       "      <td>0.04</td>\n",
       "      <td>0.03</td>\n",
       "      <td>0.01</td>\n",
       "      <td>0.00</td>\n",
       "      <td>0.01</td>\n",
       "      <td>normal</td>\n",
       "      <td>21</td>\n",
       "    </tr>\n",
       "    <tr>\n",
       "      <th>4</th>\n",
       "      <td>0</td>\n",
       "      <td>tcp</td>\n",
       "      <td>http</td>\n",
       "      <td>SF</td>\n",
       "      <td>199</td>\n",
       "      <td>420</td>\n",
       "      <td>0</td>\n",
       "      <td>0</td>\n",
       "      <td>0</td>\n",
       "      <td>0</td>\n",
       "      <td>...</td>\n",
       "      <td>1.00</td>\n",
       "      <td>0.00</td>\n",
       "      <td>0.00</td>\n",
       "      <td>0.00</td>\n",
       "      <td>0.00</td>\n",
       "      <td>0.00</td>\n",
       "      <td>0.00</td>\n",
       "      <td>0.00</td>\n",
       "      <td>normal</td>\n",
       "      <td>21</td>\n",
       "    </tr>\n",
       "    <tr>\n",
       "      <th>...</th>\n",
       "      <td>...</td>\n",
       "      <td>...</td>\n",
       "      <td>...</td>\n",
       "      <td>...</td>\n",
       "      <td>...</td>\n",
       "      <td>...</td>\n",
       "      <td>...</td>\n",
       "      <td>...</td>\n",
       "      <td>...</td>\n",
       "      <td>...</td>\n",
       "      <td>...</td>\n",
       "      <td>...</td>\n",
       "      <td>...</td>\n",
       "      <td>...</td>\n",
       "      <td>...</td>\n",
       "      <td>...</td>\n",
       "      <td>...</td>\n",
       "      <td>...</td>\n",
       "      <td>...</td>\n",
       "      <td>...</td>\n",
       "      <td>...</td>\n",
       "    </tr>\n",
       "    <tr>\n",
       "      <th>125968</th>\n",
       "      <td>0</td>\n",
       "      <td>tcp</td>\n",
       "      <td>private</td>\n",
       "      <td>S0</td>\n",
       "      <td>0</td>\n",
       "      <td>0</td>\n",
       "      <td>0</td>\n",
       "      <td>0</td>\n",
       "      <td>0</td>\n",
       "      <td>0</td>\n",
       "      <td>...</td>\n",
       "      <td>0.10</td>\n",
       "      <td>0.06</td>\n",
       "      <td>0.00</td>\n",
       "      <td>0.00</td>\n",
       "      <td>1.00</td>\n",
       "      <td>1.00</td>\n",
       "      <td>0.00</td>\n",
       "      <td>0.00</td>\n",
       "      <td>neptune</td>\n",
       "      <td>20</td>\n",
       "    </tr>\n",
       "    <tr>\n",
       "      <th>125969</th>\n",
       "      <td>8</td>\n",
       "      <td>udp</td>\n",
       "      <td>private</td>\n",
       "      <td>SF</td>\n",
       "      <td>105</td>\n",
       "      <td>145</td>\n",
       "      <td>0</td>\n",
       "      <td>0</td>\n",
       "      <td>0</td>\n",
       "      <td>0</td>\n",
       "      <td>...</td>\n",
       "      <td>0.96</td>\n",
       "      <td>0.01</td>\n",
       "      <td>0.01</td>\n",
       "      <td>0.00</td>\n",
       "      <td>0.00</td>\n",
       "      <td>0.00</td>\n",
       "      <td>0.00</td>\n",
       "      <td>0.00</td>\n",
       "      <td>normal</td>\n",
       "      <td>21</td>\n",
       "    </tr>\n",
       "    <tr>\n",
       "      <th>125970</th>\n",
       "      <td>0</td>\n",
       "      <td>tcp</td>\n",
       "      <td>smtp</td>\n",
       "      <td>SF</td>\n",
       "      <td>2231</td>\n",
       "      <td>384</td>\n",
       "      <td>0</td>\n",
       "      <td>0</td>\n",
       "      <td>0</td>\n",
       "      <td>0</td>\n",
       "      <td>...</td>\n",
       "      <td>0.12</td>\n",
       "      <td>0.06</td>\n",
       "      <td>0.00</td>\n",
       "      <td>0.00</td>\n",
       "      <td>0.72</td>\n",
       "      <td>0.00</td>\n",
       "      <td>0.01</td>\n",
       "      <td>0.00</td>\n",
       "      <td>normal</td>\n",
       "      <td>18</td>\n",
       "    </tr>\n",
       "    <tr>\n",
       "      <th>125971</th>\n",
       "      <td>0</td>\n",
       "      <td>tcp</td>\n",
       "      <td>klogin</td>\n",
       "      <td>S0</td>\n",
       "      <td>0</td>\n",
       "      <td>0</td>\n",
       "      <td>0</td>\n",
       "      <td>0</td>\n",
       "      <td>0</td>\n",
       "      <td>0</td>\n",
       "      <td>...</td>\n",
       "      <td>0.03</td>\n",
       "      <td>0.05</td>\n",
       "      <td>0.00</td>\n",
       "      <td>0.00</td>\n",
       "      <td>1.00</td>\n",
       "      <td>1.00</td>\n",
       "      <td>0.00</td>\n",
       "      <td>0.00</td>\n",
       "      <td>neptune</td>\n",
       "      <td>20</td>\n",
       "    </tr>\n",
       "    <tr>\n",
       "      <th>125972</th>\n",
       "      <td>0</td>\n",
       "      <td>tcp</td>\n",
       "      <td>ftp_data</td>\n",
       "      <td>SF</td>\n",
       "      <td>151</td>\n",
       "      <td>0</td>\n",
       "      <td>0</td>\n",
       "      <td>0</td>\n",
       "      <td>0</td>\n",
       "      <td>0</td>\n",
       "      <td>...</td>\n",
       "      <td>0.30</td>\n",
       "      <td>0.03</td>\n",
       "      <td>0.30</td>\n",
       "      <td>0.00</td>\n",
       "      <td>0.00</td>\n",
       "      <td>0.00</td>\n",
       "      <td>0.00</td>\n",
       "      <td>0.00</td>\n",
       "      <td>normal</td>\n",
       "      <td>21</td>\n",
       "    </tr>\n",
       "  </tbody>\n",
       "</table>\n",
       "<p>125973 rows × 43 columns</p>\n",
       "</div>"
      ],
      "text/plain": [
       "        duration protocol_type   service flag  src_bytes  dst_bytes  land  \\\n",
       "0              0           tcp  ftp_data   SF        491          0     0   \n",
       "1              0           udp     other   SF        146          0     0   \n",
       "2              0           tcp   private   S0          0          0     0   \n",
       "3              0           tcp      http   SF        232       8153     0   \n",
       "4              0           tcp      http   SF        199        420     0   \n",
       "...          ...           ...       ...  ...        ...        ...   ...   \n",
       "125968         0           tcp   private   S0          0          0     0   \n",
       "125969         8           udp   private   SF        105        145     0   \n",
       "125970         0           tcp      smtp   SF       2231        384     0   \n",
       "125971         0           tcp    klogin   S0          0          0     0   \n",
       "125972         0           tcp  ftp_data   SF        151          0     0   \n",
       "\n",
       "        wrong_fragment  urgent  hot  ...  dst_host_same_srv_rate  \\\n",
       "0                    0       0    0  ...                    0.17   \n",
       "1                    0       0    0  ...                    0.00   \n",
       "2                    0       0    0  ...                    0.10   \n",
       "3                    0       0    0  ...                    1.00   \n",
       "4                    0       0    0  ...                    1.00   \n",
       "...                ...     ...  ...  ...                     ...   \n",
       "125968               0       0    0  ...                    0.10   \n",
       "125969               0       0    0  ...                    0.96   \n",
       "125970               0       0    0  ...                    0.12   \n",
       "125971               0       0    0  ...                    0.03   \n",
       "125972               0       0    0  ...                    0.30   \n",
       "\n",
       "        dst_host_diff_srv_rate  dst_host_same_src_port_rate  \\\n",
       "0                         0.03                         0.17   \n",
       "1                         0.60                         0.88   \n",
       "2                         0.05                         0.00   \n",
       "3                         0.00                         0.03   \n",
       "4                         0.00                         0.00   \n",
       "...                        ...                          ...   \n",
       "125968                    0.06                         0.00   \n",
       "125969                    0.01                         0.01   \n",
       "125970                    0.06                         0.00   \n",
       "125971                    0.05                         0.00   \n",
       "125972                    0.03                         0.30   \n",
       "\n",
       "        dst_host_srv_diff_host_rate  dst_host_serror_rate  \\\n",
       "0                              0.00                  0.00   \n",
       "1                              0.00                  0.00   \n",
       "2                              0.00                  1.00   \n",
       "3                              0.04                  0.03   \n",
       "4                              0.00                  0.00   \n",
       "...                             ...                   ...   \n",
       "125968                         0.00                  1.00   \n",
       "125969                         0.00                  0.00   \n",
       "125970                         0.00                  0.72   \n",
       "125971                         0.00                  1.00   \n",
       "125972                         0.00                  0.00   \n",
       "\n",
       "        dst_host_srv_serror_rate  dst_host_rerror_rate  \\\n",
       "0                           0.00                  0.05   \n",
       "1                           0.00                  0.00   \n",
       "2                           1.00                  0.00   \n",
       "3                           0.01                  0.00   \n",
       "4                           0.00                  0.00   \n",
       "...                          ...                   ...   \n",
       "125968                      1.00                  0.00   \n",
       "125969                      0.00                  0.00   \n",
       "125970                      0.00                  0.01   \n",
       "125971                      1.00                  0.00   \n",
       "125972                      0.00                  0.00   \n",
       "\n",
       "        dst_host_srv_rerror_rate    label  difficulty  \n",
       "0                           0.00   normal          20  \n",
       "1                           0.00   normal          15  \n",
       "2                           0.00  neptune          19  \n",
       "3                           0.01   normal          21  \n",
       "4                           0.00   normal          21  \n",
       "...                          ...      ...         ...  \n",
       "125968                      0.00  neptune          20  \n",
       "125969                      0.00   normal          21  \n",
       "125970                      0.00   normal          18  \n",
       "125971                      0.00  neptune          20  \n",
       "125972                      0.00   normal          21  \n",
       "\n",
       "[125973 rows x 43 columns]"
      ]
     },
     "execution_count": 19,
     "metadata": {},
     "output_type": "execute_result"
    }
   ],
   "source": [
    "train_data"
   ]
  },
  {
   "cell_type": "code",
   "execution_count": 20,
   "id": "3d442c9e",
   "metadata": {
    "id": "nJsnY25htWvD",
    "outputId": "8ac42646-5511-4667-d343-ffba43fcdece",
    "papermill": {
     "duration": 0.183209,
     "end_time": "2021-12-22T10:13:47.335626",
     "exception": false,
     "start_time": "2021-12-22T10:13:47.152417",
     "status": "completed"
    },
    "tags": []
   },
   "outputs": [
    {
     "data": {
      "text/plain": [
       "(125973, 42)"
      ]
     },
     "execution_count": 20,
     "metadata": {},
     "output_type": "execute_result"
    }
   ],
   "source": [
    "# remove attribute 'difficulty_level'\n",
    "train_data.drop(['difficulty'],axis=1,inplace=True)\n",
    "train_data.shape"
   ]
  },
  {
   "cell_type": "markdown",
   "id": "5fec2bba",
   "metadata": {
    "id": "F8yAoyCsUPe_",
    "papermill": {
     "duration": 0.156111,
     "end_time": "2021-12-22T10:13:47.646754",
     "exception": false,
     "start_time": "2021-12-22T10:13:47.490643",
     "status": "completed"
    },
    "tags": []
   },
   "source": [
    "## Data Type Checking and Statistical Reports"
   ]
  },
  {
   "cell_type": "code",
   "execution_count": 21,
   "id": "92da7f76",
   "metadata": {
    "id": "A6SVqr3EnPzS",
    "outputId": "af9cb89d-c743-4a9d-985b-8bb0f85a7a47",
    "papermill": {
     "duration": 0.248261,
     "end_time": "2021-12-22T10:13:48.050050",
     "exception": false,
     "start_time": "2021-12-22T10:13:47.801789",
     "status": "completed"
    },
    "tags": []
   },
   "outputs": [
    {
     "name": "stdout",
     "output_type": "stream",
     "text": [
      "<class 'pandas.core.frame.DataFrame'>\n",
      "RangeIndex: 125973 entries, 0 to 125972\n",
      "Data columns (total 42 columns):\n",
      " #   Column                       Non-Null Count   Dtype  \n",
      "---  ------                       --------------   -----  \n",
      " 0   duration                     125973 non-null  int64  \n",
      " 1   protocol_type                125973 non-null  object \n",
      " 2   service                      125973 non-null  object \n",
      " 3   flag                         125973 non-null  object \n",
      " 4   src_bytes                    125973 non-null  int64  \n",
      " 5   dst_bytes                    125973 non-null  int64  \n",
      " 6   land                         125973 non-null  int64  \n",
      " 7   wrong_fragment               125973 non-null  int64  \n",
      " 8   urgent                       125973 non-null  int64  \n",
      " 9   hot                          125973 non-null  int64  \n",
      " 10  num_failed_logins            125973 non-null  int64  \n",
      " 11  logged_in                    125973 non-null  int64  \n",
      " 12  num_compromised              125973 non-null  int64  \n",
      " 13  root_shell                   125973 non-null  int64  \n",
      " 14  su_attempted                 125973 non-null  int64  \n",
      " 15  num_root                     125973 non-null  int64  \n",
      " 16  num_file_creations           125973 non-null  int64  \n",
      " 17  num_shells                   125973 non-null  int64  \n",
      " 18  num_access_files             125973 non-null  int64  \n",
      " 19  num_outbound_cmds            125973 non-null  int64  \n",
      " 20  is_host_login                125973 non-null  int64  \n",
      " 21  is_guest_login               125973 non-null  int64  \n",
      " 22  count                        125973 non-null  int64  \n",
      " 23  srv_count                    125973 non-null  int64  \n",
      " 24  serror_rate                  125973 non-null  float64\n",
      " 25  srv_serror_rate              125973 non-null  float64\n",
      " 26  rerror_rate                  125973 non-null  float64\n",
      " 27  srv_rerror_rate              125973 non-null  float64\n",
      " 28  same_srv_rate                125973 non-null  float64\n",
      " 29  diff_srv_rate                125973 non-null  float64\n",
      " 30  srv_diff_host_rate           125973 non-null  float64\n",
      " 31  dst_host_count               125973 non-null  int64  \n",
      " 32  dst_host_srv_count           125973 non-null  int64  \n",
      " 33  dst_host_same_srv_rate       125973 non-null  float64\n",
      " 34  dst_host_diff_srv_rate       125973 non-null  float64\n",
      " 35  dst_host_same_src_port_rate  125973 non-null  float64\n",
      " 36  dst_host_srv_diff_host_rate  125973 non-null  float64\n",
      " 37  dst_host_serror_rate         125973 non-null  float64\n",
      " 38  dst_host_srv_serror_rate     125973 non-null  float64\n",
      " 39  dst_host_rerror_rate         125973 non-null  float64\n",
      " 40  dst_host_srv_rerror_rate     125973 non-null  float64\n",
      " 41  label                        125973 non-null  object \n",
      "dtypes: float64(15), int64(23), object(4)\n",
      "memory usage: 40.4+ MB\n"
     ]
    }
   ],
   "source": [
    "train_data.info()"
   ]
  },
  {
   "cell_type": "code",
   "execution_count": 22,
   "id": "3e82d785",
   "metadata": {
    "id": "lpUo7BhojW5a",
    "outputId": "3e138bff-97ad-445c-d840-f843d59a43e6",
    "papermill": {
     "duration": 0.430867,
     "end_time": "2021-12-22T10:13:48.635631",
     "exception": false,
     "start_time": "2021-12-22T10:13:48.204764",
     "status": "completed"
    },
    "tags": []
   },
   "outputs": [
    {
     "data": {
      "text/html": [
       "<div>\n",
       "<style scoped>\n",
       "    .dataframe tbody tr th:only-of-type {\n",
       "        vertical-align: middle;\n",
       "    }\n",
       "\n",
       "    .dataframe tbody tr th {\n",
       "        vertical-align: top;\n",
       "    }\n",
       "\n",
       "    .dataframe thead th {\n",
       "        text-align: right;\n",
       "    }\n",
       "</style>\n",
       "<table border=\"1\" class=\"dataframe\">\n",
       "  <thead>\n",
       "    <tr style=\"text-align: right;\">\n",
       "      <th></th>\n",
       "      <th>count</th>\n",
       "      <th>mean</th>\n",
       "      <th>std</th>\n",
       "      <th>min</th>\n",
       "      <th>25%</th>\n",
       "      <th>50%</th>\n",
       "      <th>75%</th>\n",
       "      <th>max</th>\n",
       "    </tr>\n",
       "  </thead>\n",
       "  <tbody>\n",
       "    <tr>\n",
       "      <th>duration</th>\n",
       "      <td>125973.0</td>\n",
       "      <td>287.144650</td>\n",
       "      <td>2.604515e+03</td>\n",
       "      <td>0.0</td>\n",
       "      <td>0.00</td>\n",
       "      <td>0.00</td>\n",
       "      <td>0.00</td>\n",
       "      <td>4.290800e+04</td>\n",
       "    </tr>\n",
       "    <tr>\n",
       "      <th>src_bytes</th>\n",
       "      <td>125973.0</td>\n",
       "      <td>45566.743000</td>\n",
       "      <td>5.870331e+06</td>\n",
       "      <td>0.0</td>\n",
       "      <td>0.00</td>\n",
       "      <td>44.00</td>\n",
       "      <td>276.00</td>\n",
       "      <td>1.379964e+09</td>\n",
       "    </tr>\n",
       "    <tr>\n",
       "      <th>dst_bytes</th>\n",
       "      <td>125973.0</td>\n",
       "      <td>19779.114421</td>\n",
       "      <td>4.021269e+06</td>\n",
       "      <td>0.0</td>\n",
       "      <td>0.00</td>\n",
       "      <td>0.00</td>\n",
       "      <td>516.00</td>\n",
       "      <td>1.309937e+09</td>\n",
       "    </tr>\n",
       "    <tr>\n",
       "      <th>land</th>\n",
       "      <td>125973.0</td>\n",
       "      <td>0.000198</td>\n",
       "      <td>1.408607e-02</td>\n",
       "      <td>0.0</td>\n",
       "      <td>0.00</td>\n",
       "      <td>0.00</td>\n",
       "      <td>0.00</td>\n",
       "      <td>1.000000e+00</td>\n",
       "    </tr>\n",
       "    <tr>\n",
       "      <th>wrong_fragment</th>\n",
       "      <td>125973.0</td>\n",
       "      <td>0.022687</td>\n",
       "      <td>2.535300e-01</td>\n",
       "      <td>0.0</td>\n",
       "      <td>0.00</td>\n",
       "      <td>0.00</td>\n",
       "      <td>0.00</td>\n",
       "      <td>3.000000e+00</td>\n",
       "    </tr>\n",
       "    <tr>\n",
       "      <th>urgent</th>\n",
       "      <td>125973.0</td>\n",
       "      <td>0.000111</td>\n",
       "      <td>1.436603e-02</td>\n",
       "      <td>0.0</td>\n",
       "      <td>0.00</td>\n",
       "      <td>0.00</td>\n",
       "      <td>0.00</td>\n",
       "      <td>3.000000e+00</td>\n",
       "    </tr>\n",
       "    <tr>\n",
       "      <th>hot</th>\n",
       "      <td>125973.0</td>\n",
       "      <td>0.204409</td>\n",
       "      <td>2.149968e+00</td>\n",
       "      <td>0.0</td>\n",
       "      <td>0.00</td>\n",
       "      <td>0.00</td>\n",
       "      <td>0.00</td>\n",
       "      <td>7.700000e+01</td>\n",
       "    </tr>\n",
       "    <tr>\n",
       "      <th>num_failed_logins</th>\n",
       "      <td>125973.0</td>\n",
       "      <td>0.001222</td>\n",
       "      <td>4.523914e-02</td>\n",
       "      <td>0.0</td>\n",
       "      <td>0.00</td>\n",
       "      <td>0.00</td>\n",
       "      <td>0.00</td>\n",
       "      <td>5.000000e+00</td>\n",
       "    </tr>\n",
       "    <tr>\n",
       "      <th>logged_in</th>\n",
       "      <td>125973.0</td>\n",
       "      <td>0.395736</td>\n",
       "      <td>4.890101e-01</td>\n",
       "      <td>0.0</td>\n",
       "      <td>0.00</td>\n",
       "      <td>0.00</td>\n",
       "      <td>1.00</td>\n",
       "      <td>1.000000e+00</td>\n",
       "    </tr>\n",
       "    <tr>\n",
       "      <th>num_compromised</th>\n",
       "      <td>125973.0</td>\n",
       "      <td>0.279250</td>\n",
       "      <td>2.394204e+01</td>\n",
       "      <td>0.0</td>\n",
       "      <td>0.00</td>\n",
       "      <td>0.00</td>\n",
       "      <td>0.00</td>\n",
       "      <td>7.479000e+03</td>\n",
       "    </tr>\n",
       "    <tr>\n",
       "      <th>root_shell</th>\n",
       "      <td>125973.0</td>\n",
       "      <td>0.001342</td>\n",
       "      <td>3.660284e-02</td>\n",
       "      <td>0.0</td>\n",
       "      <td>0.00</td>\n",
       "      <td>0.00</td>\n",
       "      <td>0.00</td>\n",
       "      <td>1.000000e+00</td>\n",
       "    </tr>\n",
       "    <tr>\n",
       "      <th>su_attempted</th>\n",
       "      <td>125973.0</td>\n",
       "      <td>0.001103</td>\n",
       "      <td>4.515438e-02</td>\n",
       "      <td>0.0</td>\n",
       "      <td>0.00</td>\n",
       "      <td>0.00</td>\n",
       "      <td>0.00</td>\n",
       "      <td>2.000000e+00</td>\n",
       "    </tr>\n",
       "    <tr>\n",
       "      <th>num_root</th>\n",
       "      <td>125973.0</td>\n",
       "      <td>0.302192</td>\n",
       "      <td>2.439962e+01</td>\n",
       "      <td>0.0</td>\n",
       "      <td>0.00</td>\n",
       "      <td>0.00</td>\n",
       "      <td>0.00</td>\n",
       "      <td>7.468000e+03</td>\n",
       "    </tr>\n",
       "    <tr>\n",
       "      <th>num_file_creations</th>\n",
       "      <td>125973.0</td>\n",
       "      <td>0.012669</td>\n",
       "      <td>4.839351e-01</td>\n",
       "      <td>0.0</td>\n",
       "      <td>0.00</td>\n",
       "      <td>0.00</td>\n",
       "      <td>0.00</td>\n",
       "      <td>4.300000e+01</td>\n",
       "    </tr>\n",
       "    <tr>\n",
       "      <th>num_shells</th>\n",
       "      <td>125973.0</td>\n",
       "      <td>0.000413</td>\n",
       "      <td>2.218113e-02</td>\n",
       "      <td>0.0</td>\n",
       "      <td>0.00</td>\n",
       "      <td>0.00</td>\n",
       "      <td>0.00</td>\n",
       "      <td>2.000000e+00</td>\n",
       "    </tr>\n",
       "    <tr>\n",
       "      <th>num_access_files</th>\n",
       "      <td>125973.0</td>\n",
       "      <td>0.004096</td>\n",
       "      <td>9.936956e-02</td>\n",
       "      <td>0.0</td>\n",
       "      <td>0.00</td>\n",
       "      <td>0.00</td>\n",
       "      <td>0.00</td>\n",
       "      <td>9.000000e+00</td>\n",
       "    </tr>\n",
       "    <tr>\n",
       "      <th>num_outbound_cmds</th>\n",
       "      <td>125973.0</td>\n",
       "      <td>0.000000</td>\n",
       "      <td>0.000000e+00</td>\n",
       "      <td>0.0</td>\n",
       "      <td>0.00</td>\n",
       "      <td>0.00</td>\n",
       "      <td>0.00</td>\n",
       "      <td>0.000000e+00</td>\n",
       "    </tr>\n",
       "    <tr>\n",
       "      <th>is_host_login</th>\n",
       "      <td>125973.0</td>\n",
       "      <td>0.000008</td>\n",
       "      <td>2.817483e-03</td>\n",
       "      <td>0.0</td>\n",
       "      <td>0.00</td>\n",
       "      <td>0.00</td>\n",
       "      <td>0.00</td>\n",
       "      <td>1.000000e+00</td>\n",
       "    </tr>\n",
       "    <tr>\n",
       "      <th>is_guest_login</th>\n",
       "      <td>125973.0</td>\n",
       "      <td>0.009423</td>\n",
       "      <td>9.661233e-02</td>\n",
       "      <td>0.0</td>\n",
       "      <td>0.00</td>\n",
       "      <td>0.00</td>\n",
       "      <td>0.00</td>\n",
       "      <td>1.000000e+00</td>\n",
       "    </tr>\n",
       "    <tr>\n",
       "      <th>count</th>\n",
       "      <td>125973.0</td>\n",
       "      <td>84.107555</td>\n",
       "      <td>1.145086e+02</td>\n",
       "      <td>0.0</td>\n",
       "      <td>2.00</td>\n",
       "      <td>14.00</td>\n",
       "      <td>143.00</td>\n",
       "      <td>5.110000e+02</td>\n",
       "    </tr>\n",
       "    <tr>\n",
       "      <th>srv_count</th>\n",
       "      <td>125973.0</td>\n",
       "      <td>27.737888</td>\n",
       "      <td>7.263584e+01</td>\n",
       "      <td>0.0</td>\n",
       "      <td>2.00</td>\n",
       "      <td>8.00</td>\n",
       "      <td>18.00</td>\n",
       "      <td>5.110000e+02</td>\n",
       "    </tr>\n",
       "    <tr>\n",
       "      <th>serror_rate</th>\n",
       "      <td>125973.0</td>\n",
       "      <td>0.284485</td>\n",
       "      <td>4.464556e-01</td>\n",
       "      <td>0.0</td>\n",
       "      <td>0.00</td>\n",
       "      <td>0.00</td>\n",
       "      <td>1.00</td>\n",
       "      <td>1.000000e+00</td>\n",
       "    </tr>\n",
       "    <tr>\n",
       "      <th>srv_serror_rate</th>\n",
       "      <td>125973.0</td>\n",
       "      <td>0.282485</td>\n",
       "      <td>4.470225e-01</td>\n",
       "      <td>0.0</td>\n",
       "      <td>0.00</td>\n",
       "      <td>0.00</td>\n",
       "      <td>1.00</td>\n",
       "      <td>1.000000e+00</td>\n",
       "    </tr>\n",
       "    <tr>\n",
       "      <th>rerror_rate</th>\n",
       "      <td>125973.0</td>\n",
       "      <td>0.119958</td>\n",
       "      <td>3.204355e-01</td>\n",
       "      <td>0.0</td>\n",
       "      <td>0.00</td>\n",
       "      <td>0.00</td>\n",
       "      <td>0.00</td>\n",
       "      <td>1.000000e+00</td>\n",
       "    </tr>\n",
       "    <tr>\n",
       "      <th>srv_rerror_rate</th>\n",
       "      <td>125973.0</td>\n",
       "      <td>0.121183</td>\n",
       "      <td>3.236472e-01</td>\n",
       "      <td>0.0</td>\n",
       "      <td>0.00</td>\n",
       "      <td>0.00</td>\n",
       "      <td>0.00</td>\n",
       "      <td>1.000000e+00</td>\n",
       "    </tr>\n",
       "    <tr>\n",
       "      <th>same_srv_rate</th>\n",
       "      <td>125973.0</td>\n",
       "      <td>0.660928</td>\n",
       "      <td>4.396229e-01</td>\n",
       "      <td>0.0</td>\n",
       "      <td>0.09</td>\n",
       "      <td>1.00</td>\n",
       "      <td>1.00</td>\n",
       "      <td>1.000000e+00</td>\n",
       "    </tr>\n",
       "    <tr>\n",
       "      <th>diff_srv_rate</th>\n",
       "      <td>125973.0</td>\n",
       "      <td>0.063053</td>\n",
       "      <td>1.803144e-01</td>\n",
       "      <td>0.0</td>\n",
       "      <td>0.00</td>\n",
       "      <td>0.00</td>\n",
       "      <td>0.06</td>\n",
       "      <td>1.000000e+00</td>\n",
       "    </tr>\n",
       "    <tr>\n",
       "      <th>srv_diff_host_rate</th>\n",
       "      <td>125973.0</td>\n",
       "      <td>0.097322</td>\n",
       "      <td>2.598305e-01</td>\n",
       "      <td>0.0</td>\n",
       "      <td>0.00</td>\n",
       "      <td>0.00</td>\n",
       "      <td>0.00</td>\n",
       "      <td>1.000000e+00</td>\n",
       "    </tr>\n",
       "    <tr>\n",
       "      <th>dst_host_count</th>\n",
       "      <td>125973.0</td>\n",
       "      <td>182.148945</td>\n",
       "      <td>9.920621e+01</td>\n",
       "      <td>0.0</td>\n",
       "      <td>82.00</td>\n",
       "      <td>255.00</td>\n",
       "      <td>255.00</td>\n",
       "      <td>2.550000e+02</td>\n",
       "    </tr>\n",
       "    <tr>\n",
       "      <th>dst_host_srv_count</th>\n",
       "      <td>125973.0</td>\n",
       "      <td>115.653005</td>\n",
       "      <td>1.107027e+02</td>\n",
       "      <td>0.0</td>\n",
       "      <td>10.00</td>\n",
       "      <td>63.00</td>\n",
       "      <td>255.00</td>\n",
       "      <td>2.550000e+02</td>\n",
       "    </tr>\n",
       "    <tr>\n",
       "      <th>dst_host_same_srv_rate</th>\n",
       "      <td>125973.0</td>\n",
       "      <td>0.521242</td>\n",
       "      <td>4.489494e-01</td>\n",
       "      <td>0.0</td>\n",
       "      <td>0.05</td>\n",
       "      <td>0.51</td>\n",
       "      <td>1.00</td>\n",
       "      <td>1.000000e+00</td>\n",
       "    </tr>\n",
       "    <tr>\n",
       "      <th>dst_host_diff_srv_rate</th>\n",
       "      <td>125973.0</td>\n",
       "      <td>0.082951</td>\n",
       "      <td>1.889218e-01</td>\n",
       "      <td>0.0</td>\n",
       "      <td>0.00</td>\n",
       "      <td>0.02</td>\n",
       "      <td>0.07</td>\n",
       "      <td>1.000000e+00</td>\n",
       "    </tr>\n",
       "    <tr>\n",
       "      <th>dst_host_same_src_port_rate</th>\n",
       "      <td>125973.0</td>\n",
       "      <td>0.148379</td>\n",
       "      <td>3.089971e-01</td>\n",
       "      <td>0.0</td>\n",
       "      <td>0.00</td>\n",
       "      <td>0.00</td>\n",
       "      <td>0.06</td>\n",
       "      <td>1.000000e+00</td>\n",
       "    </tr>\n",
       "    <tr>\n",
       "      <th>dst_host_srv_diff_host_rate</th>\n",
       "      <td>125973.0</td>\n",
       "      <td>0.032542</td>\n",
       "      <td>1.125638e-01</td>\n",
       "      <td>0.0</td>\n",
       "      <td>0.00</td>\n",
       "      <td>0.00</td>\n",
       "      <td>0.02</td>\n",
       "      <td>1.000000e+00</td>\n",
       "    </tr>\n",
       "    <tr>\n",
       "      <th>dst_host_serror_rate</th>\n",
       "      <td>125973.0</td>\n",
       "      <td>0.284452</td>\n",
       "      <td>4.447841e-01</td>\n",
       "      <td>0.0</td>\n",
       "      <td>0.00</td>\n",
       "      <td>0.00</td>\n",
       "      <td>1.00</td>\n",
       "      <td>1.000000e+00</td>\n",
       "    </tr>\n",
       "    <tr>\n",
       "      <th>dst_host_srv_serror_rate</th>\n",
       "      <td>125973.0</td>\n",
       "      <td>0.278485</td>\n",
       "      <td>4.456691e-01</td>\n",
       "      <td>0.0</td>\n",
       "      <td>0.00</td>\n",
       "      <td>0.00</td>\n",
       "      <td>1.00</td>\n",
       "      <td>1.000000e+00</td>\n",
       "    </tr>\n",
       "    <tr>\n",
       "      <th>dst_host_rerror_rate</th>\n",
       "      <td>125973.0</td>\n",
       "      <td>0.118832</td>\n",
       "      <td>3.065575e-01</td>\n",
       "      <td>0.0</td>\n",
       "      <td>0.00</td>\n",
       "      <td>0.00</td>\n",
       "      <td>0.00</td>\n",
       "      <td>1.000000e+00</td>\n",
       "    </tr>\n",
       "    <tr>\n",
       "      <th>dst_host_srv_rerror_rate</th>\n",
       "      <td>125973.0</td>\n",
       "      <td>0.120240</td>\n",
       "      <td>3.194594e-01</td>\n",
       "      <td>0.0</td>\n",
       "      <td>0.00</td>\n",
       "      <td>0.00</td>\n",
       "      <td>0.00</td>\n",
       "      <td>1.000000e+00</td>\n",
       "    </tr>\n",
       "  </tbody>\n",
       "</table>\n",
       "</div>"
      ],
      "text/plain": [
       "                                count          mean           std  min    25%  \\\n",
       "duration                     125973.0    287.144650  2.604515e+03  0.0   0.00   \n",
       "src_bytes                    125973.0  45566.743000  5.870331e+06  0.0   0.00   \n",
       "dst_bytes                    125973.0  19779.114421  4.021269e+06  0.0   0.00   \n",
       "land                         125973.0      0.000198  1.408607e-02  0.0   0.00   \n",
       "wrong_fragment               125973.0      0.022687  2.535300e-01  0.0   0.00   \n",
       "urgent                       125973.0      0.000111  1.436603e-02  0.0   0.00   \n",
       "hot                          125973.0      0.204409  2.149968e+00  0.0   0.00   \n",
       "num_failed_logins            125973.0      0.001222  4.523914e-02  0.0   0.00   \n",
       "logged_in                    125973.0      0.395736  4.890101e-01  0.0   0.00   \n",
       "num_compromised              125973.0      0.279250  2.394204e+01  0.0   0.00   \n",
       "root_shell                   125973.0      0.001342  3.660284e-02  0.0   0.00   \n",
       "su_attempted                 125973.0      0.001103  4.515438e-02  0.0   0.00   \n",
       "num_root                     125973.0      0.302192  2.439962e+01  0.0   0.00   \n",
       "num_file_creations           125973.0      0.012669  4.839351e-01  0.0   0.00   \n",
       "num_shells                   125973.0      0.000413  2.218113e-02  0.0   0.00   \n",
       "num_access_files             125973.0      0.004096  9.936956e-02  0.0   0.00   \n",
       "num_outbound_cmds            125973.0      0.000000  0.000000e+00  0.0   0.00   \n",
       "is_host_login                125973.0      0.000008  2.817483e-03  0.0   0.00   \n",
       "is_guest_login               125973.0      0.009423  9.661233e-02  0.0   0.00   \n",
       "count                        125973.0     84.107555  1.145086e+02  0.0   2.00   \n",
       "srv_count                    125973.0     27.737888  7.263584e+01  0.0   2.00   \n",
       "serror_rate                  125973.0      0.284485  4.464556e-01  0.0   0.00   \n",
       "srv_serror_rate              125973.0      0.282485  4.470225e-01  0.0   0.00   \n",
       "rerror_rate                  125973.0      0.119958  3.204355e-01  0.0   0.00   \n",
       "srv_rerror_rate              125973.0      0.121183  3.236472e-01  0.0   0.00   \n",
       "same_srv_rate                125973.0      0.660928  4.396229e-01  0.0   0.09   \n",
       "diff_srv_rate                125973.0      0.063053  1.803144e-01  0.0   0.00   \n",
       "srv_diff_host_rate           125973.0      0.097322  2.598305e-01  0.0   0.00   \n",
       "dst_host_count               125973.0    182.148945  9.920621e+01  0.0  82.00   \n",
       "dst_host_srv_count           125973.0    115.653005  1.107027e+02  0.0  10.00   \n",
       "dst_host_same_srv_rate       125973.0      0.521242  4.489494e-01  0.0   0.05   \n",
       "dst_host_diff_srv_rate       125973.0      0.082951  1.889218e-01  0.0   0.00   \n",
       "dst_host_same_src_port_rate  125973.0      0.148379  3.089971e-01  0.0   0.00   \n",
       "dst_host_srv_diff_host_rate  125973.0      0.032542  1.125638e-01  0.0   0.00   \n",
       "dst_host_serror_rate         125973.0      0.284452  4.447841e-01  0.0   0.00   \n",
       "dst_host_srv_serror_rate     125973.0      0.278485  4.456691e-01  0.0   0.00   \n",
       "dst_host_rerror_rate         125973.0      0.118832  3.065575e-01  0.0   0.00   \n",
       "dst_host_srv_rerror_rate     125973.0      0.120240  3.194594e-01  0.0   0.00   \n",
       "\n",
       "                                50%     75%           max  \n",
       "duration                       0.00    0.00  4.290800e+04  \n",
       "src_bytes                     44.00  276.00  1.379964e+09  \n",
       "dst_bytes                      0.00  516.00  1.309937e+09  \n",
       "land                           0.00    0.00  1.000000e+00  \n",
       "wrong_fragment                 0.00    0.00  3.000000e+00  \n",
       "urgent                         0.00    0.00  3.000000e+00  \n",
       "hot                            0.00    0.00  7.700000e+01  \n",
       "num_failed_logins              0.00    0.00  5.000000e+00  \n",
       "logged_in                      0.00    1.00  1.000000e+00  \n",
       "num_compromised                0.00    0.00  7.479000e+03  \n",
       "root_shell                     0.00    0.00  1.000000e+00  \n",
       "su_attempted                   0.00    0.00  2.000000e+00  \n",
       "num_root                       0.00    0.00  7.468000e+03  \n",
       "num_file_creations             0.00    0.00  4.300000e+01  \n",
       "num_shells                     0.00    0.00  2.000000e+00  \n",
       "num_access_files               0.00    0.00  9.000000e+00  \n",
       "num_outbound_cmds              0.00    0.00  0.000000e+00  \n",
       "is_host_login                  0.00    0.00  1.000000e+00  \n",
       "is_guest_login                 0.00    0.00  1.000000e+00  \n",
       "count                         14.00  143.00  5.110000e+02  \n",
       "srv_count                      8.00   18.00  5.110000e+02  \n",
       "serror_rate                    0.00    1.00  1.000000e+00  \n",
       "srv_serror_rate                0.00    1.00  1.000000e+00  \n",
       "rerror_rate                    0.00    0.00  1.000000e+00  \n",
       "srv_rerror_rate                0.00    0.00  1.000000e+00  \n",
       "same_srv_rate                  1.00    1.00  1.000000e+00  \n",
       "diff_srv_rate                  0.00    0.06  1.000000e+00  \n",
       "srv_diff_host_rate             0.00    0.00  1.000000e+00  \n",
       "dst_host_count               255.00  255.00  2.550000e+02  \n",
       "dst_host_srv_count            63.00  255.00  2.550000e+02  \n",
       "dst_host_same_srv_rate         0.51    1.00  1.000000e+00  \n",
       "dst_host_diff_srv_rate         0.02    0.07  1.000000e+00  \n",
       "dst_host_same_src_port_rate    0.00    0.06  1.000000e+00  \n",
       "dst_host_srv_diff_host_rate    0.00    0.02  1.000000e+00  \n",
       "dst_host_serror_rate           0.00    1.00  1.000000e+00  \n",
       "dst_host_srv_serror_rate       0.00    1.00  1.000000e+00  \n",
       "dst_host_rerror_rate           0.00    0.00  1.000000e+00  \n",
       "dst_host_srv_rerror_rate       0.00    0.00  1.000000e+00  "
      ]
     },
     "execution_count": 22,
     "metadata": {},
     "output_type": "execute_result"
    }
   ],
   "source": [
    "train_data.describe().T"
   ]
  },
  {
   "cell_type": "code",
   "execution_count": 23,
   "id": "e009abf4",
   "metadata": {
    "id": "wRg5GZPwtth6",
    "outputId": "4193afdc-6b68-48c8-b92a-29675bd6a721",
    "papermill": {
     "duration": 0.186278,
     "end_time": "2021-12-22T10:13:48.975165",
     "exception": false,
     "start_time": "2021-12-22T10:13:48.788887",
     "status": "completed"
    },
    "tags": []
   },
   "outputs": [
    {
     "data": {
      "text/plain": [
       "normal             67343\n",
       "neptune            41214\n",
       "satan               3633\n",
       "ipsweep             3599\n",
       "portsweep           2931\n",
       "smurf               2646\n",
       "nmap                1493\n",
       "back                 956\n",
       "teardrop             892\n",
       "warezclient          890\n",
       "pod                  201\n",
       "guess_passwd          53\n",
       "buffer_overflow       30\n",
       "warezmaster           20\n",
       "land                  18\n",
       "imap                  11\n",
       "rootkit               10\n",
       "loadmodule             9\n",
       "ftp_write              8\n",
       "multihop               7\n",
       "phf                    4\n",
       "perl                   3\n",
       "spy                    2\n",
       "Name: label, dtype: int64"
      ]
     },
     "execution_count": 23,
     "metadata": {},
     "output_type": "execute_result"
    }
   ],
   "source": [
    "# number of attack labels \n",
    "train_data['label'].value_counts()"
   ]
  },
  {
   "cell_type": "markdown",
   "id": "703aa9d9",
   "metadata": {
    "id": "-hIflPGkVDxW",
    "papermill": {
     "duration": 0.152831,
     "end_time": "2021-12-22T10:13:49.283504",
     "exception": false,
     "start_time": "2021-12-22T10:13:49.130673",
     "status": "completed"
    },
    "tags": []
   },
   "source": [
    "# **Data Analysis**\n",
    "\n",
    "\n",
    "*   Data Visualization\n",
    "*   Data Mining\n",
    "\n"
   ]
  },
  {
   "cell_type": "markdown",
   "id": "01f3cf3c",
   "metadata": {
    "id": "vM5IYMkvlVdb",
    "papermill": {
     "duration": 0.163395,
     "end_time": "2021-12-22T10:13:50.304188",
     "exception": false,
     "start_time": "2021-12-22T10:13:50.140793",
     "status": "completed"
    },
    "tags": []
   },
   "source": [
    "### Label"
   ]
  },
  {
   "cell_type": "code",
   "execution_count": 27,
   "id": "42f0b6ce",
   "metadata": {
    "id": "f47hlRLXkBej",
    "outputId": "1f9934a7-8ff4-4561-eaf3-3f20550ebd6b",
    "papermill": {
     "duration": 0.186386,
     "end_time": "2021-12-22T10:13:50.647075",
     "exception": false,
     "start_time": "2021-12-22T10:13:50.460689",
     "status": "completed"
    },
    "tags": []
   },
   "outputs": [
    {
     "data": {
      "application/vnd.plotly.v1+json": {
       "config": {
        "plotlyServerURL": "https://plot.ly"
       },
       "data": [
        {
         "domain": {
          "x": [
           0,
           1
          ],
          "y": [
           0,
           1
          ]
         },
         "hovertemplate": "label=%{label}<br>value=%{value}<extra></extra>",
         "labels": [
          "normal",
          "neptune",
          "warezclient",
          "ipsweep",
          "portsweep",
          "teardrop",
          "nmap",
          "satan",
          "smurf",
          "pod",
          "back",
          "guess_passwd",
          "ftp_write",
          "multihop",
          "rootkit",
          "buffer_overflow",
          "imap",
          "warezmaster",
          "phf",
          "land",
          "loadmodule",
          "spy",
          "perl"
         ],
         "legendgroup": "",
         "name": "",
         "showlegend": true,
         "type": "pie",
         "values": [
          67343,
          41214,
          3633,
          3599,
          2931,
          2646,
          1493,
          956,
          892,
          890,
          201,
          53,
          30,
          20,
          18,
          11,
          10,
          9,
          8,
          7,
          4,
          3,
          2
         ]
        }
       ],
       "layout": {
        "height": 1000,
        "legend": {
         "tracegroupgap": 0
        },
        "template": {
         "data": {
          "bar": [
           {
            "error_x": {
             "color": "#2a3f5f"
            },
            "error_y": {
             "color": "#2a3f5f"
            },
            "marker": {
             "line": {
              "color": "#E5ECF6",
              "width": 0.5
             },
             "pattern": {
              "fillmode": "overlay",
              "size": 10,
              "solidity": 0.2
             }
            },
            "type": "bar"
           }
          ],
          "barpolar": [
           {
            "marker": {
             "line": {
              "color": "#E5ECF6",
              "width": 0.5
             },
             "pattern": {
              "fillmode": "overlay",
              "size": 10,
              "solidity": 0.2
             }
            },
            "type": "barpolar"
           }
          ],
          "carpet": [
           {
            "aaxis": {
             "endlinecolor": "#2a3f5f",
             "gridcolor": "white",
             "linecolor": "white",
             "minorgridcolor": "white",
             "startlinecolor": "#2a3f5f"
            },
            "baxis": {
             "endlinecolor": "#2a3f5f",
             "gridcolor": "white",
             "linecolor": "white",
             "minorgridcolor": "white",
             "startlinecolor": "#2a3f5f"
            },
            "type": "carpet"
           }
          ],
          "choropleth": [
           {
            "colorbar": {
             "outlinewidth": 0,
             "ticks": ""
            },
            "type": "choropleth"
           }
          ],
          "contour": [
           {
            "colorbar": {
             "outlinewidth": 0,
             "ticks": ""
            },
            "colorscale": [
             [
              0,
              "#0d0887"
             ],
             [
              0.1111111111111111,
              "#46039f"
             ],
             [
              0.2222222222222222,
              "#7201a8"
             ],
             [
              0.3333333333333333,
              "#9c179e"
             ],
             [
              0.4444444444444444,
              "#bd3786"
             ],
             [
              0.5555555555555556,
              "#d8576b"
             ],
             [
              0.6666666666666666,
              "#ed7953"
             ],
             [
              0.7777777777777778,
              "#fb9f3a"
             ],
             [
              0.8888888888888888,
              "#fdca26"
             ],
             [
              1,
              "#f0f921"
             ]
            ],
            "type": "contour"
           }
          ],
          "contourcarpet": [
           {
            "colorbar": {
             "outlinewidth": 0,
             "ticks": ""
            },
            "type": "contourcarpet"
           }
          ],
          "heatmap": [
           {
            "colorbar": {
             "outlinewidth": 0,
             "ticks": ""
            },
            "colorscale": [
             [
              0,
              "#0d0887"
             ],
             [
              0.1111111111111111,
              "#46039f"
             ],
             [
              0.2222222222222222,
              "#7201a8"
             ],
             [
              0.3333333333333333,
              "#9c179e"
             ],
             [
              0.4444444444444444,
              "#bd3786"
             ],
             [
              0.5555555555555556,
              "#d8576b"
             ],
             [
              0.6666666666666666,
              "#ed7953"
             ],
             [
              0.7777777777777778,
              "#fb9f3a"
             ],
             [
              0.8888888888888888,
              "#fdca26"
             ],
             [
              1,
              "#f0f921"
             ]
            ],
            "type": "heatmap"
           }
          ],
          "heatmapgl": [
           {
            "colorbar": {
             "outlinewidth": 0,
             "ticks": ""
            },
            "colorscale": [
             [
              0,
              "#0d0887"
             ],
             [
              0.1111111111111111,
              "#46039f"
             ],
             [
              0.2222222222222222,
              "#7201a8"
             ],
             [
              0.3333333333333333,
              "#9c179e"
             ],
             [
              0.4444444444444444,
              "#bd3786"
             ],
             [
              0.5555555555555556,
              "#d8576b"
             ],
             [
              0.6666666666666666,
              "#ed7953"
             ],
             [
              0.7777777777777778,
              "#fb9f3a"
             ],
             [
              0.8888888888888888,
              "#fdca26"
             ],
             [
              1,
              "#f0f921"
             ]
            ],
            "type": "heatmapgl"
           }
          ],
          "histogram": [
           {
            "marker": {
             "pattern": {
              "fillmode": "overlay",
              "size": 10,
              "solidity": 0.2
             }
            },
            "type": "histogram"
           }
          ],
          "histogram2d": [
           {
            "colorbar": {
             "outlinewidth": 0,
             "ticks": ""
            },
            "colorscale": [
             [
              0,
              "#0d0887"
             ],
             [
              0.1111111111111111,
              "#46039f"
             ],
             [
              0.2222222222222222,
              "#7201a8"
             ],
             [
              0.3333333333333333,
              "#9c179e"
             ],
             [
              0.4444444444444444,
              "#bd3786"
             ],
             [
              0.5555555555555556,
              "#d8576b"
             ],
             [
              0.6666666666666666,
              "#ed7953"
             ],
             [
              0.7777777777777778,
              "#fb9f3a"
             ],
             [
              0.8888888888888888,
              "#fdca26"
             ],
             [
              1,
              "#f0f921"
             ]
            ],
            "type": "histogram2d"
           }
          ],
          "histogram2dcontour": [
           {
            "colorbar": {
             "outlinewidth": 0,
             "ticks": ""
            },
            "colorscale": [
             [
              0,
              "#0d0887"
             ],
             [
              0.1111111111111111,
              "#46039f"
             ],
             [
              0.2222222222222222,
              "#7201a8"
             ],
             [
              0.3333333333333333,
              "#9c179e"
             ],
             [
              0.4444444444444444,
              "#bd3786"
             ],
             [
              0.5555555555555556,
              "#d8576b"
             ],
             [
              0.6666666666666666,
              "#ed7953"
             ],
             [
              0.7777777777777778,
              "#fb9f3a"
             ],
             [
              0.8888888888888888,
              "#fdca26"
             ],
             [
              1,
              "#f0f921"
             ]
            ],
            "type": "histogram2dcontour"
           }
          ],
          "mesh3d": [
           {
            "colorbar": {
             "outlinewidth": 0,
             "ticks": ""
            },
            "type": "mesh3d"
           }
          ],
          "parcoords": [
           {
            "line": {
             "colorbar": {
              "outlinewidth": 0,
              "ticks": ""
             }
            },
            "type": "parcoords"
           }
          ],
          "pie": [
           {
            "automargin": true,
            "type": "pie"
           }
          ],
          "scatter": [
           {
            "fillpattern": {
             "fillmode": "overlay",
             "size": 10,
             "solidity": 0.2
            },
            "type": "scatter"
           }
          ],
          "scatter3d": [
           {
            "line": {
             "colorbar": {
              "outlinewidth": 0,
              "ticks": ""
             }
            },
            "marker": {
             "colorbar": {
              "outlinewidth": 0,
              "ticks": ""
             }
            },
            "type": "scatter3d"
           }
          ],
          "scattercarpet": [
           {
            "marker": {
             "colorbar": {
              "outlinewidth": 0,
              "ticks": ""
             }
            },
            "type": "scattercarpet"
           }
          ],
          "scattergeo": [
           {
            "marker": {
             "colorbar": {
              "outlinewidth": 0,
              "ticks": ""
             }
            },
            "type": "scattergeo"
           }
          ],
          "scattergl": [
           {
            "marker": {
             "colorbar": {
              "outlinewidth": 0,
              "ticks": ""
             }
            },
            "type": "scattergl"
           }
          ],
          "scattermapbox": [
           {
            "marker": {
             "colorbar": {
              "outlinewidth": 0,
              "ticks": ""
             }
            },
            "type": "scattermapbox"
           }
          ],
          "scatterpolar": [
           {
            "marker": {
             "colorbar": {
              "outlinewidth": 0,
              "ticks": ""
             }
            },
            "type": "scatterpolar"
           }
          ],
          "scatterpolargl": [
           {
            "marker": {
             "colorbar": {
              "outlinewidth": 0,
              "ticks": ""
             }
            },
            "type": "scatterpolargl"
           }
          ],
          "scatterternary": [
           {
            "marker": {
             "colorbar": {
              "outlinewidth": 0,
              "ticks": ""
             }
            },
            "type": "scatterternary"
           }
          ],
          "surface": [
           {
            "colorbar": {
             "outlinewidth": 0,
             "ticks": ""
            },
            "colorscale": [
             [
              0,
              "#0d0887"
             ],
             [
              0.1111111111111111,
              "#46039f"
             ],
             [
              0.2222222222222222,
              "#7201a8"
             ],
             [
              0.3333333333333333,
              "#9c179e"
             ],
             [
              0.4444444444444444,
              "#bd3786"
             ],
             [
              0.5555555555555556,
              "#d8576b"
             ],
             [
              0.6666666666666666,
              "#ed7953"
             ],
             [
              0.7777777777777778,
              "#fb9f3a"
             ],
             [
              0.8888888888888888,
              "#fdca26"
             ],
             [
              1,
              "#f0f921"
             ]
            ],
            "type": "surface"
           }
          ],
          "table": [
           {
            "cells": {
             "fill": {
              "color": "#EBF0F8"
             },
             "line": {
              "color": "white"
             }
            },
            "header": {
             "fill": {
              "color": "#C8D4E3"
             },
             "line": {
              "color": "white"
             }
            },
            "type": "table"
           }
          ]
         },
         "layout": {
          "annotationdefaults": {
           "arrowcolor": "#2a3f5f",
           "arrowhead": 0,
           "arrowwidth": 1
          },
          "autotypenumbers": "strict",
          "coloraxis": {
           "colorbar": {
            "outlinewidth": 0,
            "ticks": ""
           }
          },
          "colorscale": {
           "diverging": [
            [
             0,
             "#8e0152"
            ],
            [
             0.1,
             "#c51b7d"
            ],
            [
             0.2,
             "#de77ae"
            ],
            [
             0.3,
             "#f1b6da"
            ],
            [
             0.4,
             "#fde0ef"
            ],
            [
             0.5,
             "#f7f7f7"
            ],
            [
             0.6,
             "#e6f5d0"
            ],
            [
             0.7,
             "#b8e186"
            ],
            [
             0.8,
             "#7fbc41"
            ],
            [
             0.9,
             "#4d9221"
            ],
            [
             1,
             "#276419"
            ]
           ],
           "sequential": [
            [
             0,
             "#0d0887"
            ],
            [
             0.1111111111111111,
             "#46039f"
            ],
            [
             0.2222222222222222,
             "#7201a8"
            ],
            [
             0.3333333333333333,
             "#9c179e"
            ],
            [
             0.4444444444444444,
             "#bd3786"
            ],
            [
             0.5555555555555556,
             "#d8576b"
            ],
            [
             0.6666666666666666,
             "#ed7953"
            ],
            [
             0.7777777777777778,
             "#fb9f3a"
            ],
            [
             0.8888888888888888,
             "#fdca26"
            ],
            [
             1,
             "#f0f921"
            ]
           ],
           "sequentialminus": [
            [
             0,
             "#0d0887"
            ],
            [
             0.1111111111111111,
             "#46039f"
            ],
            [
             0.2222222222222222,
             "#7201a8"
            ],
            [
             0.3333333333333333,
             "#9c179e"
            ],
            [
             0.4444444444444444,
             "#bd3786"
            ],
            [
             0.5555555555555556,
             "#d8576b"
            ],
            [
             0.6666666666666666,
             "#ed7953"
            ],
            [
             0.7777777777777778,
             "#fb9f3a"
            ],
            [
             0.8888888888888888,
             "#fdca26"
            ],
            [
             1,
             "#f0f921"
            ]
           ]
          },
          "colorway": [
           "#636efa",
           "#EF553B",
           "#00cc96",
           "#ab63fa",
           "#FFA15A",
           "#19d3f3",
           "#FF6692",
           "#B6E880",
           "#FF97FF",
           "#FECB52"
          ],
          "font": {
           "color": "#2a3f5f"
          },
          "geo": {
           "bgcolor": "white",
           "lakecolor": "white",
           "landcolor": "#E5ECF6",
           "showlakes": true,
           "showland": true,
           "subunitcolor": "white"
          },
          "hoverlabel": {
           "align": "left"
          },
          "hovermode": "closest",
          "mapbox": {
           "style": "light"
          },
          "paper_bgcolor": "white",
          "plot_bgcolor": "#E5ECF6",
          "polar": {
           "angularaxis": {
            "gridcolor": "white",
            "linecolor": "white",
            "ticks": ""
           },
           "bgcolor": "#E5ECF6",
           "radialaxis": {
            "gridcolor": "white",
            "linecolor": "white",
            "ticks": ""
           }
          },
          "scene": {
           "xaxis": {
            "backgroundcolor": "#E5ECF6",
            "gridcolor": "white",
            "gridwidth": 2,
            "linecolor": "white",
            "showbackground": true,
            "ticks": "",
            "zerolinecolor": "white"
           },
           "yaxis": {
            "backgroundcolor": "#E5ECF6",
            "gridcolor": "white",
            "gridwidth": 2,
            "linecolor": "white",
            "showbackground": true,
            "ticks": "",
            "zerolinecolor": "white"
           },
           "zaxis": {
            "backgroundcolor": "#E5ECF6",
            "gridcolor": "white",
            "gridwidth": 2,
            "linecolor": "white",
            "showbackground": true,
            "ticks": "",
            "zerolinecolor": "white"
           }
          },
          "shapedefaults": {
           "line": {
            "color": "#2a3f5f"
           }
          },
          "ternary": {
           "aaxis": {
            "gridcolor": "white",
            "linecolor": "white",
            "ticks": ""
           },
           "baxis": {
            "gridcolor": "white",
            "linecolor": "white",
            "ticks": ""
           },
           "bgcolor": "#E5ECF6",
           "caxis": {
            "gridcolor": "white",
            "linecolor": "white",
            "ticks": ""
           }
          },
          "title": {
           "x": 0.05
          },
          "xaxis": {
           "automargin": true,
           "gridcolor": "white",
           "linecolor": "white",
           "ticks": "",
           "title": {
            "standoff": 15
           },
           "zerolinecolor": "white",
           "zerolinewidth": 2
          },
          "yaxis": {
           "automargin": true,
           "gridcolor": "white",
           "linecolor": "white",
           "ticks": "",
           "title": {
            "standoff": 15
           },
           "zerolinecolor": "white",
           "zerolinewidth": 2
          }
         }
        },
        "title": {
         "text": "Label"
        },
        "width": 1000
       }
      },
      "image/png": "[encoded data removed]",
      "text/html": [
       "<div>                            <div id=\"54fb6160-67c8-4f13-8f29-99ba92637bad\" class=\"plotly-graph-div\" style=\"height:1000px; width:1000px;\"></div>            <script type=\"text/javascript\">                require([\"plotly\"], function(Plotly) {                    window.PLOTLYENV=window.PLOTLYENV || {};                                    if (document.getElementById(\"54fb6160-67c8-4f13-8f29-99ba92637bad\")) {                    Plotly.newPlot(                        \"54fb6160-67c8-4f13-8f29-99ba92637bad\",                        [{\"domain\":{\"x\":[0.0,1.0],\"y\":[0.0,1.0]},\"hovertemplate\":\"label=%{label}<br>value=%{value}<extra></extra>\",\"labels\":[\"normal\",\"neptune\",\"warezclient\",\"ipsweep\",\"portsweep\",\"teardrop\",\"nmap\",\"satan\",\"smurf\",\"pod\",\"back\",\"guess_passwd\",\"ftp_write\",\"multihop\",\"rootkit\",\"buffer_overflow\",\"imap\",\"warezmaster\",\"phf\",\"land\",\"loadmodule\",\"spy\",\"perl\"],\"legendgroup\":\"\",\"name\":\"\",\"showlegend\":true,\"values\":[67343,41214,3633,3599,2931,2646,1493,956,892,890,201,53,30,20,18,11,10,9,8,7,4,3,2],\"type\":\"pie\"}],                        {\"template\":{\"data\":{\"histogram2dcontour\":[{\"type\":\"histogram2dcontour\",\"colorbar\":{\"outlinewidth\":0,\"ticks\":\"\"},\"colorscale\":[[0.0,\"#0d0887\"],[0.1111111111111111,\"#46039f\"],[0.2222222222222222,\"#7201a8\"],[0.3333333333333333,\"#9c179e\"],[0.4444444444444444,\"#bd3786\"],[0.5555555555555556,\"#d8576b\"],[0.6666666666666666,\"#ed7953\"],[0.7777777777777778,\"#fb9f3a\"],[0.8888888888888888,\"#fdca26\"],[1.0,\"#f0f921\"]]}],\"choropleth\":[{\"type\":\"choropleth\",\"colorbar\":{\"outlinewidth\":0,\"ticks\":\"\"}}],\"histogram2d\":[{\"type\":\"histogram2d\",\"colorbar\":{\"outlinewidth\":0,\"ticks\":\"\"},\"colorscale\":[[0.0,\"#0d0887\"],[0.1111111111111111,\"#46039f\"],[0.2222222222222222,\"#7201a8\"],[0.3333333333333333,\"#9c179e\"],[0.4444444444444444,\"#bd3786\"],[0.5555555555555556,\"#d8576b\"],[0.6666666666666666,\"#ed7953\"],[0.7777777777777778,\"#fb9f3a\"],[0.8888888888888888,\"#fdca26\"],[1.0,\"#f0f921\"]]}],\"heatmap\":[{\"type\":\"heatmap\",\"colorbar\":{\"outlinewidth\":0,\"ticks\":\"\"},\"colorscale\":[[0.0,\"#0d0887\"],[0.1111111111111111,\"#46039f\"],[0.2222222222222222,\"#7201a8\"],[0.3333333333333333,\"#9c179e\"],[0.4444444444444444,\"#bd3786\"],[0.5555555555555556,\"#d8576b\"],[0.6666666666666666,\"#ed7953\"],[0.7777777777777778,\"#fb9f3a\"],[0.8888888888888888,\"#fdca26\"],[1.0,\"#f0f921\"]]}],\"heatmapgl\":[{\"type\":\"heatmapgl\",\"colorbar\":{\"outlinewidth\":0,\"ticks\":\"\"},\"colorscale\":[[0.0,\"#0d0887\"],[0.1111111111111111,\"#46039f\"],[0.2222222222222222,\"#7201a8\"],[0.3333333333333333,\"#9c179e\"],[0.4444444444444444,\"#bd3786\"],[0.5555555555555556,\"#d8576b\"],[0.6666666666666666,\"#ed7953\"],[0.7777777777777778,\"#fb9f3a\"],[0.8888888888888888,\"#fdca26\"],[1.0,\"#f0f921\"]]}],\"contourcarpet\":[{\"type\":\"contourcarpet\",\"colorbar\":{\"outlinewidth\":0,\"ticks\":\"\"}}],\"contour\":[{\"type\":\"contour\",\"colorbar\":{\"outlinewidth\":0,\"ticks\":\"\"},\"colorscale\":[[0.0,\"#0d0887\"],[0.1111111111111111,\"#46039f\"],[0.2222222222222222,\"#7201a8\"],[0.3333333333333333,\"#9c179e\"],[0.4444444444444444,\"#bd3786\"],[0.5555555555555556,\"#d8576b\"],[0.6666666666666666,\"#ed7953\"],[0.7777777777777778,\"#fb9f3a\"],[0.8888888888888888,\"#fdca26\"],[1.0,\"#f0f921\"]]}],\"surface\":[{\"type\":\"surface\",\"colorbar\":{\"outlinewidth\":0,\"ticks\":\"\"},\"colorscale\":[[0.0,\"#0d0887\"],[0.1111111111111111,\"#46039f\"],[0.2222222222222222,\"#7201a8\"],[0.3333333333333333,\"#9c179e\"],[0.4444444444444444,\"#bd3786\"],[0.5555555555555556,\"#d8576b\"],[0.6666666666666666,\"#ed7953\"],[0.7777777777777778,\"#fb9f3a\"],[0.8888888888888888,\"#fdca26\"],[1.0,\"#f0f921\"]]}],\"mesh3d\":[{\"type\":\"mesh3d\",\"colorbar\":{\"outlinewidth\":0,\"ticks\":\"\"}}],\"scatter\":[{\"fillpattern\":{\"fillmode\":\"overlay\",\"size\":10,\"solidity\":0.2},\"type\":\"scatter\"}],\"parcoords\":[{\"type\":\"parcoords\",\"line\":{\"colorbar\":{\"outlinewidth\":0,\"ticks\":\"\"}}}],\"scatterpolargl\":[{\"type\":\"scatterpolargl\",\"marker\":{\"colorbar\":{\"outlinewidth\":0,\"ticks\":\"\"}}}],\"bar\":[{\"error_x\":{\"color\":\"#2a3f5f\"},\"error_y\":{\"color\":\"#2a3f5f\"},\"marker\":{\"line\":{\"color\":\"#E5ECF6\",\"width\":0.5},\"pattern\":{\"fillmode\":\"overlay\",\"size\":10,\"solidity\":0.2}},\"type\":\"bar\"}],\"scattergeo\":[{\"type\":\"scattergeo\",\"marker\":{\"colorbar\":{\"outlinewidth\":0,\"ticks\":\"\"}}}],\"scatterpolar\":[{\"type\":\"scatterpolar\",\"marker\":{\"colorbar\":{\"outlinewidth\":0,\"ticks\":\"\"}}}],\"histogram\":[{\"marker\":{\"pattern\":{\"fillmode\":\"overlay\",\"size\":10,\"solidity\":0.2}},\"type\":\"histogram\"}],\"scattergl\":[{\"type\":\"scattergl\",\"marker\":{\"colorbar\":{\"outlinewidth\":0,\"ticks\":\"\"}}}],\"scatter3d\":[{\"type\":\"scatter3d\",\"line\":{\"colorbar\":{\"outlinewidth\":0,\"ticks\":\"\"}},\"marker\":{\"colorbar\":{\"outlinewidth\":0,\"ticks\":\"\"}}}],\"scattermapbox\":[{\"type\":\"scattermapbox\",\"marker\":{\"colorbar\":{\"outlinewidth\":0,\"ticks\":\"\"}}}],\"scatterternary\":[{\"type\":\"scatterternary\",\"marker\":{\"colorbar\":{\"outlinewidth\":0,\"ticks\":\"\"}}}],\"scattercarpet\":[{\"type\":\"scattercarpet\",\"marker\":{\"colorbar\":{\"outlinewidth\":0,\"ticks\":\"\"}}}],\"carpet\":[{\"aaxis\":{\"endlinecolor\":\"#2a3f5f\",\"gridcolor\":\"white\",\"linecolor\":\"white\",\"minorgridcolor\":\"white\",\"startlinecolor\":\"#2a3f5f\"},\"baxis\":{\"endlinecolor\":\"#2a3f5f\",\"gridcolor\":\"white\",\"linecolor\":\"white\",\"minorgridcolor\":\"white\",\"startlinecolor\":\"#2a3f5f\"},\"type\":\"carpet\"}],\"table\":[{\"cells\":{\"fill\":{\"color\":\"#EBF0F8\"},\"line\":{\"color\":\"white\"}},\"header\":{\"fill\":{\"color\":\"#C8D4E3\"},\"line\":{\"color\":\"white\"}},\"type\":\"table\"}],\"barpolar\":[{\"marker\":{\"line\":{\"color\":\"#E5ECF6\",\"width\":0.5},\"pattern\":{\"fillmode\":\"overlay\",\"size\":10,\"solidity\":0.2}},\"type\":\"barpolar\"}],\"pie\":[{\"automargin\":true,\"type\":\"pie\"}]},\"layout\":{\"autotypenumbers\":\"strict\",\"colorway\":[\"#636efa\",\"#EF553B\",\"#00cc96\",\"#ab63fa\",\"#FFA15A\",\"#19d3f3\",\"#FF6692\",\"#B6E880\",\"#FF97FF\",\"#FECB52\"],\"font\":{\"color\":\"#2a3f5f\"},\"hovermode\":\"closest\",\"hoverlabel\":{\"align\":\"left\"},\"paper_bgcolor\":\"white\",\"plot_bgcolor\":\"#E5ECF6\",\"polar\":{\"bgcolor\":\"#E5ECF6\",\"angularaxis\":{\"gridcolor\":\"white\",\"linecolor\":\"white\",\"ticks\":\"\"},\"radialaxis\":{\"gridcolor\":\"white\",\"linecolor\":\"white\",\"ticks\":\"\"}},\"ternary\":{\"bgcolor\":\"#E5ECF6\",\"aaxis\":{\"gridcolor\":\"white\",\"linecolor\":\"white\",\"ticks\":\"\"},\"baxis\":{\"gridcolor\":\"white\",\"linecolor\":\"white\",\"ticks\":\"\"},\"caxis\":{\"gridcolor\":\"white\",\"linecolor\":\"white\",\"ticks\":\"\"}},\"coloraxis\":{\"colorbar\":{\"outlinewidth\":0,\"ticks\":\"\"}},\"colorscale\":{\"sequential\":[[0.0,\"#0d0887\"],[0.1111111111111111,\"#46039f\"],[0.2222222222222222,\"#7201a8\"],[0.3333333333333333,\"#9c179e\"],[0.4444444444444444,\"#bd3786\"],[0.5555555555555556,\"#d8576b\"],[0.6666666666666666,\"#ed7953\"],[0.7777777777777778,\"#fb9f3a\"],[0.8888888888888888,\"#fdca26\"],[1.0,\"#f0f921\"]],\"sequentialminus\":[[0.0,\"#0d0887\"],[0.1111111111111111,\"#46039f\"],[0.2222222222222222,\"#7201a8\"],[0.3333333333333333,\"#9c179e\"],[0.4444444444444444,\"#bd3786\"],[0.5555555555555556,\"#d8576b\"],[0.6666666666666666,\"#ed7953\"],[0.7777777777777778,\"#fb9f3a\"],[0.8888888888888888,\"#fdca26\"],[1.0,\"#f0f921\"]],\"diverging\":[[0,\"#8e0152\"],[0.1,\"#c51b7d\"],[0.2,\"#de77ae\"],[0.3,\"#f1b6da\"],[0.4,\"#fde0ef\"],[0.5,\"#f7f7f7\"],[0.6,\"#e6f5d0\"],[0.7,\"#b8e186\"],[0.8,\"#7fbc41\"],[0.9,\"#4d9221\"],[1,\"#276419\"]]},\"xaxis\":{\"gridcolor\":\"white\",\"linecolor\":\"white\",\"ticks\":\"\",\"title\":{\"standoff\":15},\"zerolinecolor\":\"white\",\"automargin\":true,\"zerolinewidth\":2},\"yaxis\":{\"gridcolor\":\"white\",\"linecolor\":\"white\",\"ticks\":\"\",\"title\":{\"standoff\":15},\"zerolinecolor\":\"white\",\"automargin\":true,\"zerolinewidth\":2},\"scene\":{\"xaxis\":{\"backgroundcolor\":\"#E5ECF6\",\"gridcolor\":\"white\",\"linecolor\":\"white\",\"showbackground\":true,\"ticks\":\"\",\"zerolinecolor\":\"white\",\"gridwidth\":2},\"yaxis\":{\"backgroundcolor\":\"#E5ECF6\",\"gridcolor\":\"white\",\"linecolor\":\"white\",\"showbackground\":true,\"ticks\":\"\",\"zerolinecolor\":\"white\",\"gridwidth\":2},\"zaxis\":{\"backgroundcolor\":\"#E5ECF6\",\"gridcolor\":\"white\",\"linecolor\":\"white\",\"showbackground\":true,\"ticks\":\"\",\"zerolinecolor\":\"white\",\"gridwidth\":2}},\"shapedefaults\":{\"line\":{\"color\":\"#2a3f5f\"}},\"annotationdefaults\":{\"arrowcolor\":\"#2a3f5f\",\"arrowhead\":0,\"arrowwidth\":1},\"geo\":{\"bgcolor\":\"white\",\"landcolor\":\"#E5ECF6\",\"subunitcolor\":\"white\",\"showland\":true,\"showlakes\":true,\"lakecolor\":\"white\"},\"title\":{\"x\":0.05},\"mapbox\":{\"style\":\"light\"}}},\"legend\":{\"tracegroupgap\":0},\"title\":{\"text\":\"Label\"},\"height\":1000,\"width\":1000},                        {\"responsive\": true}                    ).then(function(){\n",
       "                            \n",
       "var gd = document.getElementById('54fb6160-67c8-4f13-8f29-99ba92637bad');\n",
       "var x = new MutationObserver(function (mutations, observer) {{\n",
       "        var display = window.getComputedStyle(gd).display;\n",
       "        if (!display || display === 'none') {{\n",
       "            console.log([gd, 'removed!']);\n",
       "            Plotly.purge(gd);\n",
       "            observer.disconnect();\n",
       "        }}\n",
       "}});\n",
       "\n",
       "// Listen for the removal of the full notebook cells\n",
       "var notebookContainer = gd.closest('#notebook-container');\n",
       "if (notebookContainer) {{\n",
       "    x.observe(notebookContainer, {childList: true});\n",
       "}}\n",
       "\n",
       "// Listen for the clearing of the current output cell\n",
       "var outputEl = gd.closest('.output');\n",
       "if (outputEl) {{\n",
       "    x.observe(outputEl, {childList: true});\n",
       "}}\n",
       "\n",
       "                        })                };                });            </script>        </div>"
      ]
     },
     "metadata": {},
     "output_type": "display_data"
    }
   ],
   "source": [
    "# Distribution of attack labels \n",
    "fig = px.pie(train_data, values=train_data['label'].value_counts(), names=train_data['label'].unique(), title='Label',width = 1000, height = 1000)\n",
    "fig.show()"
   ]
  },
  {
   "cell_type": "code",
   "execution_count": 29,
   "id": "eef854d5",
   "metadata": {
    "id": "gt2Q4Dw5koQ8",
    "papermill": {
     "duration": 0.164774,
     "end_time": "2021-12-22T10:13:54.207561",
     "exception": false,
     "start_time": "2021-12-22T10:13:54.042787",
     "status": "completed"
    },
    "tags": []
   },
   "outputs": [],
   "source": [
    "# The original code below categorized the datasets attack label into various attack groups\n",
    "# For our project, we are doing binary classification. That is our model will only predict 1 of 2, which means we'll need to edit this code\n",
    "\"\"\"\n",
    "def change_label(df):\n",
    "  df.label.replace(['apache2','back','land','neptune','mailbomb','pod','processtable','smurf','teardrop','udpstorm','worm'],'Dos',inplace=True)\n",
    "  df.label.replace(['ftp_write','guess_passwd','httptunnel','imap','multihop','named','phf','sendmail','snmpgetattack','snmpguess','spy','warezclient','warezmaster','xlock','xsnoop'],'R2L',inplace=True)      \n",
    "  df.label.replace(['ipsweep','mscan','nmap','portsweep','saint','satan'],'Probe',inplace=True)\n",
    "  df.label.replace(['buffer_overflow','loadmodule','perl','ps','rootkit','sqlattack','xterm'],'U2R',inplace=True)\n",
    "\"\"\"\n",
    "\n",
    "# Here we change the original function to categorize all attack labels into the attack group\n",
    "# This leaves only 'normal' and 'attack' in our 'labels' category\n",
    "def change_label(df):\n",
    "  df.label.replace(['back','land','neptune','pod','smurf','teardrop', \n",
    "                     'guess_passwd','imap','ftp_write','multihop','phf','spy','warezclient','warezmaster',\n",
    "                     'ipsweep','nmap','portsweep','satan',\n",
    "                     'buffer_overflow','loadmodule','perl','rootkit'\n",
    "                     ],'Attack',inplace=True)"
   ]
  },
  {
   "cell_type": "code",
   "execution_count": 30,
   "id": "63c428c0",
   "metadata": {
    "id": "RVlBCLBilCOn",
    "papermill": {
     "duration": 0.454426,
     "end_time": "2021-12-22T10:13:54.820760",
     "exception": false,
     "start_time": "2021-12-22T10:13:54.366334",
     "status": "completed"
    },
    "tags": []
   },
   "outputs": [],
   "source": [
    "change_label(train_data)"
   ]
  },
  {
   "cell_type": "code",
   "execution_count": 31,
   "id": "856eb37f",
   "metadata": {
    "id": "vW9z2HMdlI-2",
    "outputId": "a61a759e-e522-4e58-c2f6-01eda1461c23",
    "papermill": {
     "duration": 0.195356,
     "end_time": "2021-12-22T10:13:55.173215",
     "exception": false,
     "start_time": "2021-12-22T10:13:54.977859",
     "status": "completed"
    },
    "tags": []
   },
   "outputs": [
    {
     "data": {
      "application/vnd.plotly.v1+json": {
       "config": {
        "plotlyServerURL": "https://plot.ly"
       },
       "data": [
        {
         "domain": {
          "x": [
           0,
           1
          ],
          "y": [
           0,
           1
          ]
         },
         "hovertemplate": "label=%{label}<br>value=%{value}<extra></extra>",
         "labels": [
          "normal",
          "Attack"
         ],
         "legendgroup": "",
         "name": "",
         "showlegend": true,
         "type": "pie",
         "values": [
          67343,
          58630
         ]
        }
       ],
       "layout": {
        "height": 500,
        "legend": {
         "tracegroupgap": 0
        },
        "template": {
         "data": {
          "bar": [
           {
            "error_x": {
             "color": "#2a3f5f"
            },
            "error_y": {
             "color": "#2a3f5f"
            },
            "marker": {
             "line": {
              "color": "#E5ECF6",
              "width": 0.5
             },
             "pattern": {
              "fillmode": "overlay",
              "size": 10,
              "solidity": 0.2
             }
            },
            "type": "bar"
           }
          ],
          "barpolar": [
           {
            "marker": {
             "line": {
              "color": "#E5ECF6",
              "width": 0.5
             },
             "pattern": {
              "fillmode": "overlay",
              "size": 10,
              "solidity": 0.2
             }
            },
            "type": "barpolar"
           }
          ],
          "carpet": [
           {
            "aaxis": {
             "endlinecolor": "#2a3f5f",
             "gridcolor": "white",
             "linecolor": "white",
             "minorgridcolor": "white",
             "startlinecolor": "#2a3f5f"
            },
            "baxis": {
             "endlinecolor": "#2a3f5f",
             "gridcolor": "white",
             "linecolor": "white",
             "minorgridcolor": "white",
             "startlinecolor": "#2a3f5f"
            },
            "type": "carpet"
           }
          ],
          "choropleth": [
           {
            "colorbar": {
             "outlinewidth": 0,
             "ticks": ""
            },
            "type": "choropleth"
           }
          ],
          "contour": [
           {
            "colorbar": {
             "outlinewidth": 0,
             "ticks": ""
            },
            "colorscale": [
             [
              0,
              "#0d0887"
             ],
             [
              0.1111111111111111,
              "#46039f"
             ],
             [
              0.2222222222222222,
              "#7201a8"
             ],
             [
              0.3333333333333333,
              "#9c179e"
             ],
             [
              0.4444444444444444,
              "#bd3786"
             ],
             [
              0.5555555555555556,
              "#d8576b"
             ],
             [
              0.6666666666666666,
              "#ed7953"
             ],
             [
              0.7777777777777778,
              "#fb9f3a"
             ],
             [
              0.8888888888888888,
              "#fdca26"
             ],
             [
              1,
              "#f0f921"
             ]
            ],
            "type": "contour"
           }
          ],
          "contourcarpet": [
           {
            "colorbar": {
             "outlinewidth": 0,
             "ticks": ""
            },
            "type": "contourcarpet"
           }
          ],
          "heatmap": [
           {
            "colorbar": {
             "outlinewidth": 0,
             "ticks": ""
            },
            "colorscale": [
             [
              0,
              "#0d0887"
             ],
             [
              0.1111111111111111,
              "#46039f"
             ],
             [
              0.2222222222222222,
              "#7201a8"
             ],
             [
              0.3333333333333333,
              "#9c179e"
             ],
             [
              0.4444444444444444,
              "#bd3786"
             ],
             [
              0.5555555555555556,
              "#d8576b"
             ],
             [
              0.6666666666666666,
              "#ed7953"
             ],
             [
              0.7777777777777778,
              "#fb9f3a"
             ],
             [
              0.8888888888888888,
              "#fdca26"
             ],
             [
              1,
              "#f0f921"
             ]
            ],
            "type": "heatmap"
           }
          ],
          "heatmapgl": [
           {
            "colorbar": {
             "outlinewidth": 0,
             "ticks": ""
            },
            "colorscale": [
             [
              0,
              "#0d0887"
             ],
             [
              0.1111111111111111,
              "#46039f"
             ],
             [
              0.2222222222222222,
              "#7201a8"
             ],
             [
              0.3333333333333333,
              "#9c179e"
             ],
             [
              0.4444444444444444,
              "#bd3786"
             ],
             [
              0.5555555555555556,
              "#d8576b"
             ],
             [
              0.6666666666666666,
              "#ed7953"
             ],
             [
              0.7777777777777778,
              "#fb9f3a"
             ],
             [
              0.8888888888888888,
              "#fdca26"
             ],
             [
              1,
              "#f0f921"
             ]
            ],
            "type": "heatmapgl"
           }
          ],
          "histogram": [
           {
            "marker": {
             "pattern": {
              "fillmode": "overlay",
              "size": 10,
              "solidity": 0.2
             }
            },
            "type": "histogram"
           }
          ],
          "histogram2d": [
           {
            "colorbar": {
             "outlinewidth": 0,
             "ticks": ""
            },
            "colorscale": [
             [
              0,
              "#0d0887"
             ],
             [
              0.1111111111111111,
              "#46039f"
             ],
             [
              0.2222222222222222,
              "#7201a8"
             ],
             [
              0.3333333333333333,
              "#9c179e"
             ],
             [
              0.4444444444444444,
              "#bd3786"
             ],
             [
              0.5555555555555556,
              "#d8576b"
             ],
             [
              0.6666666666666666,
              "#ed7953"
             ],
             [
              0.7777777777777778,
              "#fb9f3a"
             ],
             [
              0.8888888888888888,
              "#fdca26"
             ],
             [
              1,
              "#f0f921"
             ]
            ],
            "type": "histogram2d"
           }
          ],
          "histogram2dcontour": [
           {
            "colorbar": {
             "outlinewidth": 0,
             "ticks": ""
            },
            "colorscale": [
             [
              0,
              "#0d0887"
             ],
             [
              0.1111111111111111,
              "#46039f"
             ],
             [
              0.2222222222222222,
              "#7201a8"
             ],
             [
              0.3333333333333333,
              "#9c179e"
             ],
             [
              0.4444444444444444,
              "#bd3786"
             ],
             [
              0.5555555555555556,
              "#d8576b"
             ],
             [
              0.6666666666666666,
              "#ed7953"
             ],
             [
              0.7777777777777778,
              "#fb9f3a"
             ],
             [
              0.8888888888888888,
              "#fdca26"
             ],
             [
              1,
              "#f0f921"
             ]
            ],
            "type": "histogram2dcontour"
           }
          ],
          "mesh3d": [
           {
            "colorbar": {
             "outlinewidth": 0,
             "ticks": ""
            },
            "type": "mesh3d"
           }
          ],
          "parcoords": [
           {
            "line": {
             "colorbar": {
              "outlinewidth": 0,
              "ticks": ""
             }
            },
            "type": "parcoords"
           }
          ],
          "pie": [
           {
            "automargin": true,
            "type": "pie"
           }
          ],
          "scatter": [
           {
            "fillpattern": {
             "fillmode": "overlay",
             "size": 10,
             "solidity": 0.2
            },
            "type": "scatter"
           }
          ],
          "scatter3d": [
           {
            "line": {
             "colorbar": {
              "outlinewidth": 0,
              "ticks": ""
             }
            },
            "marker": {
             "colorbar": {
              "outlinewidth": 0,
              "ticks": ""
             }
            },
            "type": "scatter3d"
           }
          ],
          "scattercarpet": [
           {
            "marker": {
             "colorbar": {
              "outlinewidth": 0,
              "ticks": ""
             }
            },
            "type": "scattercarpet"
           }
          ],
          "scattergeo": [
           {
            "marker": {
             "colorbar": {
              "outlinewidth": 0,
              "ticks": ""
             }
            },
            "type": "scattergeo"
           }
          ],
          "scattergl": [
           {
            "marker": {
             "colorbar": {
              "outlinewidth": 0,
              "ticks": ""
             }
            },
            "type": "scattergl"
           }
          ],
          "scattermapbox": [
           {
            "marker": {
             "colorbar": {
              "outlinewidth": 0,
              "ticks": ""
             }
            },
            "type": "scattermapbox"
           }
          ],
          "scatterpolar": [
           {
            "marker": {
             "colorbar": {
              "outlinewidth": 0,
              "ticks": ""
             }
            },
            "type": "scatterpolar"
           }
          ],
          "scatterpolargl": [
           {
            "marker": {
             "colorbar": {
              "outlinewidth": 0,
              "ticks": ""
             }
            },
            "type": "scatterpolargl"
           }
          ],
          "scatterternary": [
           {
            "marker": {
             "colorbar": {
              "outlinewidth": 0,
              "ticks": ""
             }
            },
            "type": "scatterternary"
           }
          ],
          "surface": [
           {
            "colorbar": {
             "outlinewidth": 0,
             "ticks": ""
            },
            "colorscale": [
             [
              0,
              "#0d0887"
             ],
             [
              0.1111111111111111,
              "#46039f"
             ],
             [
              0.2222222222222222,
              "#7201a8"
             ],
             [
              0.3333333333333333,
              "#9c179e"
             ],
             [
              0.4444444444444444,
              "#bd3786"
             ],
             [
              0.5555555555555556,
              "#d8576b"
             ],
             [
              0.6666666666666666,
              "#ed7953"
             ],
             [
              0.7777777777777778,
              "#fb9f3a"
             ],
             [
              0.8888888888888888,
              "#fdca26"
             ],
             [
              1,
              "#f0f921"
             ]
            ],
            "type": "surface"
           }
          ],
          "table": [
           {
            "cells": {
             "fill": {
              "color": "#EBF0F8"
             },
             "line": {
              "color": "white"
             }
            },
            "header": {
             "fill": {
              "color": "#C8D4E3"
             },
             "line": {
              "color": "white"
             }
            },
            "type": "table"
           }
          ]
         },
         "layout": {
          "annotationdefaults": {
           "arrowcolor": "#2a3f5f",
           "arrowhead": 0,
           "arrowwidth": 1
          },
          "autotypenumbers": "strict",
          "coloraxis": {
           "colorbar": {
            "outlinewidth": 0,
            "ticks": ""
           }
          },
          "colorscale": {
           "diverging": [
            [
             0,
             "#8e0152"
            ],
            [
             0.1,
             "#c51b7d"
            ],
            [
             0.2,
             "#de77ae"
            ],
            [
             0.3,
             "#f1b6da"
            ],
            [
             0.4,
             "#fde0ef"
            ],
            [
             0.5,
             "#f7f7f7"
            ],
            [
             0.6,
             "#e6f5d0"
            ],
            [
             0.7,
             "#b8e186"
            ],
            [
             0.8,
             "#7fbc41"
            ],
            [
             0.9,
             "#4d9221"
            ],
            [
             1,
             "#276419"
            ]
           ],
           "sequential": [
            [
             0,
             "#0d0887"
            ],
            [
             0.1111111111111111,
             "#46039f"
            ],
            [
             0.2222222222222222,
             "#7201a8"
            ],
            [
             0.3333333333333333,
             "#9c179e"
            ],
            [
             0.4444444444444444,
             "#bd3786"
            ],
            [
             0.5555555555555556,
             "#d8576b"
            ],
            [
             0.6666666666666666,
             "#ed7953"
            ],
            [
             0.7777777777777778,
             "#fb9f3a"
            ],
            [
             0.8888888888888888,
             "#fdca26"
            ],
            [
             1,
             "#f0f921"
            ]
           ],
           "sequentialminus": [
            [
             0,
             "#0d0887"
            ],
            [
             0.1111111111111111,
             "#46039f"
            ],
            [
             0.2222222222222222,
             "#7201a8"
            ],
            [
             0.3333333333333333,
             "#9c179e"
            ],
            [
             0.4444444444444444,
             "#bd3786"
            ],
            [
             0.5555555555555556,
             "#d8576b"
            ],
            [
             0.6666666666666666,
             "#ed7953"
            ],
            [
             0.7777777777777778,
             "#fb9f3a"
            ],
            [
             0.8888888888888888,
             "#fdca26"
            ],
            [
             1,
             "#f0f921"
            ]
           ]
          },
          "colorway": [
           "#636efa",
           "#EF553B",
           "#00cc96",
           "#ab63fa",
           "#FFA15A",
           "#19d3f3",
           "#FF6692",
           "#B6E880",
           "#FF97FF",
           "#FECB52"
          ],
          "font": {
           "color": "#2a3f5f"
          },
          "geo": {
           "bgcolor": "white",
           "lakecolor": "white",
           "landcolor": "#E5ECF6",
           "showlakes": true,
           "showland": true,
           "subunitcolor": "white"
          },
          "hoverlabel": {
           "align": "left"
          },
          "hovermode": "closest",
          "mapbox": {
           "style": "light"
          },
          "paper_bgcolor": "white",
          "plot_bgcolor": "#E5ECF6",
          "polar": {
           "angularaxis": {
            "gridcolor": "white",
            "linecolor": "white",
            "ticks": ""
           },
           "bgcolor": "#E5ECF6",
           "radialaxis": {
            "gridcolor": "white",
            "linecolor": "white",
            "ticks": ""
           }
          },
          "scene": {
           "xaxis": {
            "backgroundcolor": "#E5ECF6",
            "gridcolor": "white",
            "gridwidth": 2,
            "linecolor": "white",
            "showbackground": true,
            "ticks": "",
            "zerolinecolor": "white"
           },
           "yaxis": {
            "backgroundcolor": "#E5ECF6",
            "gridcolor": "white",
            "gridwidth": 2,
            "linecolor": "white",
            "showbackground": true,
            "ticks": "",
            "zerolinecolor": "white"
           },
           "zaxis": {
            "backgroundcolor": "#E5ECF6",
            "gridcolor": "white",
            "gridwidth": 2,
            "linecolor": "white",
            "showbackground": true,
            "ticks": "",
            "zerolinecolor": "white"
           }
          },
          "shapedefaults": {
           "line": {
            "color": "#2a3f5f"
           }
          },
          "ternary": {
           "aaxis": {
            "gridcolor": "white",
            "linecolor": "white",
            "ticks": ""
           },
           "baxis": {
            "gridcolor": "white",
            "linecolor": "white",
            "ticks": ""
           },
           "bgcolor": "#E5ECF6",
           "caxis": {
            "gridcolor": "white",
            "linecolor": "white",
            "ticks": ""
           }
          },
          "title": {
           "x": 0.05
          },
          "xaxis": {
           "automargin": true,
           "gridcolor": "white",
           "linecolor": "white",
           "ticks": "",
           "title": {
            "standoff": 15
           },
           "zerolinecolor": "white",
           "zerolinewidth": 2
          },
          "yaxis": {
           "automargin": true,
           "gridcolor": "white",
           "linecolor": "white",
           "ticks": "",
           "title": {
            "standoff": 15
           },
           "zerolinecolor": "white",
           "zerolinewidth": 2
          }
         }
        },
        "title": {
         "text": "Label"
        },
        "width": 500
       }
      },
      "image/png": "[encoded data removed]",
      "text/html": [
       "<div>                            <div id=\"b91ae33c-16ae-4783-85c7-8850904c75ac\" class=\"plotly-graph-div\" style=\"height:500px; width:500px;\"></div>            <script type=\"text/javascript\">                require([\"plotly\"], function(Plotly) {                    window.PLOTLYENV=window.PLOTLYENV || {};                                    if (document.getElementById(\"b91ae33c-16ae-4783-85c7-8850904c75ac\")) {                    Plotly.newPlot(                        \"b91ae33c-16ae-4783-85c7-8850904c75ac\",                        [{\"domain\":{\"x\":[0.0,1.0],\"y\":[0.0,1.0]},\"hovertemplate\":\"label=%{label}<br>value=%{value}<extra></extra>\",\"labels\":[\"normal\",\"Attack\"],\"legendgroup\":\"\",\"name\":\"\",\"showlegend\":true,\"values\":[67343,58630],\"type\":\"pie\"}],                        {\"template\":{\"data\":{\"histogram2dcontour\":[{\"type\":\"histogram2dcontour\",\"colorbar\":{\"outlinewidth\":0,\"ticks\":\"\"},\"colorscale\":[[0.0,\"#0d0887\"],[0.1111111111111111,\"#46039f\"],[0.2222222222222222,\"#7201a8\"],[0.3333333333333333,\"#9c179e\"],[0.4444444444444444,\"#bd3786\"],[0.5555555555555556,\"#d8576b\"],[0.6666666666666666,\"#ed7953\"],[0.7777777777777778,\"#fb9f3a\"],[0.8888888888888888,\"#fdca26\"],[1.0,\"#f0f921\"]]}],\"choropleth\":[{\"type\":\"choropleth\",\"colorbar\":{\"outlinewidth\":0,\"ticks\":\"\"}}],\"histogram2d\":[{\"type\":\"histogram2d\",\"colorbar\":{\"outlinewidth\":0,\"ticks\":\"\"},\"colorscale\":[[0.0,\"#0d0887\"],[0.1111111111111111,\"#46039f\"],[0.2222222222222222,\"#7201a8\"],[0.3333333333333333,\"#9c179e\"],[0.4444444444444444,\"#bd3786\"],[0.5555555555555556,\"#d8576b\"],[0.6666666666666666,\"#ed7953\"],[0.7777777777777778,\"#fb9f3a\"],[0.8888888888888888,\"#fdca26\"],[1.0,\"#f0f921\"]]}],\"heatmap\":[{\"type\":\"heatmap\",\"colorbar\":{\"outlinewidth\":0,\"ticks\":\"\"},\"colorscale\":[[0.0,\"#0d0887\"],[0.1111111111111111,\"#46039f\"],[0.2222222222222222,\"#7201a8\"],[0.3333333333333333,\"#9c179e\"],[0.4444444444444444,\"#bd3786\"],[0.5555555555555556,\"#d8576b\"],[0.6666666666666666,\"#ed7953\"],[0.7777777777777778,\"#fb9f3a\"],[0.8888888888888888,\"#fdca26\"],[1.0,\"#f0f921\"]]}],\"heatmapgl\":[{\"type\":\"heatmapgl\",\"colorbar\":{\"outlinewidth\":0,\"ticks\":\"\"},\"colorscale\":[[0.0,\"#0d0887\"],[0.1111111111111111,\"#46039f\"],[0.2222222222222222,\"#7201a8\"],[0.3333333333333333,\"#9c179e\"],[0.4444444444444444,\"#bd3786\"],[0.5555555555555556,\"#d8576b\"],[0.6666666666666666,\"#ed7953\"],[0.7777777777777778,\"#fb9f3a\"],[0.8888888888888888,\"#fdca26\"],[1.0,\"#f0f921\"]]}],\"contourcarpet\":[{\"type\":\"contourcarpet\",\"colorbar\":{\"outlinewidth\":0,\"ticks\":\"\"}}],\"contour\":[{\"type\":\"contour\",\"colorbar\":{\"outlinewidth\":0,\"ticks\":\"\"},\"colorscale\":[[0.0,\"#0d0887\"],[0.1111111111111111,\"#46039f\"],[0.2222222222222222,\"#7201a8\"],[0.3333333333333333,\"#9c179e\"],[0.4444444444444444,\"#bd3786\"],[0.5555555555555556,\"#d8576b\"],[0.6666666666666666,\"#ed7953\"],[0.7777777777777778,\"#fb9f3a\"],[0.8888888888888888,\"#fdca26\"],[1.0,\"#f0f921\"]]}],\"surface\":[{\"type\":\"surface\",\"colorbar\":{\"outlinewidth\":0,\"ticks\":\"\"},\"colorscale\":[[0.0,\"#0d0887\"],[0.1111111111111111,\"#46039f\"],[0.2222222222222222,\"#7201a8\"],[0.3333333333333333,\"#9c179e\"],[0.4444444444444444,\"#bd3786\"],[0.5555555555555556,\"#d8576b\"],[0.6666666666666666,\"#ed7953\"],[0.7777777777777778,\"#fb9f3a\"],[0.8888888888888888,\"#fdca26\"],[1.0,\"#f0f921\"]]}],\"mesh3d\":[{\"type\":\"mesh3d\",\"colorbar\":{\"outlinewidth\":0,\"ticks\":\"\"}}],\"scatter\":[{\"fillpattern\":{\"fillmode\":\"overlay\",\"size\":10,\"solidity\":0.2},\"type\":\"scatter\"}],\"parcoords\":[{\"type\":\"parcoords\",\"line\":{\"colorbar\":{\"outlinewidth\":0,\"ticks\":\"\"}}}],\"scatterpolargl\":[{\"type\":\"scatterpolargl\",\"marker\":{\"colorbar\":{\"outlinewidth\":0,\"ticks\":\"\"}}}],\"bar\":[{\"error_x\":{\"color\":\"#2a3f5f\"},\"error_y\":{\"color\":\"#2a3f5f\"},\"marker\":{\"line\":{\"color\":\"#E5ECF6\",\"width\":0.5},\"pattern\":{\"fillmode\":\"overlay\",\"size\":10,\"solidity\":0.2}},\"type\":\"bar\"}],\"scattergeo\":[{\"type\":\"scattergeo\",\"marker\":{\"colorbar\":{\"outlinewidth\":0,\"ticks\":\"\"}}}],\"scatterpolar\":[{\"type\":\"scatterpolar\",\"marker\":{\"colorbar\":{\"outlinewidth\":0,\"ticks\":\"\"}}}],\"histogram\":[{\"marker\":{\"pattern\":{\"fillmode\":\"overlay\",\"size\":10,\"solidity\":0.2}},\"type\":\"histogram\"}],\"scattergl\":[{\"type\":\"scattergl\",\"marker\":{\"colorbar\":{\"outlinewidth\":0,\"ticks\":\"\"}}}],\"scatter3d\":[{\"type\":\"scatter3d\",\"line\":{\"colorbar\":{\"outlinewidth\":0,\"ticks\":\"\"}},\"marker\":{\"colorbar\":{\"outlinewidth\":0,\"ticks\":\"\"}}}],\"scattermapbox\":[{\"type\":\"scattermapbox\",\"marker\":{\"colorbar\":{\"outlinewidth\":0,\"ticks\":\"\"}}}],\"scatterternary\":[{\"type\":\"scatterternary\",\"marker\":{\"colorbar\":{\"outlinewidth\":0,\"ticks\":\"\"}}}],\"scattercarpet\":[{\"type\":\"scattercarpet\",\"marker\":{\"colorbar\":{\"outlinewidth\":0,\"ticks\":\"\"}}}],\"carpet\":[{\"aaxis\":{\"endlinecolor\":\"#2a3f5f\",\"gridcolor\":\"white\",\"linecolor\":\"white\",\"minorgridcolor\":\"white\",\"startlinecolor\":\"#2a3f5f\"},\"baxis\":{\"endlinecolor\":\"#2a3f5f\",\"gridcolor\":\"white\",\"linecolor\":\"white\",\"minorgridcolor\":\"white\",\"startlinecolor\":\"#2a3f5f\"},\"type\":\"carpet\"}],\"table\":[{\"cells\":{\"fill\":{\"color\":\"#EBF0F8\"},\"line\":{\"color\":\"white\"}},\"header\":{\"fill\":{\"color\":\"#C8D4E3\"},\"line\":{\"color\":\"white\"}},\"type\":\"table\"}],\"barpolar\":[{\"marker\":{\"line\":{\"color\":\"#E5ECF6\",\"width\":0.5},\"pattern\":{\"fillmode\":\"overlay\",\"size\":10,\"solidity\":0.2}},\"type\":\"barpolar\"}],\"pie\":[{\"automargin\":true,\"type\":\"pie\"}]},\"layout\":{\"autotypenumbers\":\"strict\",\"colorway\":[\"#636efa\",\"#EF553B\",\"#00cc96\",\"#ab63fa\",\"#FFA15A\",\"#19d3f3\",\"#FF6692\",\"#B6E880\",\"#FF97FF\",\"#FECB52\"],\"font\":{\"color\":\"#2a3f5f\"},\"hovermode\":\"closest\",\"hoverlabel\":{\"align\":\"left\"},\"paper_bgcolor\":\"white\",\"plot_bgcolor\":\"#E5ECF6\",\"polar\":{\"bgcolor\":\"#E5ECF6\",\"angularaxis\":{\"gridcolor\":\"white\",\"linecolor\":\"white\",\"ticks\":\"\"},\"radialaxis\":{\"gridcolor\":\"white\",\"linecolor\":\"white\",\"ticks\":\"\"}},\"ternary\":{\"bgcolor\":\"#E5ECF6\",\"aaxis\":{\"gridcolor\":\"white\",\"linecolor\":\"white\",\"ticks\":\"\"},\"baxis\":{\"gridcolor\":\"white\",\"linecolor\":\"white\",\"ticks\":\"\"},\"caxis\":{\"gridcolor\":\"white\",\"linecolor\":\"white\",\"ticks\":\"\"}},\"coloraxis\":{\"colorbar\":{\"outlinewidth\":0,\"ticks\":\"\"}},\"colorscale\":{\"sequential\":[[0.0,\"#0d0887\"],[0.1111111111111111,\"#46039f\"],[0.2222222222222222,\"#7201a8\"],[0.3333333333333333,\"#9c179e\"],[0.4444444444444444,\"#bd3786\"],[0.5555555555555556,\"#d8576b\"],[0.6666666666666666,\"#ed7953\"],[0.7777777777777778,\"#fb9f3a\"],[0.8888888888888888,\"#fdca26\"],[1.0,\"#f0f921\"]],\"sequentialminus\":[[0.0,\"#0d0887\"],[0.1111111111111111,\"#46039f\"],[0.2222222222222222,\"#7201a8\"],[0.3333333333333333,\"#9c179e\"],[0.4444444444444444,\"#bd3786\"],[0.5555555555555556,\"#d8576b\"],[0.6666666666666666,\"#ed7953\"],[0.7777777777777778,\"#fb9f3a\"],[0.8888888888888888,\"#fdca26\"],[1.0,\"#f0f921\"]],\"diverging\":[[0,\"#8e0152\"],[0.1,\"#c51b7d\"],[0.2,\"#de77ae\"],[0.3,\"#f1b6da\"],[0.4,\"#fde0ef\"],[0.5,\"#f7f7f7\"],[0.6,\"#e6f5d0\"],[0.7,\"#b8e186\"],[0.8,\"#7fbc41\"],[0.9,\"#4d9221\"],[1,\"#276419\"]]},\"xaxis\":{\"gridcolor\":\"white\",\"linecolor\":\"white\",\"ticks\":\"\",\"title\":{\"standoff\":15},\"zerolinecolor\":\"white\",\"automargin\":true,\"zerolinewidth\":2},\"yaxis\":{\"gridcolor\":\"white\",\"linecolor\":\"white\",\"ticks\":\"\",\"title\":{\"standoff\":15},\"zerolinecolor\":\"white\",\"automargin\":true,\"zerolinewidth\":2},\"scene\":{\"xaxis\":{\"backgroundcolor\":\"#E5ECF6\",\"gridcolor\":\"white\",\"linecolor\":\"white\",\"showbackground\":true,\"ticks\":\"\",\"zerolinecolor\":\"white\",\"gridwidth\":2},\"yaxis\":{\"backgroundcolor\":\"#E5ECF6\",\"gridcolor\":\"white\",\"linecolor\":\"white\",\"showbackground\":true,\"ticks\":\"\",\"zerolinecolor\":\"white\",\"gridwidth\":2},\"zaxis\":{\"backgroundcolor\":\"#E5ECF6\",\"gridcolor\":\"white\",\"linecolor\":\"white\",\"showbackground\":true,\"ticks\":\"\",\"zerolinecolor\":\"white\",\"gridwidth\":2}},\"shapedefaults\":{\"line\":{\"color\":\"#2a3f5f\"}},\"annotationdefaults\":{\"arrowcolor\":\"#2a3f5f\",\"arrowhead\":0,\"arrowwidth\":1},\"geo\":{\"bgcolor\":\"white\",\"landcolor\":\"#E5ECF6\",\"subunitcolor\":\"white\",\"showland\":true,\"showlakes\":true,\"lakecolor\":\"white\"},\"title\":{\"x\":0.05},\"mapbox\":{\"style\":\"light\"}}},\"legend\":{\"tracegroupgap\":0},\"title\":{\"text\":\"Label\"},\"height\":500,\"width\":500},                        {\"responsive\": true}                    ).then(function(){\n",
       "                            \n",
       "var gd = document.getElementById('b91ae33c-16ae-4783-85c7-8850904c75ac');\n",
       "var x = new MutationObserver(function (mutations, observer) {{\n",
       "        var display = window.getComputedStyle(gd).display;\n",
       "        if (!display || display === 'none') {{\n",
       "            console.log([gd, 'removed!']);\n",
       "            Plotly.purge(gd);\n",
       "            observer.disconnect();\n",
       "        }}\n",
       "}});\n",
       "\n",
       "// Listen for the removal of the full notebook cells\n",
       "var notebookContainer = gd.closest('#notebook-container');\n",
       "if (notebookContainer) {{\n",
       "    x.observe(notebookContainer, {childList: true});\n",
       "}}\n",
       "\n",
       "// Listen for the clearing of the current output cell\n",
       "var outputEl = gd.closest('.output');\n",
       "if (outputEl) {{\n",
       "    x.observe(outputEl, {childList: true});\n",
       "}}\n",
       "\n",
       "                        })                };                });            </script>        </div>"
      ]
     },
     "metadata": {},
     "output_type": "display_data"
    }
   ],
   "source": [
    "# distribution of normal and attack\n",
    "fig = px.pie(train_data, values=train_data['label'].value_counts(), names=train_data['label'].unique(), title='Label',width = 500, height = 500)\n",
    "fig.show()"
   ]
  },
  {
   "cell_type": "markdown",
   "id": "81d8cd6f",
   "metadata": {
    "id": "9A0rnj3tgg-3",
    "papermill": {
     "duration": 0.160004,
     "end_time": "2021-12-22T10:13:56.395914",
     "exception": false,
     "start_time": "2021-12-22T10:13:56.235910",
     "status": "completed"
    },
    "tags": []
   },
   "source": [
    "### Protocol"
   ]
  },
  {
   "cell_type": "code",
   "execution_count": 32,
   "id": "8b82cba2",
   "metadata": {
    "id": "jomCt764vtrc",
    "outputId": "4531c8d5-b384-45c6-9d76-e0c7c14b8143",
    "papermill": {
     "duration": 0.218402,
     "end_time": "2021-12-22T10:15:29.461128",
     "exception": false,
     "start_time": "2021-12-22T10:15:29.242726",
     "status": "completed"
    },
    "tags": []
   },
   "outputs": [],
   "source": [
    "# creating a dataframe with multi-class labels (normal and attack)\n",
    "multi_data = train_data.copy()\n",
    "multi_label = pd.DataFrame(multi_data.label)\n"
   ]
  },
  {
   "cell_type": "code",
   "execution_count": 33,
   "id": "cb18f3aa",
   "metadata": {
    "tags": []
   },
   "outputs": [],
   "source": [
    "# using standard scaler for normalizing\n",
    "std_scaler = StandardScaler()\n",
    "def standardization(df,col):\n",
    "  for i in col:\n",
    "    arr = df[i]\n",
    "    arr = np.array(arr)\n",
    "    df[i] = std_scaler.fit_transform(arr.reshape(len(arr),1))\n",
    "  return df\n",
    "\n",
    "numeric_col = multi_data.select_dtypes(include='number').columns\n",
    "data = standardization(multi_data,numeric_col)"
   ]
  },
  {
   "cell_type": "code",
   "execution_count": 34,
   "id": "7142c4b0",
   "metadata": {
    "id": "k8nmwYMmvzX5",
    "outputId": "3e98df5f-096e-4079-c4e7-9f271018b39d",
    "papermill": {
     "duration": 0.303527,
     "end_time": "2021-12-22T10:15:29.953698",
     "exception": false,
     "start_time": "2021-12-22T10:15:29.650171",
     "status": "completed"
    },
    "tags": []
   },
   "outputs": [
    {
     "data": {
      "text/html": [
       "<div>\n",
       "<style scoped>\n",
       "    .dataframe tbody tr th:only-of-type {\n",
       "        vertical-align: middle;\n",
       "    }\n",
       "\n",
       "    .dataframe tbody tr th {\n",
       "        vertical-align: top;\n",
       "    }\n",
       "\n",
       "    .dataframe thead th {\n",
       "        text-align: right;\n",
       "    }\n",
       "</style>\n",
       "<table border=\"1\" class=\"dataframe\">\n",
       "  <thead>\n",
       "    <tr style=\"text-align: right;\">\n",
       "      <th></th>\n",
       "      <th>duration</th>\n",
       "      <th>protocol_type</th>\n",
       "      <th>service</th>\n",
       "      <th>flag</th>\n",
       "      <th>src_bytes</th>\n",
       "      <th>dst_bytes</th>\n",
       "      <th>land</th>\n",
       "      <th>wrong_fragment</th>\n",
       "      <th>urgent</th>\n",
       "      <th>hot</th>\n",
       "      <th>...</th>\n",
       "      <th>dst_host_same_srv_rate</th>\n",
       "      <th>dst_host_diff_srv_rate</th>\n",
       "      <th>dst_host_same_src_port_rate</th>\n",
       "      <th>dst_host_srv_diff_host_rate</th>\n",
       "      <th>dst_host_serror_rate</th>\n",
       "      <th>dst_host_srv_serror_rate</th>\n",
       "      <th>dst_host_rerror_rate</th>\n",
       "      <th>dst_host_srv_rerror_rate</th>\n",
       "      <th>label</th>\n",
       "      <th>intrusion</th>\n",
       "    </tr>\n",
       "  </thead>\n",
       "  <tbody>\n",
       "    <tr>\n",
       "      <th>0</th>\n",
       "      <td>-0.110249</td>\n",
       "      <td>tcp</td>\n",
       "      <td>ftp_data</td>\n",
       "      <td>SF</td>\n",
       "      <td>-0.007679</td>\n",
       "      <td>-0.004919</td>\n",
       "      <td>-0.014089</td>\n",
       "      <td>-0.089486</td>\n",
       "      <td>-0.007736</td>\n",
       "      <td>-0.095076</td>\n",
       "      <td>...</td>\n",
       "      <td>-0.782367</td>\n",
       "      <td>-0.280282</td>\n",
       "      <td>0.069972</td>\n",
       "      <td>-0.289103</td>\n",
       "      <td>-0.639532</td>\n",
       "      <td>-0.624871</td>\n",
       "      <td>-0.224532</td>\n",
       "      <td>-0.376387</td>\n",
       "      <td>normal</td>\n",
       "      <td>1</td>\n",
       "    </tr>\n",
       "    <tr>\n",
       "      <th>1</th>\n",
       "      <td>-0.110249</td>\n",
       "      <td>udp</td>\n",
       "      <td>other</td>\n",
       "      <td>SF</td>\n",
       "      <td>-0.007737</td>\n",
       "      <td>-0.004919</td>\n",
       "      <td>-0.014089</td>\n",
       "      <td>-0.089486</td>\n",
       "      <td>-0.007736</td>\n",
       "      <td>-0.095076</td>\n",
       "      <td>...</td>\n",
       "      <td>-1.161030</td>\n",
       "      <td>2.736852</td>\n",
       "      <td>2.367737</td>\n",
       "      <td>-0.289103</td>\n",
       "      <td>-0.639532</td>\n",
       "      <td>-0.624871</td>\n",
       "      <td>-0.387635</td>\n",
       "      <td>-0.376387</td>\n",
       "      <td>normal</td>\n",
       "      <td>1</td>\n",
       "    </tr>\n",
       "    <tr>\n",
       "      <th>2</th>\n",
       "      <td>-0.110249</td>\n",
       "      <td>tcp</td>\n",
       "      <td>private</td>\n",
       "      <td>S0</td>\n",
       "      <td>-0.007762</td>\n",
       "      <td>-0.004919</td>\n",
       "      <td>-0.014089</td>\n",
       "      <td>-0.089486</td>\n",
       "      <td>-0.007736</td>\n",
       "      <td>-0.095076</td>\n",
       "      <td>...</td>\n",
       "      <td>-0.938287</td>\n",
       "      <td>-0.174417</td>\n",
       "      <td>-0.480197</td>\n",
       "      <td>-0.289103</td>\n",
       "      <td>1.608759</td>\n",
       "      <td>1.618955</td>\n",
       "      <td>-0.387635</td>\n",
       "      <td>-0.376387</td>\n",
       "      <td>Attack</td>\n",
       "      <td>0</td>\n",
       "    </tr>\n",
       "    <tr>\n",
       "      <th>3</th>\n",
       "      <td>-0.110249</td>\n",
       "      <td>tcp</td>\n",
       "      <td>http</td>\n",
       "      <td>SF</td>\n",
       "      <td>-0.007723</td>\n",
       "      <td>-0.002891</td>\n",
       "      <td>-0.014089</td>\n",
       "      <td>-0.089486</td>\n",
       "      <td>-0.007736</td>\n",
       "      <td>-0.095076</td>\n",
       "      <td>...</td>\n",
       "      <td>1.066401</td>\n",
       "      <td>-0.439078</td>\n",
       "      <td>-0.383108</td>\n",
       "      <td>0.066252</td>\n",
       "      <td>-0.572083</td>\n",
       "      <td>-0.602433</td>\n",
       "      <td>-0.387635</td>\n",
       "      <td>-0.345084</td>\n",
       "      <td>normal</td>\n",
       "      <td>1</td>\n",
       "    </tr>\n",
       "    <tr>\n",
       "      <th>4</th>\n",
       "      <td>-0.110249</td>\n",
       "      <td>tcp</td>\n",
       "      <td>http</td>\n",
       "      <td>SF</td>\n",
       "      <td>-0.007728</td>\n",
       "      <td>-0.004814</td>\n",
       "      <td>-0.014089</td>\n",
       "      <td>-0.089486</td>\n",
       "      <td>-0.007736</td>\n",
       "      <td>-0.095076</td>\n",
       "      <td>...</td>\n",
       "      <td>1.066401</td>\n",
       "      <td>-0.439078</td>\n",
       "      <td>-0.480197</td>\n",
       "      <td>-0.289103</td>\n",
       "      <td>-0.639532</td>\n",
       "      <td>-0.624871</td>\n",
       "      <td>-0.387635</td>\n",
       "      <td>-0.376387</td>\n",
       "      <td>normal</td>\n",
       "      <td>1</td>\n",
       "    </tr>\n",
       "    <tr>\n",
       "      <th>...</th>\n",
       "      <td>...</td>\n",
       "      <td>...</td>\n",
       "      <td>...</td>\n",
       "      <td>...</td>\n",
       "      <td>...</td>\n",
       "      <td>...</td>\n",
       "      <td>...</td>\n",
       "      <td>...</td>\n",
       "      <td>...</td>\n",
       "      <td>...</td>\n",
       "      <td>...</td>\n",
       "      <td>...</td>\n",
       "      <td>...</td>\n",
       "      <td>...</td>\n",
       "      <td>...</td>\n",
       "      <td>...</td>\n",
       "      <td>...</td>\n",
       "      <td>...</td>\n",
       "      <td>...</td>\n",
       "      <td>...</td>\n",
       "      <td>...</td>\n",
       "    </tr>\n",
       "    <tr>\n",
       "      <th>125968</th>\n",
       "      <td>-0.110249</td>\n",
       "      <td>tcp</td>\n",
       "      <td>private</td>\n",
       "      <td>S0</td>\n",
       "      <td>-0.007762</td>\n",
       "      <td>-0.004919</td>\n",
       "      <td>-0.014089</td>\n",
       "      <td>-0.089486</td>\n",
       "      <td>-0.007736</td>\n",
       "      <td>-0.095076</td>\n",
       "      <td>...</td>\n",
       "      <td>-0.938287</td>\n",
       "      <td>-0.121485</td>\n",
       "      <td>-0.480197</td>\n",
       "      <td>-0.289103</td>\n",
       "      <td>1.608759</td>\n",
       "      <td>1.618955</td>\n",
       "      <td>-0.387635</td>\n",
       "      <td>-0.376387</td>\n",
       "      <td>Attack</td>\n",
       "      <td>0</td>\n",
       "    </tr>\n",
       "    <tr>\n",
       "      <th>125969</th>\n",
       "      <td>-0.107178</td>\n",
       "      <td>udp</td>\n",
       "      <td>private</td>\n",
       "      <td>SF</td>\n",
       "      <td>-0.007744</td>\n",
       "      <td>-0.004883</td>\n",
       "      <td>-0.014089</td>\n",
       "      <td>-0.089486</td>\n",
       "      <td>-0.007736</td>\n",
       "      <td>-0.095076</td>\n",
       "      <td>...</td>\n",
       "      <td>0.977304</td>\n",
       "      <td>-0.386146</td>\n",
       "      <td>-0.447834</td>\n",
       "      <td>-0.289103</td>\n",
       "      <td>-0.639532</td>\n",
       "      <td>-0.624871</td>\n",
       "      <td>-0.387635</td>\n",
       "      <td>-0.376387</td>\n",
       "      <td>normal</td>\n",
       "      <td>1</td>\n",
       "    </tr>\n",
       "    <tr>\n",
       "      <th>125970</th>\n",
       "      <td>-0.110249</td>\n",
       "      <td>tcp</td>\n",
       "      <td>smtp</td>\n",
       "      <td>SF</td>\n",
       "      <td>-0.007382</td>\n",
       "      <td>-0.004823</td>\n",
       "      <td>-0.014089</td>\n",
       "      <td>-0.089486</td>\n",
       "      <td>-0.007736</td>\n",
       "      <td>-0.095076</td>\n",
       "      <td>...</td>\n",
       "      <td>-0.893738</td>\n",
       "      <td>-0.121485</td>\n",
       "      <td>-0.480197</td>\n",
       "      <td>-0.289103</td>\n",
       "      <td>0.979238</td>\n",
       "      <td>-0.624871</td>\n",
       "      <td>-0.355014</td>\n",
       "      <td>-0.376387</td>\n",
       "      <td>normal</td>\n",
       "      <td>1</td>\n",
       "    </tr>\n",
       "    <tr>\n",
       "      <th>125971</th>\n",
       "      <td>-0.110249</td>\n",
       "      <td>tcp</td>\n",
       "      <td>klogin</td>\n",
       "      <td>S0</td>\n",
       "      <td>-0.007762</td>\n",
       "      <td>-0.004919</td>\n",
       "      <td>-0.014089</td>\n",
       "      <td>-0.089486</td>\n",
       "      <td>-0.007736</td>\n",
       "      <td>-0.095076</td>\n",
       "      <td>...</td>\n",
       "      <td>-1.094207</td>\n",
       "      <td>-0.174417</td>\n",
       "      <td>-0.480197</td>\n",
       "      <td>-0.289103</td>\n",
       "      <td>1.608759</td>\n",
       "      <td>1.618955</td>\n",
       "      <td>-0.387635</td>\n",
       "      <td>-0.376387</td>\n",
       "      <td>Attack</td>\n",
       "      <td>0</td>\n",
       "    </tr>\n",
       "    <tr>\n",
       "      <th>125972</th>\n",
       "      <td>-0.110249</td>\n",
       "      <td>tcp</td>\n",
       "      <td>ftp_data</td>\n",
       "      <td>SF</td>\n",
       "      <td>-0.007737</td>\n",
       "      <td>-0.004919</td>\n",
       "      <td>-0.014089</td>\n",
       "      <td>-0.089486</td>\n",
       "      <td>-0.007736</td>\n",
       "      <td>-0.095076</td>\n",
       "      <td>...</td>\n",
       "      <td>-0.492801</td>\n",
       "      <td>-0.280282</td>\n",
       "      <td>0.490690</td>\n",
       "      <td>-0.289103</td>\n",
       "      <td>-0.639532</td>\n",
       "      <td>-0.624871</td>\n",
       "      <td>-0.387635</td>\n",
       "      <td>-0.376387</td>\n",
       "      <td>normal</td>\n",
       "      <td>1</td>\n",
       "    </tr>\n",
       "  </tbody>\n",
       "</table>\n",
       "<p>125973 rows × 43 columns</p>\n",
       "</div>"
      ],
      "text/plain": [
       "        duration protocol_type   service flag  src_bytes  dst_bytes      land  \\\n",
       "0      -0.110249           tcp  ftp_data   SF  -0.007679  -0.004919 -0.014089   \n",
       "1      -0.110249           udp     other   SF  -0.007737  -0.004919 -0.014089   \n",
       "2      -0.110249           tcp   private   S0  -0.007762  -0.004919 -0.014089   \n",
       "3      -0.110249           tcp      http   SF  -0.007723  -0.002891 -0.014089   \n",
       "4      -0.110249           tcp      http   SF  -0.007728  -0.004814 -0.014089   \n",
       "...          ...           ...       ...  ...        ...        ...       ...   \n",
       "125968 -0.110249           tcp   private   S0  -0.007762  -0.004919 -0.014089   \n",
       "125969 -0.107178           udp   private   SF  -0.007744  -0.004883 -0.014089   \n",
       "125970 -0.110249           tcp      smtp   SF  -0.007382  -0.004823 -0.014089   \n",
       "125971 -0.110249           tcp    klogin   S0  -0.007762  -0.004919 -0.014089   \n",
       "125972 -0.110249           tcp  ftp_data   SF  -0.007737  -0.004919 -0.014089   \n",
       "\n",
       "        wrong_fragment    urgent       hot  ...  dst_host_same_srv_rate  \\\n",
       "0            -0.089486 -0.007736 -0.095076  ...               -0.782367   \n",
       "1            -0.089486 -0.007736 -0.095076  ...               -1.161030   \n",
       "2            -0.089486 -0.007736 -0.095076  ...               -0.938287   \n",
       "3            -0.089486 -0.007736 -0.095076  ...                1.066401   \n",
       "4            -0.089486 -0.007736 -0.095076  ...                1.066401   \n",
       "...                ...       ...       ...  ...                     ...   \n",
       "125968       -0.089486 -0.007736 -0.095076  ...               -0.938287   \n",
       "125969       -0.089486 -0.007736 -0.095076  ...                0.977304   \n",
       "125970       -0.089486 -0.007736 -0.095076  ...               -0.893738   \n",
       "125971       -0.089486 -0.007736 -0.095076  ...               -1.094207   \n",
       "125972       -0.089486 -0.007736 -0.095076  ...               -0.492801   \n",
       "\n",
       "        dst_host_diff_srv_rate  dst_host_same_src_port_rate  \\\n",
       "0                    -0.280282                     0.069972   \n",
       "1                     2.736852                     2.367737   \n",
       "2                    -0.174417                    -0.480197   \n",
       "3                    -0.439078                    -0.383108   \n",
       "4                    -0.439078                    -0.480197   \n",
       "...                        ...                          ...   \n",
       "125968               -0.121485                    -0.480197   \n",
       "125969               -0.386146                    -0.447834   \n",
       "125970               -0.121485                    -0.480197   \n",
       "125971               -0.174417                    -0.480197   \n",
       "125972               -0.280282                     0.490690   \n",
       "\n",
       "        dst_host_srv_diff_host_rate  dst_host_serror_rate  \\\n",
       "0                         -0.289103             -0.639532   \n",
       "1                         -0.289103             -0.639532   \n",
       "2                         -0.289103              1.608759   \n",
       "3                          0.066252             -0.572083   \n",
       "4                         -0.289103             -0.639532   \n",
       "...                             ...                   ...   \n",
       "125968                    -0.289103              1.608759   \n",
       "125969                    -0.289103             -0.639532   \n",
       "125970                    -0.289103              0.979238   \n",
       "125971                    -0.289103              1.608759   \n",
       "125972                    -0.289103             -0.639532   \n",
       "\n",
       "        dst_host_srv_serror_rate  dst_host_rerror_rate  \\\n",
       "0                      -0.624871             -0.224532   \n",
       "1                      -0.624871             -0.387635   \n",
       "2                       1.618955             -0.387635   \n",
       "3                      -0.602433             -0.387635   \n",
       "4                      -0.624871             -0.387635   \n",
       "...                          ...                   ...   \n",
       "125968                  1.618955             -0.387635   \n",
       "125969                 -0.624871             -0.387635   \n",
       "125970                 -0.624871             -0.355014   \n",
       "125971                  1.618955             -0.387635   \n",
       "125972                 -0.624871             -0.387635   \n",
       "\n",
       "        dst_host_srv_rerror_rate   label  intrusion  \n",
       "0                      -0.376387  normal          1  \n",
       "1                      -0.376387  normal          1  \n",
       "2                      -0.376387  Attack          0  \n",
       "3                      -0.345084  normal          1  \n",
       "4                      -0.376387  normal          1  \n",
       "...                          ...     ...        ...  \n",
       "125968                 -0.376387  Attack          0  \n",
       "125969                 -0.376387  normal          1  \n",
       "125970                 -0.376387  normal          1  \n",
       "125971                 -0.376387  Attack          0  \n",
       "125972                 -0.376387  normal          1  \n",
       "\n",
       "[125973 rows x 43 columns]"
      ]
     },
     "execution_count": 34,
     "metadata": {},
     "output_type": "execute_result"
    }
   ],
   "source": [
    "# label encoding (0,1) multi-class labels (normal, attack)\n",
    "le2 = preprocessing.LabelEncoder()\n",
    "enc_label = multi_label.apply(le2.fit_transform)\n",
    "multi_data['intrusion'] = enc_label\n",
    "#y_mul = multi_data['intrusion']\n",
    "multi_data"
   ]
  },
  {
   "cell_type": "code",
   "execution_count": 35,
   "id": "71c1f4db",
   "metadata": {
    "tags": []
   },
   "outputs": [
    {
     "data": {
      "text/html": [
       "<div>\n",
       "<style scoped>\n",
       "    .dataframe tbody tr th:only-of-type {\n",
       "        vertical-align: middle;\n",
       "    }\n",
       "\n",
       "    .dataframe tbody tr th {\n",
       "        vertical-align: top;\n",
       "    }\n",
       "\n",
       "    .dataframe thead th {\n",
       "        text-align: right;\n",
       "    }\n",
       "</style>\n",
       "<table border=\"1\" class=\"dataframe\">\n",
       "  <thead>\n",
       "    <tr style=\"text-align: right;\">\n",
       "      <th></th>\n",
       "      <th>duration</th>\n",
       "      <th>protocol_type</th>\n",
       "      <th>service</th>\n",
       "      <th>flag</th>\n",
       "      <th>src_bytes</th>\n",
       "      <th>dst_bytes</th>\n",
       "      <th>land</th>\n",
       "      <th>wrong_fragment</th>\n",
       "      <th>urgent</th>\n",
       "      <th>hot</th>\n",
       "      <th>...</th>\n",
       "      <th>dst_host_srv_count</th>\n",
       "      <th>dst_host_same_srv_rate</th>\n",
       "      <th>dst_host_diff_srv_rate</th>\n",
       "      <th>dst_host_same_src_port_rate</th>\n",
       "      <th>dst_host_srv_diff_host_rate</th>\n",
       "      <th>dst_host_serror_rate</th>\n",
       "      <th>dst_host_srv_serror_rate</th>\n",
       "      <th>dst_host_rerror_rate</th>\n",
       "      <th>dst_host_srv_rerror_rate</th>\n",
       "      <th>intrusion</th>\n",
       "    </tr>\n",
       "  </thead>\n",
       "  <tbody>\n",
       "    <tr>\n",
       "      <th>0</th>\n",
       "      <td>-0.110249</td>\n",
       "      <td>tcp</td>\n",
       "      <td>ftp_data</td>\n",
       "      <td>SF</td>\n",
       "      <td>-0.007679</td>\n",
       "      <td>-0.004919</td>\n",
       "      <td>-0.014089</td>\n",
       "      <td>-0.089486</td>\n",
       "      <td>-0.007736</td>\n",
       "      <td>-0.095076</td>\n",
       "      <td>...</td>\n",
       "      <td>-0.818890</td>\n",
       "      <td>-0.782367</td>\n",
       "      <td>-0.280282</td>\n",
       "      <td>0.069972</td>\n",
       "      <td>-0.289103</td>\n",
       "      <td>-0.639532</td>\n",
       "      <td>-0.624871</td>\n",
       "      <td>-0.224532</td>\n",
       "      <td>-0.376387</td>\n",
       "      <td>1</td>\n",
       "    </tr>\n",
       "    <tr>\n",
       "      <th>1</th>\n",
       "      <td>-0.110249</td>\n",
       "      <td>udp</td>\n",
       "      <td>other</td>\n",
       "      <td>SF</td>\n",
       "      <td>-0.007737</td>\n",
       "      <td>-0.004919</td>\n",
       "      <td>-0.014089</td>\n",
       "      <td>-0.089486</td>\n",
       "      <td>-0.007736</td>\n",
       "      <td>-0.095076</td>\n",
       "      <td>...</td>\n",
       "      <td>-1.035688</td>\n",
       "      <td>-1.161030</td>\n",
       "      <td>2.736852</td>\n",
       "      <td>2.367737</td>\n",
       "      <td>-0.289103</td>\n",
       "      <td>-0.639532</td>\n",
       "      <td>-0.624871</td>\n",
       "      <td>-0.387635</td>\n",
       "      <td>-0.376387</td>\n",
       "      <td>1</td>\n",
       "    </tr>\n",
       "    <tr>\n",
       "      <th>2</th>\n",
       "      <td>-0.110249</td>\n",
       "      <td>tcp</td>\n",
       "      <td>private</td>\n",
       "      <td>S0</td>\n",
       "      <td>-0.007762</td>\n",
       "      <td>-0.004919</td>\n",
       "      <td>-0.014089</td>\n",
       "      <td>-0.089486</td>\n",
       "      <td>-0.007736</td>\n",
       "      <td>-0.095076</td>\n",
       "      <td>...</td>\n",
       "      <td>-0.809857</td>\n",
       "      <td>-0.938287</td>\n",
       "      <td>-0.174417</td>\n",
       "      <td>-0.480197</td>\n",
       "      <td>-0.289103</td>\n",
       "      <td>1.608759</td>\n",
       "      <td>1.618955</td>\n",
       "      <td>-0.387635</td>\n",
       "      <td>-0.376387</td>\n",
       "      <td>0</td>\n",
       "    </tr>\n",
       "    <tr>\n",
       "      <th>3</th>\n",
       "      <td>-0.110249</td>\n",
       "      <td>tcp</td>\n",
       "      <td>http</td>\n",
       "      <td>SF</td>\n",
       "      <td>-0.007723</td>\n",
       "      <td>-0.002891</td>\n",
       "      <td>-0.014089</td>\n",
       "      <td>-0.089486</td>\n",
       "      <td>-0.007736</td>\n",
       "      <td>-0.095076</td>\n",
       "      <td>...</td>\n",
       "      <td>1.258754</td>\n",
       "      <td>1.066401</td>\n",
       "      <td>-0.439078</td>\n",
       "      <td>-0.383108</td>\n",
       "      <td>0.066252</td>\n",
       "      <td>-0.572083</td>\n",
       "      <td>-0.602433</td>\n",
       "      <td>-0.387635</td>\n",
       "      <td>-0.345084</td>\n",
       "      <td>1</td>\n",
       "    </tr>\n",
       "    <tr>\n",
       "      <th>4</th>\n",
       "      <td>-0.110249</td>\n",
       "      <td>tcp</td>\n",
       "      <td>http</td>\n",
       "      <td>SF</td>\n",
       "      <td>-0.007728</td>\n",
       "      <td>-0.004814</td>\n",
       "      <td>-0.014089</td>\n",
       "      <td>-0.089486</td>\n",
       "      <td>-0.007736</td>\n",
       "      <td>-0.095076</td>\n",
       "      <td>...</td>\n",
       "      <td>1.258754</td>\n",
       "      <td>1.066401</td>\n",
       "      <td>-0.439078</td>\n",
       "      <td>-0.480197</td>\n",
       "      <td>-0.289103</td>\n",
       "      <td>-0.639532</td>\n",
       "      <td>-0.624871</td>\n",
       "      <td>-0.387635</td>\n",
       "      <td>-0.376387</td>\n",
       "      <td>1</td>\n",
       "    </tr>\n",
       "    <tr>\n",
       "      <th>...</th>\n",
       "      <td>...</td>\n",
       "      <td>...</td>\n",
       "      <td>...</td>\n",
       "      <td>...</td>\n",
       "      <td>...</td>\n",
       "      <td>...</td>\n",
       "      <td>...</td>\n",
       "      <td>...</td>\n",
       "      <td>...</td>\n",
       "      <td>...</td>\n",
       "      <td>...</td>\n",
       "      <td>...</td>\n",
       "      <td>...</td>\n",
       "      <td>...</td>\n",
       "      <td>...</td>\n",
       "      <td>...</td>\n",
       "      <td>...</td>\n",
       "      <td>...</td>\n",
       "      <td>...</td>\n",
       "      <td>...</td>\n",
       "      <td>...</td>\n",
       "    </tr>\n",
       "    <tr>\n",
       "      <th>125968</th>\n",
       "      <td>-0.110249</td>\n",
       "      <td>tcp</td>\n",
       "      <td>private</td>\n",
       "      <td>S0</td>\n",
       "      <td>-0.007762</td>\n",
       "      <td>-0.004919</td>\n",
       "      <td>-0.014089</td>\n",
       "      <td>-0.089486</td>\n",
       "      <td>-0.007736</td>\n",
       "      <td>-0.095076</td>\n",
       "      <td>...</td>\n",
       "      <td>-0.818890</td>\n",
       "      <td>-0.938287</td>\n",
       "      <td>-0.121485</td>\n",
       "      <td>-0.480197</td>\n",
       "      <td>-0.289103</td>\n",
       "      <td>1.608759</td>\n",
       "      <td>1.618955</td>\n",
       "      <td>-0.387635</td>\n",
       "      <td>-0.376387</td>\n",
       "      <td>0</td>\n",
       "    </tr>\n",
       "    <tr>\n",
       "      <th>125969</th>\n",
       "      <td>-0.107178</td>\n",
       "      <td>udp</td>\n",
       "      <td>private</td>\n",
       "      <td>SF</td>\n",
       "      <td>-0.007744</td>\n",
       "      <td>-0.004883</td>\n",
       "      <td>-0.014089</td>\n",
       "      <td>-0.089486</td>\n",
       "      <td>-0.007736</td>\n",
       "      <td>-0.095076</td>\n",
       "      <td>...</td>\n",
       "      <td>1.159389</td>\n",
       "      <td>0.977304</td>\n",
       "      <td>-0.386146</td>\n",
       "      <td>-0.447834</td>\n",
       "      <td>-0.289103</td>\n",
       "      <td>-0.639532</td>\n",
       "      <td>-0.624871</td>\n",
       "      <td>-0.387635</td>\n",
       "      <td>-0.376387</td>\n",
       "      <td>1</td>\n",
       "    </tr>\n",
       "    <tr>\n",
       "      <th>125970</th>\n",
       "      <td>-0.110249</td>\n",
       "      <td>tcp</td>\n",
       "      <td>smtp</td>\n",
       "      <td>SF</td>\n",
       "      <td>-0.007382</td>\n",
       "      <td>-0.004823</td>\n",
       "      <td>-0.014089</td>\n",
       "      <td>-0.089486</td>\n",
       "      <td>-0.007736</td>\n",
       "      <td>-0.095076</td>\n",
       "      <td>...</td>\n",
       "      <td>-0.773724</td>\n",
       "      <td>-0.893738</td>\n",
       "      <td>-0.121485</td>\n",
       "      <td>-0.480197</td>\n",
       "      <td>-0.289103</td>\n",
       "      <td>0.979238</td>\n",
       "      <td>-0.624871</td>\n",
       "      <td>-0.355014</td>\n",
       "      <td>-0.376387</td>\n",
       "      <td>1</td>\n",
       "    </tr>\n",
       "    <tr>\n",
       "      <th>125971</th>\n",
       "      <td>-0.110249</td>\n",
       "      <td>tcp</td>\n",
       "      <td>klogin</td>\n",
       "      <td>S0</td>\n",
       "      <td>-0.007762</td>\n",
       "      <td>-0.004919</td>\n",
       "      <td>-0.014089</td>\n",
       "      <td>-0.089486</td>\n",
       "      <td>-0.007736</td>\n",
       "      <td>-0.095076</td>\n",
       "      <td>...</td>\n",
       "      <td>-0.972455</td>\n",
       "      <td>-1.094207</td>\n",
       "      <td>-0.174417</td>\n",
       "      <td>-0.480197</td>\n",
       "      <td>-0.289103</td>\n",
       "      <td>1.608759</td>\n",
       "      <td>1.618955</td>\n",
       "      <td>-0.387635</td>\n",
       "      <td>-0.376387</td>\n",
       "      <td>0</td>\n",
       "    </tr>\n",
       "    <tr>\n",
       "      <th>125972</th>\n",
       "      <td>-0.110249</td>\n",
       "      <td>tcp</td>\n",
       "      <td>ftp_data</td>\n",
       "      <td>SF</td>\n",
       "      <td>-0.007737</td>\n",
       "      <td>-0.004919</td>\n",
       "      <td>-0.014089</td>\n",
       "      <td>-0.089486</td>\n",
       "      <td>-0.007736</td>\n",
       "      <td>-0.095076</td>\n",
       "      <td>...</td>\n",
       "      <td>-0.349162</td>\n",
       "      <td>-0.492801</td>\n",
       "      <td>-0.280282</td>\n",
       "      <td>0.490690</td>\n",
       "      <td>-0.289103</td>\n",
       "      <td>-0.639532</td>\n",
       "      <td>-0.624871</td>\n",
       "      <td>-0.387635</td>\n",
       "      <td>-0.376387</td>\n",
       "      <td>1</td>\n",
       "    </tr>\n",
       "  </tbody>\n",
       "</table>\n",
       "<p>125973 rows × 42 columns</p>\n",
       "</div>"
      ],
      "text/plain": [
       "        duration protocol_type   service flag  src_bytes  dst_bytes      land  \\\n",
       "0      -0.110249           tcp  ftp_data   SF  -0.007679  -0.004919 -0.014089   \n",
       "1      -0.110249           udp     other   SF  -0.007737  -0.004919 -0.014089   \n",
       "2      -0.110249           tcp   private   S0  -0.007762  -0.004919 -0.014089   \n",
       "3      -0.110249           tcp      http   SF  -0.007723  -0.002891 -0.014089   \n",
       "4      -0.110249           tcp      http   SF  -0.007728  -0.004814 -0.014089   \n",
       "...          ...           ...       ...  ...        ...        ...       ...   \n",
       "125968 -0.110249           tcp   private   S0  -0.007762  -0.004919 -0.014089   \n",
       "125969 -0.107178           udp   private   SF  -0.007744  -0.004883 -0.014089   \n",
       "125970 -0.110249           tcp      smtp   SF  -0.007382  -0.004823 -0.014089   \n",
       "125971 -0.110249           tcp    klogin   S0  -0.007762  -0.004919 -0.014089   \n",
       "125972 -0.110249           tcp  ftp_data   SF  -0.007737  -0.004919 -0.014089   \n",
       "\n",
       "        wrong_fragment    urgent       hot  ...  dst_host_srv_count  \\\n",
       "0            -0.089486 -0.007736 -0.095076  ...           -0.818890   \n",
       "1            -0.089486 -0.007736 -0.095076  ...           -1.035688   \n",
       "2            -0.089486 -0.007736 -0.095076  ...           -0.809857   \n",
       "3            -0.089486 -0.007736 -0.095076  ...            1.258754   \n",
       "4            -0.089486 -0.007736 -0.095076  ...            1.258754   \n",
       "...                ...       ...       ...  ...                 ...   \n",
       "125968       -0.089486 -0.007736 -0.095076  ...           -0.818890   \n",
       "125969       -0.089486 -0.007736 -0.095076  ...            1.159389   \n",
       "125970       -0.089486 -0.007736 -0.095076  ...           -0.773724   \n",
       "125971       -0.089486 -0.007736 -0.095076  ...           -0.972455   \n",
       "125972       -0.089486 -0.007736 -0.095076  ...           -0.349162   \n",
       "\n",
       "        dst_host_same_srv_rate  dst_host_diff_srv_rate  \\\n",
       "0                    -0.782367               -0.280282   \n",
       "1                    -1.161030                2.736852   \n",
       "2                    -0.938287               -0.174417   \n",
       "3                     1.066401               -0.439078   \n",
       "4                     1.066401               -0.439078   \n",
       "...                        ...                     ...   \n",
       "125968               -0.938287               -0.121485   \n",
       "125969                0.977304               -0.386146   \n",
       "125970               -0.893738               -0.121485   \n",
       "125971               -1.094207               -0.174417   \n",
       "125972               -0.492801               -0.280282   \n",
       "\n",
       "        dst_host_same_src_port_rate  dst_host_srv_diff_host_rate  \\\n",
       "0                          0.069972                    -0.289103   \n",
       "1                          2.367737                    -0.289103   \n",
       "2                         -0.480197                    -0.289103   \n",
       "3                         -0.383108                     0.066252   \n",
       "4                         -0.480197                    -0.289103   \n",
       "...                             ...                          ...   \n",
       "125968                    -0.480197                    -0.289103   \n",
       "125969                    -0.447834                    -0.289103   \n",
       "125970                    -0.480197                    -0.289103   \n",
       "125971                    -0.480197                    -0.289103   \n",
       "125972                     0.490690                    -0.289103   \n",
       "\n",
       "        dst_host_serror_rate  dst_host_srv_serror_rate  dst_host_rerror_rate  \\\n",
       "0                  -0.639532                 -0.624871             -0.224532   \n",
       "1                  -0.639532                 -0.624871             -0.387635   \n",
       "2                   1.608759                  1.618955             -0.387635   \n",
       "3                  -0.572083                 -0.602433             -0.387635   \n",
       "4                  -0.639532                 -0.624871             -0.387635   \n",
       "...                      ...                       ...                   ...   \n",
       "125968              1.608759                  1.618955             -0.387635   \n",
       "125969             -0.639532                 -0.624871             -0.387635   \n",
       "125970              0.979238                 -0.624871             -0.355014   \n",
       "125971              1.608759                  1.618955             -0.387635   \n",
       "125972             -0.639532                 -0.624871             -0.387635   \n",
       "\n",
       "        dst_host_srv_rerror_rate  intrusion  \n",
       "0                      -0.376387          1  \n",
       "1                      -0.376387          1  \n",
       "2                      -0.376387          0  \n",
       "3                      -0.345084          1  \n",
       "4                      -0.376387          1  \n",
       "...                          ...        ...  \n",
       "125968                 -0.376387          0  \n",
       "125969                 -0.376387          1  \n",
       "125970                 -0.376387          1  \n",
       "125971                 -0.376387          0  \n",
       "125972                 -0.376387          1  \n",
       "\n",
       "[125973 rows x 42 columns]"
      ]
     },
     "execution_count": 35,
     "metadata": {},
     "output_type": "execute_result"
    }
   ],
   "source": [
    "multi_data.drop(labels= ['label'], axis=1, inplace=True)\n",
    "multi_data"
   ]
  },
  {
   "cell_type": "code",
   "execution_count": 36,
   "id": "83a36171",
   "metadata": {
    "id": "Ex5VH-NYv0D9",
    "outputId": "4ed81f2b-954b-4c8c-8d18-25cc4da611b9",
    "papermill": {
     "duration": 0.342759,
     "end_time": "2021-12-22T10:15:30.475716",
     "exception": false,
     "start_time": "2021-12-22T10:15:30.132957",
     "status": "completed"
    },
    "tags": []
   },
   "outputs": [
    {
     "data": {
      "text/html": [
       "<div>\n",
       "<style scoped>\n",
       "    .dataframe tbody tr th:only-of-type {\n",
       "        vertical-align: middle;\n",
       "    }\n",
       "\n",
       "    .dataframe tbody tr th {\n",
       "        vertical-align: top;\n",
       "    }\n",
       "\n",
       "    .dataframe thead th {\n",
       "        text-align: right;\n",
       "    }\n",
       "</style>\n",
       "<table border=\"1\" class=\"dataframe\">\n",
       "  <thead>\n",
       "    <tr style=\"text-align: right;\">\n",
       "      <th></th>\n",
       "      <th>duration</th>\n",
       "      <th>src_bytes</th>\n",
       "      <th>dst_bytes</th>\n",
       "      <th>land</th>\n",
       "      <th>wrong_fragment</th>\n",
       "      <th>urgent</th>\n",
       "      <th>hot</th>\n",
       "      <th>num_failed_logins</th>\n",
       "      <th>logged_in</th>\n",
       "      <th>num_compromised</th>\n",
       "      <th>...</th>\n",
       "      <th>REJ</th>\n",
       "      <th>RSTO</th>\n",
       "      <th>RSTOS0</th>\n",
       "      <th>RSTR</th>\n",
       "      <th>S0</th>\n",
       "      <th>S1</th>\n",
       "      <th>S2</th>\n",
       "      <th>S3</th>\n",
       "      <th>SF</th>\n",
       "      <th>SH</th>\n",
       "    </tr>\n",
       "  </thead>\n",
       "  <tbody>\n",
       "    <tr>\n",
       "      <th>0</th>\n",
       "      <td>-0.110249</td>\n",
       "      <td>-0.007679</td>\n",
       "      <td>-0.004919</td>\n",
       "      <td>-0.014089</td>\n",
       "      <td>-0.089486</td>\n",
       "      <td>-0.007736</td>\n",
       "      <td>-0.095076</td>\n",
       "      <td>-0.027023</td>\n",
       "      <td>-0.809262</td>\n",
       "      <td>-0.011664</td>\n",
       "      <td>...</td>\n",
       "      <td>0</td>\n",
       "      <td>0</td>\n",
       "      <td>0</td>\n",
       "      <td>0</td>\n",
       "      <td>0</td>\n",
       "      <td>0</td>\n",
       "      <td>0</td>\n",
       "      <td>0</td>\n",
       "      <td>1</td>\n",
       "      <td>0</td>\n",
       "    </tr>\n",
       "    <tr>\n",
       "      <th>1</th>\n",
       "      <td>-0.110249</td>\n",
       "      <td>-0.007737</td>\n",
       "      <td>-0.004919</td>\n",
       "      <td>-0.014089</td>\n",
       "      <td>-0.089486</td>\n",
       "      <td>-0.007736</td>\n",
       "      <td>-0.095076</td>\n",
       "      <td>-0.027023</td>\n",
       "      <td>-0.809262</td>\n",
       "      <td>-0.011664</td>\n",
       "      <td>...</td>\n",
       "      <td>0</td>\n",
       "      <td>0</td>\n",
       "      <td>0</td>\n",
       "      <td>0</td>\n",
       "      <td>0</td>\n",
       "      <td>0</td>\n",
       "      <td>0</td>\n",
       "      <td>0</td>\n",
       "      <td>1</td>\n",
       "      <td>0</td>\n",
       "    </tr>\n",
       "    <tr>\n",
       "      <th>2</th>\n",
       "      <td>-0.110249</td>\n",
       "      <td>-0.007762</td>\n",
       "      <td>-0.004919</td>\n",
       "      <td>-0.014089</td>\n",
       "      <td>-0.089486</td>\n",
       "      <td>-0.007736</td>\n",
       "      <td>-0.095076</td>\n",
       "      <td>-0.027023</td>\n",
       "      <td>-0.809262</td>\n",
       "      <td>-0.011664</td>\n",
       "      <td>...</td>\n",
       "      <td>0</td>\n",
       "      <td>0</td>\n",
       "      <td>0</td>\n",
       "      <td>0</td>\n",
       "      <td>1</td>\n",
       "      <td>0</td>\n",
       "      <td>0</td>\n",
       "      <td>0</td>\n",
       "      <td>0</td>\n",
       "      <td>0</td>\n",
       "    </tr>\n",
       "    <tr>\n",
       "      <th>3</th>\n",
       "      <td>-0.110249</td>\n",
       "      <td>-0.007723</td>\n",
       "      <td>-0.002891</td>\n",
       "      <td>-0.014089</td>\n",
       "      <td>-0.089486</td>\n",
       "      <td>-0.007736</td>\n",
       "      <td>-0.095076</td>\n",
       "      <td>-0.027023</td>\n",
       "      <td>1.235694</td>\n",
       "      <td>-0.011664</td>\n",
       "      <td>...</td>\n",
       "      <td>0</td>\n",
       "      <td>0</td>\n",
       "      <td>0</td>\n",
       "      <td>0</td>\n",
       "      <td>0</td>\n",
       "      <td>0</td>\n",
       "      <td>0</td>\n",
       "      <td>0</td>\n",
       "      <td>1</td>\n",
       "      <td>0</td>\n",
       "    </tr>\n",
       "    <tr>\n",
       "      <th>4</th>\n",
       "      <td>-0.110249</td>\n",
       "      <td>-0.007728</td>\n",
       "      <td>-0.004814</td>\n",
       "      <td>-0.014089</td>\n",
       "      <td>-0.089486</td>\n",
       "      <td>-0.007736</td>\n",
       "      <td>-0.095076</td>\n",
       "      <td>-0.027023</td>\n",
       "      <td>1.235694</td>\n",
       "      <td>-0.011664</td>\n",
       "      <td>...</td>\n",
       "      <td>0</td>\n",
       "      <td>0</td>\n",
       "      <td>0</td>\n",
       "      <td>0</td>\n",
       "      <td>0</td>\n",
       "      <td>0</td>\n",
       "      <td>0</td>\n",
       "      <td>0</td>\n",
       "      <td>1</td>\n",
       "      <td>0</td>\n",
       "    </tr>\n",
       "    <tr>\n",
       "      <th>...</th>\n",
       "      <td>...</td>\n",
       "      <td>...</td>\n",
       "      <td>...</td>\n",
       "      <td>...</td>\n",
       "      <td>...</td>\n",
       "      <td>...</td>\n",
       "      <td>...</td>\n",
       "      <td>...</td>\n",
       "      <td>...</td>\n",
       "      <td>...</td>\n",
       "      <td>...</td>\n",
       "      <td>...</td>\n",
       "      <td>...</td>\n",
       "      <td>...</td>\n",
       "      <td>...</td>\n",
       "      <td>...</td>\n",
       "      <td>...</td>\n",
       "      <td>...</td>\n",
       "      <td>...</td>\n",
       "      <td>...</td>\n",
       "      <td>...</td>\n",
       "    </tr>\n",
       "    <tr>\n",
       "      <th>125968</th>\n",
       "      <td>-0.110249</td>\n",
       "      <td>-0.007762</td>\n",
       "      <td>-0.004919</td>\n",
       "      <td>-0.014089</td>\n",
       "      <td>-0.089486</td>\n",
       "      <td>-0.007736</td>\n",
       "      <td>-0.095076</td>\n",
       "      <td>-0.027023</td>\n",
       "      <td>-0.809262</td>\n",
       "      <td>-0.011664</td>\n",
       "      <td>...</td>\n",
       "      <td>0</td>\n",
       "      <td>0</td>\n",
       "      <td>0</td>\n",
       "      <td>0</td>\n",
       "      <td>1</td>\n",
       "      <td>0</td>\n",
       "      <td>0</td>\n",
       "      <td>0</td>\n",
       "      <td>0</td>\n",
       "      <td>0</td>\n",
       "    </tr>\n",
       "    <tr>\n",
       "      <th>125969</th>\n",
       "      <td>-0.107178</td>\n",
       "      <td>-0.007744</td>\n",
       "      <td>-0.004883</td>\n",
       "      <td>-0.014089</td>\n",
       "      <td>-0.089486</td>\n",
       "      <td>-0.007736</td>\n",
       "      <td>-0.095076</td>\n",
       "      <td>-0.027023</td>\n",
       "      <td>-0.809262</td>\n",
       "      <td>-0.011664</td>\n",
       "      <td>...</td>\n",
       "      <td>0</td>\n",
       "      <td>0</td>\n",
       "      <td>0</td>\n",
       "      <td>0</td>\n",
       "      <td>0</td>\n",
       "      <td>0</td>\n",
       "      <td>0</td>\n",
       "      <td>0</td>\n",
       "      <td>1</td>\n",
       "      <td>0</td>\n",
       "    </tr>\n",
       "    <tr>\n",
       "      <th>125970</th>\n",
       "      <td>-0.110249</td>\n",
       "      <td>-0.007382</td>\n",
       "      <td>-0.004823</td>\n",
       "      <td>-0.014089</td>\n",
       "      <td>-0.089486</td>\n",
       "      <td>-0.007736</td>\n",
       "      <td>-0.095076</td>\n",
       "      <td>-0.027023</td>\n",
       "      <td>1.235694</td>\n",
       "      <td>-0.011664</td>\n",
       "      <td>...</td>\n",
       "      <td>0</td>\n",
       "      <td>0</td>\n",
       "      <td>0</td>\n",
       "      <td>0</td>\n",
       "      <td>0</td>\n",
       "      <td>0</td>\n",
       "      <td>0</td>\n",
       "      <td>0</td>\n",
       "      <td>1</td>\n",
       "      <td>0</td>\n",
       "    </tr>\n",
       "    <tr>\n",
       "      <th>125971</th>\n",
       "      <td>-0.110249</td>\n",
       "      <td>-0.007762</td>\n",
       "      <td>-0.004919</td>\n",
       "      <td>-0.014089</td>\n",
       "      <td>-0.089486</td>\n",
       "      <td>-0.007736</td>\n",
       "      <td>-0.095076</td>\n",
       "      <td>-0.027023</td>\n",
       "      <td>-0.809262</td>\n",
       "      <td>-0.011664</td>\n",
       "      <td>...</td>\n",
       "      <td>0</td>\n",
       "      <td>0</td>\n",
       "      <td>0</td>\n",
       "      <td>0</td>\n",
       "      <td>1</td>\n",
       "      <td>0</td>\n",
       "      <td>0</td>\n",
       "      <td>0</td>\n",
       "      <td>0</td>\n",
       "      <td>0</td>\n",
       "    </tr>\n",
       "    <tr>\n",
       "      <th>125972</th>\n",
       "      <td>-0.110249</td>\n",
       "      <td>-0.007737</td>\n",
       "      <td>-0.004919</td>\n",
       "      <td>-0.014089</td>\n",
       "      <td>-0.089486</td>\n",
       "      <td>-0.007736</td>\n",
       "      <td>-0.095076</td>\n",
       "      <td>-0.027023</td>\n",
       "      <td>1.235694</td>\n",
       "      <td>-0.011664</td>\n",
       "      <td>...</td>\n",
       "      <td>0</td>\n",
       "      <td>0</td>\n",
       "      <td>0</td>\n",
       "      <td>0</td>\n",
       "      <td>0</td>\n",
       "      <td>0</td>\n",
       "      <td>0</td>\n",
       "      <td>0</td>\n",
       "      <td>1</td>\n",
       "      <td>0</td>\n",
       "    </tr>\n",
       "  </tbody>\n",
       "</table>\n",
       "<p>125973 rows × 123 columns</p>\n",
       "</div>"
      ],
      "text/plain": [
       "        duration  src_bytes  dst_bytes      land  wrong_fragment    urgent  \\\n",
       "0      -0.110249  -0.007679  -0.004919 -0.014089       -0.089486 -0.007736   \n",
       "1      -0.110249  -0.007737  -0.004919 -0.014089       -0.089486 -0.007736   \n",
       "2      -0.110249  -0.007762  -0.004919 -0.014089       -0.089486 -0.007736   \n",
       "3      -0.110249  -0.007723  -0.002891 -0.014089       -0.089486 -0.007736   \n",
       "4      -0.110249  -0.007728  -0.004814 -0.014089       -0.089486 -0.007736   \n",
       "...          ...        ...        ...       ...             ...       ...   \n",
       "125968 -0.110249  -0.007762  -0.004919 -0.014089       -0.089486 -0.007736   \n",
       "125969 -0.107178  -0.007744  -0.004883 -0.014089       -0.089486 -0.007736   \n",
       "125970 -0.110249  -0.007382  -0.004823 -0.014089       -0.089486 -0.007736   \n",
       "125971 -0.110249  -0.007762  -0.004919 -0.014089       -0.089486 -0.007736   \n",
       "125972 -0.110249  -0.007737  -0.004919 -0.014089       -0.089486 -0.007736   \n",
       "\n",
       "             hot  num_failed_logins  logged_in  num_compromised  ...  REJ  \\\n",
       "0      -0.095076          -0.027023  -0.809262        -0.011664  ...    0   \n",
       "1      -0.095076          -0.027023  -0.809262        -0.011664  ...    0   \n",
       "2      -0.095076          -0.027023  -0.809262        -0.011664  ...    0   \n",
       "3      -0.095076          -0.027023   1.235694        -0.011664  ...    0   \n",
       "4      -0.095076          -0.027023   1.235694        -0.011664  ...    0   \n",
       "...          ...                ...        ...              ...  ...  ...   \n",
       "125968 -0.095076          -0.027023  -0.809262        -0.011664  ...    0   \n",
       "125969 -0.095076          -0.027023  -0.809262        -0.011664  ...    0   \n",
       "125970 -0.095076          -0.027023   1.235694        -0.011664  ...    0   \n",
       "125971 -0.095076          -0.027023  -0.809262        -0.011664  ...    0   \n",
       "125972 -0.095076          -0.027023   1.235694        -0.011664  ...    0   \n",
       "\n",
       "        RSTO  RSTOS0  RSTR  S0  S1  S2  S3  SF  SH  \n",
       "0          0       0     0   0   0   0   0   1   0  \n",
       "1          0       0     0   0   0   0   0   1   0  \n",
       "2          0       0     0   1   0   0   0   0   0  \n",
       "3          0       0     0   0   0   0   0   1   0  \n",
       "4          0       0     0   0   0   0   0   1   0  \n",
       "...      ...     ...   ...  ..  ..  ..  ..  ..  ..  \n",
       "125968     0       0     0   1   0   0   0   0   0  \n",
       "125969     0       0     0   0   0   0   0   1   0  \n",
       "125970     0       0     0   0   0   0   0   1   0  \n",
       "125971     0       0     0   1   0   0   0   0   0  \n",
       "125972     0       0     0   0   0   0   0   1   0  \n",
       "\n",
       "[125973 rows x 123 columns]"
      ]
     },
     "execution_count": 36,
     "metadata": {},
     "output_type": "execute_result"
    }
   ],
   "source": [
    "# one-hot-encoding\n",
    "multi_data = pd.get_dummies(multi_data,columns=['protocol_type','service','flag'],prefix=\"\",prefix_sep=\"\")  \n",
    "multi_data"
   ]
  },
  {
   "cell_type": "code",
   "execution_count": 37,
   "id": "303c257b",
   "metadata": {
    "id": "VvTuXEJ54K-q",
    "outputId": "99623027-d183-4501-da38-44c0e1a6572e",
    "papermill": {
     "duration": 0.469941,
     "end_time": "2021-12-22T10:15:34.372047",
     "exception": false,
     "start_time": "2021-12-22T10:15:33.902106",
     "status": "completed"
    },
    "tags": []
   },
   "outputs": [
    {
     "name": "stdout",
     "output_type": "stream",
     "text": [
      "X_train has shape: (125973, 122) \n",
      "y_train has shape: (125973, 1)\n"
     ]
    }
   ],
   "source": [
    "y_train_multi= multi_data[['intrusion']]\n",
    "X_train_multi= multi_data.drop(labels=['intrusion'], axis=1)\n",
    "\n",
    "print('X_train has shape:',X_train_multi.shape,'\\ny_train has shape:',y_train_multi.shape)"
   ]
  },
  {
   "cell_type": "code",
   "execution_count": 38,
   "id": "155c4582",
   "metadata": {
    "id": "djMFReMO2oMx",
    "papermill": {
     "duration": 0.985792,
     "end_time": "2021-12-22T10:17:22.772980",
     "exception": false,
     "start_time": "2021-12-22T10:17:21.787188",
     "status": "completed"
    },
    "tags": []
   },
   "outputs": [
    {
     "data": {
      "text/plain": [
       "array([[1],\n",
       "       [1],\n",
       "       [0],\n",
       "       ...,\n",
       "       [1],\n",
       "       [0],\n",
       "       [1]])"
      ]
     },
     "execution_count": 38,
     "metadata": {},
     "output_type": "execute_result"
    }
   ],
   "source": [
    "from sklearn.preprocessing import LabelBinarizer\n",
    "\n",
    "y_train_multi = LabelBinarizer().fit_transform(y_train_multi)\n",
    "y_train_multi"
   ]
  },
  {
   "cell_type": "code",
   "execution_count": 39,
   "id": "ba78e338",
   "metadata": {
    "tags": []
   },
   "outputs": [],
   "source": [
    "X_train_multi=np.array(X_train_multi)\n",
    "y_train_multi=np.array(y_train_multi)\n"
   ]
  },
  {
   "cell_type": "code",
   "execution_count": 40,
   "id": "783a6b4f",
   "metadata": {
    "id": "HkxReft54oko",
    "papermill": {
     "duration": 0.376908,
     "end_time": "2021-12-22T10:58:10.397339",
     "exception": false,
     "start_time": "2021-12-22T10:58:10.020431",
     "status": "completed"
    },
    "tags": []
   },
   "outputs": [],
   "source": [
    "# splitting the dataset 80% for training and 20% testing\n",
    "X_train, X_test, y_train, y_test = train_test_split(X_train_multi,y_train_multi, test_size=0.20, random_state=42)"
   ]
  },
  {
   "cell_type": "code",
   "execution_count": 41,
   "id": "082cf2a6",
   "metadata": {
    "tags": []
   },
   "outputs": [
    {
     "data": {
      "text/plain": [
       "(100778, 122, 1)"
      ]
     },
     "execution_count": 41,
     "metadata": {},
     "output_type": "execute_result"
    }
   ],
   "source": [
    "X_train = np.reshape(X_train, (X_train.shape[0], X_train.shape[1], 1))\n",
    "X_train.shape"
   ]
  },
  {
   "cell_type": "code",
   "execution_count": 42,
   "id": "4e89bd68",
   "metadata": {
    "tags": []
   },
   "outputs": [
    {
     "data": {
      "text/plain": [
       "(25195, 122, 1)"
      ]
     },
     "execution_count": 42,
     "metadata": {},
     "output_type": "execute_result"
    }
   ],
   "source": [
    "X_test = np.reshape(X_test, (X_test.shape[0], X_test.shape[1], 1))\n",
    "X_test.shape"
   ]
  },
  {
   "cell_type": "markdown",
   "id": "14afa557-ea36-4764-a550-43b8f6dd1546",
   "metadata": {},
   "source": [
    "## Once again, credit to https://www.kaggle.com/code/lionsai/cnn-nsl-kdd-multi-class-2022 for the preprocessing code"
   ]
  },
  {
   "cell_type": "markdown",
   "id": "868d1479-f2c5-4952-9883-529eb9aed15b",
   "metadata": {},
   "source": [
    "## Creating the Neural Network"
   ]
  },
  {
   "cell_type": "code",
   "execution_count": 43,
   "id": "ee9274bc-97ec-4eb1-a478-6df19b7e6ae6",
   "metadata": {},
   "outputs": [],
   "source": [
    "import torch.nn as nn\n",
    "\n",
    "class Net(nn.Module):\n",
    "    def __init__(self, num_inputs=122, num_units_d1=200, num_units_d2=100):\n",
    "        super(Net, self).__init__()\n",
    "        self.dense0 = nn.Linear(num_inputs, num_units_d1)    # Creating first layer [122 -> 200]\n",
    "        self.nonlin = nn.ReLU()\n",
    "        self.dropout = nn.Dropout(0.5)\n",
    "        self.dense1 = nn.Linear(num_units_d1, num_units_d2)  # Creating the hidden layer [200 -> 100]\n",
    "        self.output = nn.Linear(num_units_d2, 2)             # Creating the output layer [100 -> 2]\n",
    "        self.softmax = nn.Softmax(dim=-1)\n",
    "    def forward(self, X, **kwargs):\n",
    "        X = self.nonlin(self.dense0(X))\n",
    "        X = self.dropout(X)\n",
    "        X = self.nonlin(self.dense1(X))\n",
    "        X = self.softmax(self.output(X))\n",
    "        return X"
   ]
  },
  {
   "cell_type": "code",
   "execution_count": 44,
   "id": "dfe20cbd-adf1-4edb-99e2-495f394e7296",
   "metadata": {},
   "outputs": [],
   "source": [
    "from skorch import NeuralNetClassifier\n",
    "\n",
    "# Instantiating the model using Skorch classifier\n",
    "net = NeuralNetClassifier(\n",
    "    module=Net,\n",
    "    max_epochs=30,\n",
    "    lr=0.1,\n",
    "    batch_size=5000,\n",
    "    train_split=None\n",
    ")"
   ]
  },
  {
   "cell_type": "code",
   "execution_count": 45,
   "id": "ceabc490-bad9-4a45-8a64-8b374f3b5325",
   "metadata": {},
   "outputs": [],
   "source": [
    "from skorch.helper import DataFrameTransformer\n",
    "# Creating the pipeline will allow us to feed the data into PyCaret\n",
    "nn_pipe = Pipeline(\n",
    "    [\n",
    "        (\"transform\", DataFrameTransformer()),\n",
    "        (\"net\", net),\n",
    "    ]\n",
    ")"
   ]
  },
  {
   "cell_type": "markdown",
   "id": "358df168-88ce-4e17-89de-4d8c57d028be",
   "metadata": {},
   "source": [
    "## Preliminary Evaluations with PyCaret"
   ]
  },
  {
   "cell_type": "code",
   "execution_count": 46,
   "id": "3b997dfe-5dcc-430c-818e-fca82cafb716",
   "metadata": {},
   "outputs": [],
   "source": [
    "# Using PyCaret, we will create models across popular classification methods\n",
    "\n",
    "# We start by create additional variables holding the original, preprocessed training sets\n",
    "X_train_2 = X_train\n",
    "X_test_2 = X_test\n",
    "y_train_tensor = y_train.astype(torch.LongTensor) # Casting y_train as a tensor so that it is compatible\n",
    "\n",
    "# We reshape X_train_2 to a 2d array and y_train_tensor to a 1d array so that it is compatible\n",
    "X_train_2 = X_train_2.reshape(100778, 122)\n",
    "y_train_tensor = y_train_tensor.reshape(100778)"
   ]
  },
  {
   "cell_type": "code",
   "execution_count": 47,
   "id": "f79c96dd-7377-4124-9245-e02c1f6c4204",
   "metadata": {},
   "outputs": [
    {
     "data": {
      "text/html": [
       "<style type=\"text/css\">\n",
       "#T_af5af_row8_col1, #T_af5af_row15_col1 {\n",
       "  background-color: lightgreen;\n",
       "}\n",
       "</style>\n",
       "<table id=\"T_af5af\">\n",
       "  <thead>\n",
       "    <tr>\n",
       "      <th class=\"blank level0\" >&nbsp;</th>\n",
       "      <th id=\"T_af5af_level0_col0\" class=\"col_heading level0 col0\" >Description</th>\n",
       "      <th id=\"T_af5af_level0_col1\" class=\"col_heading level0 col1\" >Value</th>\n",
       "    </tr>\n",
       "  </thead>\n",
       "  <tbody>\n",
       "    <tr>\n",
       "      <th id=\"T_af5af_level0_row0\" class=\"row_heading level0 row0\" >0</th>\n",
       "      <td id=\"T_af5af_row0_col0\" class=\"data row0 col0\" >Session id</td>\n",
       "      <td id=\"T_af5af_row0_col1\" class=\"data row0 col1\" >123</td>\n",
       "    </tr>\n",
       "    <tr>\n",
       "      <th id=\"T_af5af_level0_row1\" class=\"row_heading level0 row1\" >1</th>\n",
       "      <td id=\"T_af5af_row1_col0\" class=\"data row1 col0\" >Target</td>\n",
       "      <td id=\"T_af5af_row1_col1\" class=\"data row1 col1\" >target</td>\n",
       "    </tr>\n",
       "    <tr>\n",
       "      <th id=\"T_af5af_level0_row2\" class=\"row_heading level0 row2\" >2</th>\n",
       "      <td id=\"T_af5af_row2_col0\" class=\"data row2 col0\" >Target type</td>\n",
       "      <td id=\"T_af5af_row2_col1\" class=\"data row2 col1\" >Binary</td>\n",
       "    </tr>\n",
       "    <tr>\n",
       "      <th id=\"T_af5af_level0_row3\" class=\"row_heading level0 row3\" >3</th>\n",
       "      <td id=\"T_af5af_row3_col0\" class=\"data row3 col0\" >Original data shape</td>\n",
       "      <td id=\"T_af5af_row3_col1\" class=\"data row3 col1\" >(100778, 123)</td>\n",
       "    </tr>\n",
       "    <tr>\n",
       "      <th id=\"T_af5af_level0_row4\" class=\"row_heading level0 row4\" >4</th>\n",
       "      <td id=\"T_af5af_row4_col0\" class=\"data row4 col0\" >Transformed data shape</td>\n",
       "      <td id=\"T_af5af_row4_col1\" class=\"data row4 col1\" >(100778, 123)</td>\n",
       "    </tr>\n",
       "    <tr>\n",
       "      <th id=\"T_af5af_level0_row5\" class=\"row_heading level0 row5\" >5</th>\n",
       "      <td id=\"T_af5af_row5_col0\" class=\"data row5 col0\" >Transformed train set shape</td>\n",
       "      <td id=\"T_af5af_row5_col1\" class=\"data row5 col1\" >(80622, 123)</td>\n",
       "    </tr>\n",
       "    <tr>\n",
       "      <th id=\"T_af5af_level0_row6\" class=\"row_heading level0 row6\" >6</th>\n",
       "      <td id=\"T_af5af_row6_col0\" class=\"data row6 col0\" >Transformed test set shape</td>\n",
       "      <td id=\"T_af5af_row6_col1\" class=\"data row6 col1\" >(20156, 123)</td>\n",
       "    </tr>\n",
       "    <tr>\n",
       "      <th id=\"T_af5af_level0_row7\" class=\"row_heading level0 row7\" >7</th>\n",
       "      <td id=\"T_af5af_row7_col0\" class=\"data row7 col0\" >Numeric features</td>\n",
       "      <td id=\"T_af5af_row7_col1\" class=\"data row7 col1\" >122</td>\n",
       "    </tr>\n",
       "    <tr>\n",
       "      <th id=\"T_af5af_level0_row8\" class=\"row_heading level0 row8\" >8</th>\n",
       "      <td id=\"T_af5af_row8_col0\" class=\"data row8 col0\" >Preprocess</td>\n",
       "      <td id=\"T_af5af_row8_col1\" class=\"data row8 col1\" >True</td>\n",
       "    </tr>\n",
       "    <tr>\n",
       "      <th id=\"T_af5af_level0_row9\" class=\"row_heading level0 row9\" >9</th>\n",
       "      <td id=\"T_af5af_row9_col0\" class=\"data row9 col0\" >Imputation type</td>\n",
       "      <td id=\"T_af5af_row9_col1\" class=\"data row9 col1\" >simple</td>\n",
       "    </tr>\n",
       "    <tr>\n",
       "      <th id=\"T_af5af_level0_row10\" class=\"row_heading level0 row10\" >10</th>\n",
       "      <td id=\"T_af5af_row10_col0\" class=\"data row10 col0\" >Numeric imputation</td>\n",
       "      <td id=\"T_af5af_row10_col1\" class=\"data row10 col1\" >mean</td>\n",
       "    </tr>\n",
       "    <tr>\n",
       "      <th id=\"T_af5af_level0_row11\" class=\"row_heading level0 row11\" >11</th>\n",
       "      <td id=\"T_af5af_row11_col0\" class=\"data row11 col0\" >Categorical imputation</td>\n",
       "      <td id=\"T_af5af_row11_col1\" class=\"data row11 col1\" >mode</td>\n",
       "    </tr>\n",
       "    <tr>\n",
       "      <th id=\"T_af5af_level0_row12\" class=\"row_heading level0 row12\" >12</th>\n",
       "      <td id=\"T_af5af_row12_col0\" class=\"data row12 col0\" >Fold Generator</td>\n",
       "      <td id=\"T_af5af_row12_col1\" class=\"data row12 col1\" >StratifiedKFold</td>\n",
       "    </tr>\n",
       "    <tr>\n",
       "      <th id=\"T_af5af_level0_row13\" class=\"row_heading level0 row13\" >13</th>\n",
       "      <td id=\"T_af5af_row13_col0\" class=\"data row13 col0\" >Fold Number</td>\n",
       "      <td id=\"T_af5af_row13_col1\" class=\"data row13 col1\" >5</td>\n",
       "    </tr>\n",
       "    <tr>\n",
       "      <th id=\"T_af5af_level0_row14\" class=\"row_heading level0 row14\" >14</th>\n",
       "      <td id=\"T_af5af_row14_col0\" class=\"data row14 col0\" >CPU Jobs</td>\n",
       "      <td id=\"T_af5af_row14_col1\" class=\"data row14 col1\" >-1</td>\n",
       "    </tr>\n",
       "    <tr>\n",
       "      <th id=\"T_af5af_level0_row15\" class=\"row_heading level0 row15\" >15</th>\n",
       "      <td id=\"T_af5af_row15_col0\" class=\"data row15 col0\" >Use GPU</td>\n",
       "      <td id=\"T_af5af_row15_col1\" class=\"data row15 col1\" >True</td>\n",
       "    </tr>\n",
       "    <tr>\n",
       "      <th id=\"T_af5af_level0_row16\" class=\"row_heading level0 row16\" >16</th>\n",
       "      <td id=\"T_af5af_row16_col0\" class=\"data row16 col0\" >Log Experiment</td>\n",
       "      <td id=\"T_af5af_row16_col1\" class=\"data row16 col1\" >MlflowLogger</td>\n",
       "    </tr>\n",
       "    <tr>\n",
       "      <th id=\"T_af5af_level0_row17\" class=\"row_heading level0 row17\" >17</th>\n",
       "      <td id=\"T_af5af_row17_col0\" class=\"data row17 col0\" >Experiment Name</td>\n",
       "      <td id=\"T_af5af_row17_col1\" class=\"data row17 col1\" >Evaluation of Classification Models on NSL-KDD</td>\n",
       "    </tr>\n",
       "    <tr>\n",
       "      <th id=\"T_af5af_level0_row18\" class=\"row_heading level0 row18\" >18</th>\n",
       "      <td id=\"T_af5af_row18_col0\" class=\"data row18 col0\" >USI</td>\n",
       "      <td id=\"T_af5af_row18_col1\" class=\"data row18 col1\" >01fa</td>\n",
       "    </tr>\n",
       "  </tbody>\n",
       "</table>\n"
      ],
      "text/plain": [
       "<pandas.io.formats.style.Styler at 0x17ac1c531f0>"
      ]
     },
     "metadata": {},
     "output_type": "display_data"
    }
   ],
   "source": [
    "# Setting up our data\n",
    "clf_eval = setup(data = X_train_2,        # assigning the dataset\n",
    "            target = y_train_tensor,      # assigning the target label\n",
    "            train_size = 0.8,             # splitting the data\n",
    "            fold = 5,                     # partitioning the dataset\n",
    "            session_id = 123,\n",
    "            log_experiment = True, \n",
    "            experiment_name = 'Evaluation of Classification Models on NSL-KDD',\n",
    "            use_gpu = True,           \n",
    "            )"
   ]
  },
  {
   "cell_type": "code",
   "execution_count": 48,
   "id": "8bd6f54c-49b9-49a8-b158-173b27a1ea09",
   "metadata": {},
   "outputs": [
    {
     "data": {
      "text/html": [],
      "text/plain": [
       "<IPython.core.display.HTML object>"
      ]
     },
     "metadata": {},
     "output_type": "display_data"
    },
    {
     "data": {
      "text/html": [
       "<style type=\"text/css\">\n",
       "#T_d87dd th {\n",
       "  text-align: left;\n",
       "}\n",
       "#T_d87dd_row0_col0, #T_d87dd_row0_col3, #T_d87dd_row1_col0, #T_d87dd_row1_col1, #T_d87dd_row1_col3, #T_d87dd_row1_col4, #T_d87dd_row1_col5, #T_d87dd_row1_col6, #T_d87dd_row1_col7, #T_d87dd_row2_col0, #T_d87dd_row2_col1, #T_d87dd_row2_col3, #T_d87dd_row2_col4, #T_d87dd_row2_col5, #T_d87dd_row2_col6, #T_d87dd_row2_col7, #T_d87dd_row3_col0, #T_d87dd_row3_col1, #T_d87dd_row3_col2, #T_d87dd_row3_col3, #T_d87dd_row3_col4, #T_d87dd_row3_col5, #T_d87dd_row3_col6, #T_d87dd_row3_col7, #T_d87dd_row4_col0, #T_d87dd_row4_col1, #T_d87dd_row4_col2, #T_d87dd_row4_col3, #T_d87dd_row4_col4, #T_d87dd_row4_col5, #T_d87dd_row4_col6, #T_d87dd_row4_col7, #T_d87dd_row5_col0, #T_d87dd_row5_col1, #T_d87dd_row5_col2, #T_d87dd_row5_col3, #T_d87dd_row5_col4, #T_d87dd_row5_col5, #T_d87dd_row5_col6, #T_d87dd_row5_col7, #T_d87dd_row6_col0, #T_d87dd_row6_col1, #T_d87dd_row6_col2, #T_d87dd_row6_col3, #T_d87dd_row6_col4, #T_d87dd_row6_col5, #T_d87dd_row6_col6, #T_d87dd_row6_col7, #T_d87dd_row7_col0, #T_d87dd_row7_col1, #T_d87dd_row7_col2, #T_d87dd_row7_col3, #T_d87dd_row7_col4, #T_d87dd_row7_col5, #T_d87dd_row7_col6, #T_d87dd_row7_col7, #T_d87dd_row8_col0, #T_d87dd_row8_col1, #T_d87dd_row8_col2, #T_d87dd_row8_col3, #T_d87dd_row8_col4, #T_d87dd_row8_col5, #T_d87dd_row8_col6, #T_d87dd_row8_col7, #T_d87dd_row9_col0, #T_d87dd_row9_col1, #T_d87dd_row9_col2, #T_d87dd_row9_col3, #T_d87dd_row9_col4, #T_d87dd_row9_col5, #T_d87dd_row9_col6, #T_d87dd_row9_col7, #T_d87dd_row10_col0, #T_d87dd_row10_col1, #T_d87dd_row10_col2, #T_d87dd_row10_col3, #T_d87dd_row10_col4, #T_d87dd_row10_col5, #T_d87dd_row10_col6, #T_d87dd_row10_col7, #T_d87dd_row11_col0, #T_d87dd_row11_col1, #T_d87dd_row11_col2, #T_d87dd_row11_col3, #T_d87dd_row11_col4, #T_d87dd_row11_col5, #T_d87dd_row11_col6, #T_d87dd_row11_col7, #T_d87dd_row12_col0, #T_d87dd_row12_col1, #T_d87dd_row12_col2, #T_d87dd_row12_col3, #T_d87dd_row12_col4, #T_d87dd_row12_col5, #T_d87dd_row12_col6, #T_d87dd_row12_col7, #T_d87dd_row13_col0, #T_d87dd_row13_col1, #T_d87dd_row13_col2, #T_d87dd_row13_col3, #T_d87dd_row13_col4, #T_d87dd_row13_col5, #T_d87dd_row13_col6, #T_d87dd_row13_col7, #T_d87dd_row14_col0, #T_d87dd_row14_col1, #T_d87dd_row14_col2, #T_d87dd_row14_col4, #T_d87dd_row14_col5, #T_d87dd_row14_col6, #T_d87dd_row14_col7 {\n",
       "  text-align: left;\n",
       "}\n",
       "#T_d87dd_row0_col1, #T_d87dd_row0_col2, #T_d87dd_row0_col4, #T_d87dd_row0_col5, #T_d87dd_row0_col6, #T_d87dd_row0_col7, #T_d87dd_row1_col2, #T_d87dd_row2_col2, #T_d87dd_row14_col3 {\n",
       "  text-align: left;\n",
       "  background-color: yellow;\n",
       "}\n",
       "#T_d87dd_row0_col8, #T_d87dd_row1_col8, #T_d87dd_row2_col8, #T_d87dd_row3_col8, #T_d87dd_row4_col8, #T_d87dd_row5_col8, #T_d87dd_row6_col8, #T_d87dd_row7_col8, #T_d87dd_row8_col8, #T_d87dd_row9_col8, #T_d87dd_row10_col8, #T_d87dd_row11_col8, #T_d87dd_row12_col8, #T_d87dd_row13_col8 {\n",
       "  text-align: left;\n",
       "  background-color: lightgrey;\n",
       "}\n",
       "#T_d87dd_row14_col8 {\n",
       "  text-align: left;\n",
       "  background-color: yellow;\n",
       "  background-color: lightgrey;\n",
       "}\n",
       "</style>\n",
       "<table id=\"T_d87dd\">\n",
       "  <thead>\n",
       "    <tr>\n",
       "      <th class=\"blank level0\" >&nbsp;</th>\n",
       "      <th id=\"T_d87dd_level0_col0\" class=\"col_heading level0 col0\" >Model</th>\n",
       "      <th id=\"T_d87dd_level0_col1\" class=\"col_heading level0 col1\" >Accuracy</th>\n",
       "      <th id=\"T_d87dd_level0_col2\" class=\"col_heading level0 col2\" >AUC</th>\n",
       "      <th id=\"T_d87dd_level0_col3\" class=\"col_heading level0 col3\" >Recall</th>\n",
       "      <th id=\"T_d87dd_level0_col4\" class=\"col_heading level0 col4\" >Prec.</th>\n",
       "      <th id=\"T_d87dd_level0_col5\" class=\"col_heading level0 col5\" >F1</th>\n",
       "      <th id=\"T_d87dd_level0_col6\" class=\"col_heading level0 col6\" >Kappa</th>\n",
       "      <th id=\"T_d87dd_level0_col7\" class=\"col_heading level0 col7\" >MCC</th>\n",
       "      <th id=\"T_d87dd_level0_col8\" class=\"col_heading level0 col8\" >TT (Sec)</th>\n",
       "    </tr>\n",
       "  </thead>\n",
       "  <tbody>\n",
       "    <tr>\n",
       "      <th id=\"T_d87dd_level0_row0\" class=\"row_heading level0 row0\" >xgboost</th>\n",
       "      <td id=\"T_d87dd_row0_col0\" class=\"data row0 col0\" >Extreme Gradient Boosting</td>\n",
       "      <td id=\"T_d87dd_row0_col1\" class=\"data row0 col1\" >0.9989</td>\n",
       "      <td id=\"T_d87dd_row0_col2\" class=\"data row0 col2\" >1.0000</td>\n",
       "      <td id=\"T_d87dd_row0_col3\" class=\"data row0 col3\" >0.9993</td>\n",
       "      <td id=\"T_d87dd_row0_col4\" class=\"data row0 col4\" >0.9987</td>\n",
       "      <td id=\"T_d87dd_row0_col5\" class=\"data row0 col5\" >0.9990</td>\n",
       "      <td id=\"T_d87dd_row0_col6\" class=\"data row0 col6\" >0.9978</td>\n",
       "      <td id=\"T_d87dd_row0_col7\" class=\"data row0 col7\" >0.9978</td>\n",
       "      <td id=\"T_d87dd_row0_col8\" class=\"data row0 col8\" >0.8100</td>\n",
       "    </tr>\n",
       "    <tr>\n",
       "      <th id=\"T_d87dd_level0_row1\" class=\"row_heading level0 row1\" >lightgbm</th>\n",
       "      <td id=\"T_d87dd_row1_col0\" class=\"data row1 col0\" >Light Gradient Boosting Machine</td>\n",
       "      <td id=\"T_d87dd_row1_col1\" class=\"data row1 col1\" >0.9988</td>\n",
       "      <td id=\"T_d87dd_row1_col2\" class=\"data row1 col2\" >1.0000</td>\n",
       "      <td id=\"T_d87dd_row1_col3\" class=\"data row1 col3\" >0.9993</td>\n",
       "      <td id=\"T_d87dd_row1_col4\" class=\"data row1 col4\" >0.9985</td>\n",
       "      <td id=\"T_d87dd_row1_col5\" class=\"data row1 col5\" >0.9989</td>\n",
       "      <td id=\"T_d87dd_row1_col6\" class=\"data row1 col6\" >0.9977</td>\n",
       "      <td id=\"T_d87dd_row1_col7\" class=\"data row1 col7\" >0.9977</td>\n",
       "      <td id=\"T_d87dd_row1_col8\" class=\"data row1 col8\" >1.1940</td>\n",
       "    </tr>\n",
       "    <tr>\n",
       "      <th id=\"T_d87dd_level0_row2\" class=\"row_heading level0 row2\" >rf</th>\n",
       "      <td id=\"T_d87dd_row2_col0\" class=\"data row2 col0\" >Random Forest Classifier</td>\n",
       "      <td id=\"T_d87dd_row2_col1\" class=\"data row2 col1\" >0.9986</td>\n",
       "      <td id=\"T_d87dd_row2_col2\" class=\"data row2 col2\" >1.0000</td>\n",
       "      <td id=\"T_d87dd_row2_col3\" class=\"data row2 col3\" >0.9994</td>\n",
       "      <td id=\"T_d87dd_row2_col4\" class=\"data row2 col4\" >0.9979</td>\n",
       "      <td id=\"T_d87dd_row2_col5\" class=\"data row2 col5\" >0.9987</td>\n",
       "      <td id=\"T_d87dd_row2_col6\" class=\"data row2 col6\" >0.9972</td>\n",
       "      <td id=\"T_d87dd_row2_col7\" class=\"data row2 col7\" >0.9972</td>\n",
       "      <td id=\"T_d87dd_row2_col8\" class=\"data row2 col8\" >2.1680</td>\n",
       "    </tr>\n",
       "    <tr>\n",
       "      <th id=\"T_d87dd_level0_row3\" class=\"row_heading level0 row3\" >et</th>\n",
       "      <td id=\"T_d87dd_row3_col0\" class=\"data row3 col0\" >Extra Trees Classifier</td>\n",
       "      <td id=\"T_d87dd_row3_col1\" class=\"data row3 col1\" >0.9985</td>\n",
       "      <td id=\"T_d87dd_row3_col2\" class=\"data row3 col2\" >0.9999</td>\n",
       "      <td id=\"T_d87dd_row3_col3\" class=\"data row3 col3\" >0.9994</td>\n",
       "      <td id=\"T_d87dd_row3_col4\" class=\"data row3 col4\" >0.9978</td>\n",
       "      <td id=\"T_d87dd_row3_col5\" class=\"data row3 col5\" >0.9986</td>\n",
       "      <td id=\"T_d87dd_row3_col6\" class=\"data row3 col6\" >0.9969</td>\n",
       "      <td id=\"T_d87dd_row3_col7\" class=\"data row3 col7\" >0.9969</td>\n",
       "      <td id=\"T_d87dd_row3_col8\" class=\"data row3 col8\" >1.2540</td>\n",
       "    </tr>\n",
       "    <tr>\n",
       "      <th id=\"T_d87dd_level0_row4\" class=\"row_heading level0 row4\" >dt</th>\n",
       "      <td id=\"T_d87dd_row4_col0\" class=\"data row4 col0\" >Decision Tree Classifier</td>\n",
       "      <td id=\"T_d87dd_row4_col1\" class=\"data row4 col1\" >0.9979</td>\n",
       "      <td id=\"T_d87dd_row4_col2\" class=\"data row4 col2\" >0.9979</td>\n",
       "      <td id=\"T_d87dd_row4_col3\" class=\"data row4 col3\" >0.9979</td>\n",
       "      <td id=\"T_d87dd_row4_col4\" class=\"data row4 col4\" >0.9981</td>\n",
       "      <td id=\"T_d87dd_row4_col5\" class=\"data row4 col5\" >0.9980</td>\n",
       "      <td id=\"T_d87dd_row4_col6\" class=\"data row4 col6\" >0.9957</td>\n",
       "      <td id=\"T_d87dd_row4_col7\" class=\"data row4 col7\" >0.9957</td>\n",
       "      <td id=\"T_d87dd_row4_col8\" class=\"data row4 col8\" >0.7460</td>\n",
       "    </tr>\n",
       "    <tr>\n",
       "      <th id=\"T_d87dd_level0_row5\" class=\"row_heading level0 row5\" >knn</th>\n",
       "      <td id=\"T_d87dd_row5_col0\" class=\"data row5 col0\" >K Neighbors Classifier</td>\n",
       "      <td id=\"T_d87dd_row5_col1\" class=\"data row5 col1\" >0.9959</td>\n",
       "      <td id=\"T_d87dd_row5_col2\" class=\"data row5 col2\" >0.9988</td>\n",
       "      <td id=\"T_d87dd_row5_col3\" class=\"data row5 col3\" >0.9968</td>\n",
       "      <td id=\"T_d87dd_row5_col4\" class=\"data row5 col4\" >0.9956</td>\n",
       "      <td id=\"T_d87dd_row5_col5\" class=\"data row5 col5\" >0.9962</td>\n",
       "      <td id=\"T_d87dd_row5_col6\" class=\"data row5 col6\" >0.9918</td>\n",
       "      <td id=\"T_d87dd_row5_col7\" class=\"data row5 col7\" >0.9918</td>\n",
       "      <td id=\"T_d87dd_row5_col8\" class=\"data row5 col8\" >37.9000</td>\n",
       "    </tr>\n",
       "    <tr>\n",
       "      <th id=\"T_d87dd_level0_row6\" class=\"row_heading level0 row6\" >gbc</th>\n",
       "      <td id=\"T_d87dd_row6_col0\" class=\"data row6 col0\" >Gradient Boosting Classifier</td>\n",
       "      <td id=\"T_d87dd_row6_col1\" class=\"data row6 col1\" >0.9958</td>\n",
       "      <td id=\"T_d87dd_row6_col2\" class=\"data row6 col2\" >0.9997</td>\n",
       "      <td id=\"T_d87dd_row6_col3\" class=\"data row6 col3\" >0.9970</td>\n",
       "      <td id=\"T_d87dd_row6_col4\" class=\"data row6 col4\" >0.9951</td>\n",
       "      <td id=\"T_d87dd_row6_col5\" class=\"data row6 col5\" >0.9961</td>\n",
       "      <td id=\"T_d87dd_row6_col6\" class=\"data row6 col6\" >0.9915</td>\n",
       "      <td id=\"T_d87dd_row6_col7\" class=\"data row6 col7\" >0.9915</td>\n",
       "      <td id=\"T_d87dd_row6_col8\" class=\"data row6 col8\" >13.1580</td>\n",
       "    </tr>\n",
       "    <tr>\n",
       "      <th id=\"T_d87dd_level0_row7\" class=\"row_heading level0 row7\" >ada</th>\n",
       "      <td id=\"T_d87dd_row7_col0\" class=\"data row7 col0\" >Ada Boost Classifier</td>\n",
       "      <td id=\"T_d87dd_row7_col1\" class=\"data row7 col1\" >0.9906</td>\n",
       "      <td id=\"T_d87dd_row7_col2\" class=\"data row7 col2\" >0.9994</td>\n",
       "      <td id=\"T_d87dd_row7_col3\" class=\"data row7 col3\" >0.9937</td>\n",
       "      <td id=\"T_d87dd_row7_col4\" class=\"data row7 col4\" >0.9888</td>\n",
       "      <td id=\"T_d87dd_row7_col5\" class=\"data row7 col5\" >0.9912</td>\n",
       "      <td id=\"T_d87dd_row7_col6\" class=\"data row7 col6\" >0.9811</td>\n",
       "      <td id=\"T_d87dd_row7_col7\" class=\"data row7 col7\" >0.9811</td>\n",
       "      <td id=\"T_d87dd_row7_col8\" class=\"data row7 col8\" >3.6220</td>\n",
       "    </tr>\n",
       "    <tr>\n",
       "      <th id=\"T_d87dd_level0_row8\" class=\"row_heading level0 row8\" >svm</th>\n",
       "      <td id=\"T_d87dd_row8_col0\" class=\"data row8 col0\" >SVM - Linear Kernel</td>\n",
       "      <td id=\"T_d87dd_row8_col1\" class=\"data row8 col1\" >0.9765</td>\n",
       "      <td id=\"T_d87dd_row8_col2\" class=\"data row8 col2\" >0.0000</td>\n",
       "      <td id=\"T_d87dd_row8_col3\" class=\"data row8 col3\" >0.9831</td>\n",
       "      <td id=\"T_d87dd_row8_col4\" class=\"data row8 col4\" >0.9734</td>\n",
       "      <td id=\"T_d87dd_row8_col5\" class=\"data row8 col5\" >0.9782</td>\n",
       "      <td id=\"T_d87dd_row8_col6\" class=\"data row8 col6\" >0.9528</td>\n",
       "      <td id=\"T_d87dd_row8_col7\" class=\"data row8 col7\" >0.9529</td>\n",
       "      <td id=\"T_d87dd_row8_col8\" class=\"data row8 col8\" >0.6620</td>\n",
       "    </tr>\n",
       "    <tr>\n",
       "      <th id=\"T_d87dd_level0_row9\" class=\"row_heading level0 row9\" >lr</th>\n",
       "      <td id=\"T_d87dd_row9_col0\" class=\"data row9 col0\" >Logistic Regression</td>\n",
       "      <td id=\"T_d87dd_row9_col1\" class=\"data row9 col1\" >0.9724</td>\n",
       "      <td id=\"T_d87dd_row9_col2\" class=\"data row9 col2\" >0.9964</td>\n",
       "      <td id=\"T_d87dd_row9_col3\" class=\"data row9 col3\" >0.9809</td>\n",
       "      <td id=\"T_d87dd_row9_col4\" class=\"data row9 col4\" >0.9680</td>\n",
       "      <td id=\"T_d87dd_row9_col5\" class=\"data row9 col5\" >0.9744</td>\n",
       "      <td id=\"T_d87dd_row9_col6\" class=\"data row9 col6\" >0.9445</td>\n",
       "      <td id=\"T_d87dd_row9_col7\" class=\"data row9 col7\" >0.9446</td>\n",
       "      <td id=\"T_d87dd_row9_col8\" class=\"data row9 col8\" >4.0500</td>\n",
       "    </tr>\n",
       "    <tr>\n",
       "      <th id=\"T_d87dd_level0_row10\" class=\"row_heading level0 row10\" >ridge</th>\n",
       "      <td id=\"T_d87dd_row10_col0\" class=\"data row10 col0\" >Ridge Classifier</td>\n",
       "      <td id=\"T_d87dd_row10_col1\" class=\"data row10 col1\" >0.9668</td>\n",
       "      <td id=\"T_d87dd_row10_col2\" class=\"data row10 col2\" >0.0000</td>\n",
       "      <td id=\"T_d87dd_row10_col3\" class=\"data row10 col3\" >0.9804</td>\n",
       "      <td id=\"T_d87dd_row10_col4\" class=\"data row10 col4\" >0.9585</td>\n",
       "      <td id=\"T_d87dd_row10_col5\" class=\"data row10 col5\" >0.9693</td>\n",
       "      <td id=\"T_d87dd_row10_col6\" class=\"data row10 col6\" >0.9331</td>\n",
       "      <td id=\"T_d87dd_row10_col7\" class=\"data row10 col7\" >0.9334</td>\n",
       "      <td id=\"T_d87dd_row10_col8\" class=\"data row10 col8\" >0.3320</td>\n",
       "    </tr>\n",
       "    <tr>\n",
       "      <th id=\"T_d87dd_level0_row11\" class=\"row_heading level0 row11\" >lda</th>\n",
       "      <td id=\"T_d87dd_row11_col0\" class=\"data row11 col0\" >Linear Discriminant Analysis</td>\n",
       "      <td id=\"T_d87dd_row11_col1\" class=\"data row11 col1\" >0.9668</td>\n",
       "      <td id=\"T_d87dd_row11_col2\" class=\"data row11 col2\" >0.9938</td>\n",
       "      <td id=\"T_d87dd_row11_col3\" class=\"data row11 col3\" >0.9804</td>\n",
       "      <td id=\"T_d87dd_row11_col4\" class=\"data row11 col4\" >0.9585</td>\n",
       "      <td id=\"T_d87dd_row11_col5\" class=\"data row11 col5\" >0.9693</td>\n",
       "      <td id=\"T_d87dd_row11_col6\" class=\"data row11 col6\" >0.9332</td>\n",
       "      <td id=\"T_d87dd_row11_col7\" class=\"data row11 col7\" >0.9335</td>\n",
       "      <td id=\"T_d87dd_row11_col8\" class=\"data row11 col8\" >0.8260</td>\n",
       "    </tr>\n",
       "    <tr>\n",
       "      <th id=\"T_d87dd_level0_row12\" class=\"row_heading level0 row12\" >nb</th>\n",
       "      <td id=\"T_d87dd_row12_col0\" class=\"data row12 col0\" >Naive Bayes</td>\n",
       "      <td id=\"T_d87dd_row12_col1\" class=\"data row12 col1\" >0.8626</td>\n",
       "      <td id=\"T_d87dd_row12_col2\" class=\"data row12 col2\" >0.8579</td>\n",
       "      <td id=\"T_d87dd_row12_col3\" class=\"data row12 col3\" >0.9978</td>\n",
       "      <td id=\"T_d87dd_row12_col4\" class=\"data row12 col4\" >0.7968</td>\n",
       "      <td id=\"T_d87dd_row12_col5\" class=\"data row12 col5\" >0.8860</td>\n",
       "      <td id=\"T_d87dd_row12_col6\" class=\"data row12 col6\" >0.7186</td>\n",
       "      <td id=\"T_d87dd_row12_col7\" class=\"data row12 col7\" >0.7478</td>\n",
       "      <td id=\"T_d87dd_row12_col8\" class=\"data row12 col8\" >0.3320</td>\n",
       "    </tr>\n",
       "    <tr>\n",
       "      <th id=\"T_d87dd_level0_row13\" class=\"row_heading level0 row13\" >qda</th>\n",
       "      <td id=\"T_d87dd_row13_col0\" class=\"data row13 col0\" >Quadratic Discriminant Analysis</td>\n",
       "      <td id=\"T_d87dd_row13_col1\" class=\"data row13 col1\" >0.6808</td>\n",
       "      <td id=\"T_d87dd_row13_col2\" class=\"data row13 col2\" >0.6997</td>\n",
       "      <td id=\"T_d87dd_row13_col3\" class=\"data row13 col3\" >0.4302</td>\n",
       "      <td id=\"T_d87dd_row13_col4\" class=\"data row13 col4\" >0.8910</td>\n",
       "      <td id=\"T_d87dd_row13_col5\" class=\"data row13 col5\" >0.5473</td>\n",
       "      <td id=\"T_d87dd_row13_col6\" class=\"data row13 col6\" >0.3881</td>\n",
       "      <td id=\"T_d87dd_row13_col7\" class=\"data row13 col7\" >0.4432</td>\n",
       "      <td id=\"T_d87dd_row13_col8\" class=\"data row13 col8\" >0.4740</td>\n",
       "    </tr>\n",
       "    <tr>\n",
       "      <th id=\"T_d87dd_level0_row14\" class=\"row_heading level0 row14\" >dummy</th>\n",
       "      <td id=\"T_d87dd_row14_col0\" class=\"data row14 col0\" >Dummy Classifier</td>\n",
       "      <td id=\"T_d87dd_row14_col1\" class=\"data row14 col1\" >0.5351</td>\n",
       "      <td id=\"T_d87dd_row14_col2\" class=\"data row14 col2\" >0.5000</td>\n",
       "      <td id=\"T_d87dd_row14_col3\" class=\"data row14 col3\" >1.0000</td>\n",
       "      <td id=\"T_d87dd_row14_col4\" class=\"data row14 col4\" >0.5351</td>\n",
       "      <td id=\"T_d87dd_row14_col5\" class=\"data row14 col5\" >0.6971</td>\n",
       "      <td id=\"T_d87dd_row14_col6\" class=\"data row14 col6\" >0.0000</td>\n",
       "      <td id=\"T_d87dd_row14_col7\" class=\"data row14 col7\" >0.0000</td>\n",
       "      <td id=\"T_d87dd_row14_col8\" class=\"data row14 col8\" >0.2000</td>\n",
       "    </tr>\n",
       "  </tbody>\n",
       "</table>\n"
      ],
      "text/plain": [
       "<pandas.io.formats.style.Styler at 0x17ac1f517f0>"
      ]
     },
     "metadata": {},
     "output_type": "display_data"
    },
    {
     "data": {
      "application/vnd.jupyter.widget-view+json": {
       "model_id": "",
       "version_major": 2,
       "version_minor": 0
      },
      "text/plain": [
       "Processing:   0%|          | 0/65 [00:00<?, ?it/s]"
      ]
     },
     "metadata": {},
     "output_type": "display_data"
    },
    {
     "data": {
      "text/html": [
       "<style>#sk-container-id-1 {color: black;background-color: white;}#sk-container-id-1 pre{padding: 0;}#sk-container-id-1 div.sk-toggleable {background-color: white;}#sk-container-id-1 label.sk-toggleable__label {cursor: pointer;display: block;width: 100%;margin-bottom: 0;padding: 0.3em;box-sizing: border-box;text-align: center;}#sk-container-id-1 label.sk-toggleable__label-arrow:before {content: \"▸\";float: left;margin-right: 0.25em;color: #696969;}#sk-container-id-1 label.sk-toggleable__label-arrow:hover:before {color: black;}#sk-container-id-1 div.sk-estimator:hover label.sk-toggleable__label-arrow:before {color: black;}#sk-container-id-1 div.sk-toggleable__content {max-height: 0;max-width: 0;overflow: hidden;text-align: left;background-color: #f0f8ff;}#sk-container-id-1 div.sk-toggleable__content pre {margin: 0.2em;color: black;border-radius: 0.25em;background-color: #f0f8ff;}#sk-container-id-1 input.sk-toggleable__control:checked~div.sk-toggleable__content {max-height: 200px;max-width: 100%;overflow: auto;}#sk-container-id-1 input.sk-toggleable__control:checked~label.sk-toggleable__label-arrow:before {content: \"▾\";}#sk-container-id-1 div.sk-estimator input.sk-toggleable__control:checked~label.sk-toggleable__label {background-color: #d4ebff;}#sk-container-id-1 div.sk-label input.sk-toggleable__control:checked~label.sk-toggleable__label {background-color: #d4ebff;}#sk-container-id-1 input.sk-hidden--visually {border: 0;clip: rect(1px 1px 1px 1px);clip: rect(1px, 1px, 1px, 1px);height: 1px;margin: -1px;overflow: hidden;padding: 0;position: absolute;width: 1px;}#sk-container-id-1 div.sk-estimator {font-family: monospace;background-color: #f0f8ff;border: 1px dotted black;border-radius: 0.25em;box-sizing: border-box;margin-bottom: 0.5em;}#sk-container-id-1 div.sk-estimator:hover {background-color: #d4ebff;}#sk-container-id-1 div.sk-parallel-item::after {content: \"\";width: 100%;border-bottom: 1px solid gray;flex-grow: 1;}#sk-container-id-1 div.sk-label:hover label.sk-toggleable__label {background-color: #d4ebff;}#sk-container-id-1 div.sk-serial::before {content: \"\";position: absolute;border-left: 1px solid gray;box-sizing: border-box;top: 0;bottom: 0;left: 50%;z-index: 0;}#sk-container-id-1 div.sk-serial {display: flex;flex-direction: column;align-items: center;background-color: white;padding-right: 0.2em;padding-left: 0.2em;position: relative;}#sk-container-id-1 div.sk-item {position: relative;z-index: 1;}#sk-container-id-1 div.sk-parallel {display: flex;align-items: stretch;justify-content: center;background-color: white;position: relative;}#sk-container-id-1 div.sk-item::before, #sk-container-id-1 div.sk-parallel-item::before {content: \"\";position: absolute;border-left: 1px solid gray;box-sizing: border-box;top: 0;bottom: 0;left: 50%;z-index: -1;}#sk-container-id-1 div.sk-parallel-item {display: flex;flex-direction: column;z-index: 1;position: relative;background-color: white;}#sk-container-id-1 div.sk-parallel-item:first-child::after {align-self: flex-end;width: 50%;}#sk-container-id-1 div.sk-parallel-item:last-child::after {align-self: flex-start;width: 50%;}#sk-container-id-1 div.sk-parallel-item:only-child::after {width: 0;}#sk-container-id-1 div.sk-dashed-wrapped {border: 1px dashed gray;margin: 0 0.4em 0.5em 0.4em;box-sizing: border-box;padding-bottom: 0.4em;background-color: white;}#sk-container-id-1 div.sk-label label {font-family: monospace;font-weight: bold;display: inline-block;line-height: 1.2em;}#sk-container-id-1 div.sk-label-container {text-align: center;}#sk-container-id-1 div.sk-container {/* jupyter's `normalize.less` sets `[hidden] { display: none; }` but bootstrap.min.css set `[hidden] { display: none !important; }` so we also need the `!important` here to be able to override the default hidden behavior on the sphinx rendered scikit-learn.org. See: https://github.com/scikit-learn/scikit-learn/issues/21755 */display: inline-block !important;position: relative;}#sk-container-id-1 div.sk-text-repr-fallback {display: none;}</style><div id=\"sk-container-id-1\" class=\"sk-top-container\"><div class=\"sk-text-repr-fallback\"><pre>XGBClassifier(base_score=0.5, booster=&#x27;gbtree&#x27;, callbacks=None,\n",
       "              colsample_bylevel=1, colsample_bynode=1, colsample_bytree=1,\n",
       "              early_stopping_rounds=None, enable_categorical=False,\n",
       "              eval_metric=None, feature_types=None, gamma=0, gpu_id=0,\n",
       "              grow_policy=&#x27;depthwise&#x27;, importance_type=None,\n",
       "              interaction_constraints=&#x27;&#x27;, learning_rate=0.300000012,\n",
       "              max_bin=256, max_cat_threshold=64, max_cat_to_onehot=4,\n",
       "              max_delta_step=0, max_depth=6, max_leaves=0, min_child_weight=1,\n",
       "              missing=nan, monotone_constraints=&#x27;()&#x27;, n_estimators=100,\n",
       "              n_jobs=-1, num_parallel_tree=1, objective=&#x27;binary:logistic&#x27;,\n",
       "              predictor=&#x27;auto&#x27;, ...)</pre><b>In a Jupyter environment, please rerun this cell to show the HTML representation or trust the notebook. <br />On GitHub, the HTML representation is unable to render, please try loading this page with nbviewer.org.</b></div><div class=\"sk-container\" hidden><div class=\"sk-item\"><div class=\"sk-estimator sk-toggleable\"><input class=\"sk-toggleable__control sk-hidden--visually\" id=\"sk-estimator-id-1\" type=\"checkbox\" checked><label for=\"sk-estimator-id-1\" class=\"sk-toggleable__label sk-toggleable__label-arrow\">XGBClassifier</label><div class=\"sk-toggleable__content\"><pre>XGBClassifier(base_score=0.5, booster=&#x27;gbtree&#x27;, callbacks=None,\n",
       "              colsample_bylevel=1, colsample_bynode=1, colsample_bytree=1,\n",
       "              early_stopping_rounds=None, enable_categorical=False,\n",
       "              eval_metric=None, feature_types=None, gamma=0, gpu_id=0,\n",
       "              grow_policy=&#x27;depthwise&#x27;, importance_type=None,\n",
       "              interaction_constraints=&#x27;&#x27;, learning_rate=0.300000012,\n",
       "              max_bin=256, max_cat_threshold=64, max_cat_to_onehot=4,\n",
       "              max_delta_step=0, max_depth=6, max_leaves=0, min_child_weight=1,\n",
       "              missing=nan, monotone_constraints=&#x27;()&#x27;, n_estimators=100,\n",
       "              n_jobs=-1, num_parallel_tree=1, objective=&#x27;binary:logistic&#x27;,\n",
       "              predictor=&#x27;auto&#x27;, ...)</pre></div></div></div></div></div>"
      ],
      "text/plain": [
       "XGBClassifier(base_score=0.5, booster='gbtree', callbacks=None,\n",
       "              colsample_bylevel=1, colsample_bynode=1, colsample_bytree=1,\n",
       "              early_stopping_rounds=None, enable_categorical=False,\n",
       "              eval_metric=None, feature_types=None, gamma=0, gpu_id=0,\n",
       "              grow_policy='depthwise', importance_type=None,\n",
       "              interaction_constraints='', learning_rate=0.300000012,\n",
       "              max_bin=256, max_cat_threshold=64, max_cat_to_onehot=4,\n",
       "              max_delta_step=0, max_depth=6, max_leaves=0, min_child_weight=1,\n",
       "              missing=nan, monotone_constraints='()', n_estimators=100,\n",
       "              n_jobs=-1, num_parallel_tree=1, objective='binary:logistic',\n",
       "              predictor='auto', ...)"
      ]
     },
     "execution_count": 48,
     "metadata": {},
     "output_type": "execute_result"
    }
   ],
   "source": [
    "# Fitting the dataset to multiple classification models and comparing the results\n",
    "compare_models()"
   ]
  },
  {
   "cell_type": "code",
   "execution_count": 49,
   "id": "26757dc9-7335-4d9d-a98b-478a88858057",
   "metadata": {},
   "outputs": [
    {
     "data": {
      "text/html": [],
      "text/plain": [
       "<IPython.core.display.HTML object>"
      ]
     },
     "metadata": {},
     "output_type": "display_data"
    },
    {
     "data": {
      "text/html": [
       "<style type=\"text/css\">\n",
       "#T_d8a7c_row5_col0, #T_d8a7c_row5_col1, #T_d8a7c_row5_col2, #T_d8a7c_row5_col3, #T_d8a7c_row5_col4, #T_d8a7c_row5_col5, #T_d8a7c_row5_col6 {\n",
       "  background: yellow;\n",
       "}\n",
       "</style>\n",
       "<table id=\"T_d8a7c\">\n",
       "  <thead>\n",
       "    <tr>\n",
       "      <th class=\"blank level0\" >&nbsp;</th>\n",
       "      <th id=\"T_d8a7c_level0_col0\" class=\"col_heading level0 col0\" >Accuracy</th>\n",
       "      <th id=\"T_d8a7c_level0_col1\" class=\"col_heading level0 col1\" >AUC</th>\n",
       "      <th id=\"T_d8a7c_level0_col2\" class=\"col_heading level0 col2\" >Recall</th>\n",
       "      <th id=\"T_d8a7c_level0_col3\" class=\"col_heading level0 col3\" >Prec.</th>\n",
       "      <th id=\"T_d8a7c_level0_col4\" class=\"col_heading level0 col4\" >F1</th>\n",
       "      <th id=\"T_d8a7c_level0_col5\" class=\"col_heading level0 col5\" >Kappa</th>\n",
       "      <th id=\"T_d8a7c_level0_col6\" class=\"col_heading level0 col6\" >MCC</th>\n",
       "    </tr>\n",
       "    <tr>\n",
       "      <th class=\"index_name level0\" >Fold</th>\n",
       "      <th class=\"blank col0\" >&nbsp;</th>\n",
       "      <th class=\"blank col1\" >&nbsp;</th>\n",
       "      <th class=\"blank col2\" >&nbsp;</th>\n",
       "      <th class=\"blank col3\" >&nbsp;</th>\n",
       "      <th class=\"blank col4\" >&nbsp;</th>\n",
       "      <th class=\"blank col5\" >&nbsp;</th>\n",
       "      <th class=\"blank col6\" >&nbsp;</th>\n",
       "    </tr>\n",
       "  </thead>\n",
       "  <tbody>\n",
       "    <tr>\n",
       "      <th id=\"T_d8a7c_level0_row0\" class=\"row_heading level0 row0\" >0</th>\n",
       "      <td id=\"T_d8a7c_row0_col0\" class=\"data row0 col0\" >0.9757</td>\n",
       "      <td id=\"T_d8a7c_row0_col1\" class=\"data row0 col1\" >0.9962</td>\n",
       "      <td id=\"T_d8a7c_row0_col2\" class=\"data row0 col2\" >0.9893</td>\n",
       "      <td id=\"T_d8a7c_row0_col3\" class=\"data row0 col3\" >0.9660</td>\n",
       "      <td id=\"T_d8a7c_row0_col4\" class=\"data row0 col4\" >0.9776</td>\n",
       "      <td id=\"T_d8a7c_row0_col5\" class=\"data row0 col5\" >0.9511</td>\n",
       "      <td id=\"T_d8a7c_row0_col6\" class=\"data row0 col6\" >0.9514</td>\n",
       "    </tr>\n",
       "    <tr>\n",
       "      <th id=\"T_d8a7c_level0_row1\" class=\"row_heading level0 row1\" >1</th>\n",
       "      <td id=\"T_d8a7c_row1_col0\" class=\"data row1 col0\" >0.9761</td>\n",
       "      <td id=\"T_d8a7c_row1_col1\" class=\"data row1 col1\" >0.9959</td>\n",
       "      <td id=\"T_d8a7c_row1_col2\" class=\"data row1 col2\" >0.9863</td>\n",
       "      <td id=\"T_d8a7c_row1_col3\" class=\"data row1 col3\" >0.9695</td>\n",
       "      <td id=\"T_d8a7c_row1_col4\" class=\"data row1 col4\" >0.9778</td>\n",
       "      <td id=\"T_d8a7c_row1_col5\" class=\"data row1 col5\" >0.9518</td>\n",
       "      <td id=\"T_d8a7c_row1_col6\" class=\"data row1 col6\" >0.9520</td>\n",
       "    </tr>\n",
       "    <tr>\n",
       "      <th id=\"T_d8a7c_level0_row2\" class=\"row_heading level0 row2\" >2</th>\n",
       "      <td id=\"T_d8a7c_row2_col0\" class=\"data row2 col0\" >0.9773</td>\n",
       "      <td id=\"T_d8a7c_row2_col1\" class=\"data row2 col1\" >0.9973</td>\n",
       "      <td id=\"T_d8a7c_row2_col2\" class=\"data row2 col2\" >0.9893</td>\n",
       "      <td id=\"T_d8a7c_row2_col3\" class=\"data row2 col3\" >0.9689</td>\n",
       "      <td id=\"T_d8a7c_row2_col4\" class=\"data row2 col4\" >0.9790</td>\n",
       "      <td id=\"T_d8a7c_row2_col5\" class=\"data row2 col5\" >0.9543</td>\n",
       "      <td id=\"T_d8a7c_row2_col6\" class=\"data row2 col6\" >0.9546</td>\n",
       "    </tr>\n",
       "    <tr>\n",
       "      <th id=\"T_d8a7c_level0_row3\" class=\"row_heading level0 row3\" >3</th>\n",
       "      <td id=\"T_d8a7c_row3_col0\" class=\"data row3 col0\" >0.9733</td>\n",
       "      <td id=\"T_d8a7c_row3_col1\" class=\"data row3 col1\" >0.9952</td>\n",
       "      <td id=\"T_d8a7c_row3_col2\" class=\"data row3 col2\" >0.9879</td>\n",
       "      <td id=\"T_d8a7c_row3_col3\" class=\"data row3 col3\" >0.9632</td>\n",
       "      <td id=\"T_d8a7c_row3_col4\" class=\"data row3 col4\" >0.9754</td>\n",
       "      <td id=\"T_d8a7c_row3_col5\" class=\"data row3 col5\" >0.9463</td>\n",
       "      <td id=\"T_d8a7c_row3_col6\" class=\"data row3 col6\" >0.9467</td>\n",
       "    </tr>\n",
       "    <tr>\n",
       "      <th id=\"T_d8a7c_level0_row4\" class=\"row_heading level0 row4\" >4</th>\n",
       "      <td id=\"T_d8a7c_row4_col0\" class=\"data row4 col0\" >0.9723</td>\n",
       "      <td id=\"T_d8a7c_row4_col1\" class=\"data row4 col1\" >0.9947</td>\n",
       "      <td id=\"T_d8a7c_row4_col2\" class=\"data row4 col2\" >0.9882</td>\n",
       "      <td id=\"T_d8a7c_row4_col3\" class=\"data row4 col3\" >0.9612</td>\n",
       "      <td id=\"T_d8a7c_row4_col4\" class=\"data row4 col4\" >0.9745</td>\n",
       "      <td id=\"T_d8a7c_row4_col5\" class=\"data row4 col5\" >0.9443</td>\n",
       "      <td id=\"T_d8a7c_row4_col6\" class=\"data row4 col6\" >0.9447</td>\n",
       "    </tr>\n",
       "    <tr>\n",
       "      <th id=\"T_d8a7c_level0_row5\" class=\"row_heading level0 row5\" >Mean</th>\n",
       "      <td id=\"T_d8a7c_row5_col0\" class=\"data row5 col0\" >0.9749</td>\n",
       "      <td id=\"T_d8a7c_row5_col1\" class=\"data row5 col1\" >0.9959</td>\n",
       "      <td id=\"T_d8a7c_row5_col2\" class=\"data row5 col2\" >0.9882</td>\n",
       "      <td id=\"T_d8a7c_row5_col3\" class=\"data row5 col3\" >0.9658</td>\n",
       "      <td id=\"T_d8a7c_row5_col4\" class=\"data row5 col4\" >0.9769</td>\n",
       "      <td id=\"T_d8a7c_row5_col5\" class=\"data row5 col5\" >0.9496</td>\n",
       "      <td id=\"T_d8a7c_row5_col6\" class=\"data row5 col6\" >0.9499</td>\n",
       "    </tr>\n",
       "    <tr>\n",
       "      <th id=\"T_d8a7c_level0_row6\" class=\"row_heading level0 row6\" >Std</th>\n",
       "      <td id=\"T_d8a7c_row6_col0\" class=\"data row6 col0\" >0.0018</td>\n",
       "      <td id=\"T_d8a7c_row6_col1\" class=\"data row6 col1\" >0.0009</td>\n",
       "      <td id=\"T_d8a7c_row6_col2\" class=\"data row6 col2\" >0.0011</td>\n",
       "      <td id=\"T_d8a7c_row6_col3\" class=\"data row6 col3\" >0.0032</td>\n",
       "      <td id=\"T_d8a7c_row6_col4\" class=\"data row6 col4\" >0.0017</td>\n",
       "      <td id=\"T_d8a7c_row6_col5\" class=\"data row6 col5\" >0.0037</td>\n",
       "      <td id=\"T_d8a7c_row6_col6\" class=\"data row6 col6\" >0.0036</td>\n",
       "    </tr>\n",
       "  </tbody>\n",
       "</table>\n"
      ],
      "text/plain": [
       "<pandas.io.formats.style.Styler at 0x17ab67a9fd0>"
      ]
     },
     "metadata": {},
     "output_type": "display_data"
    },
    {
     "data": {
      "application/vnd.jupyter.widget-view+json": {
       "model_id": "",
       "version_major": 2,
       "version_minor": 0
      },
      "text/plain": [
       "Processing:   0%|          | 0/4 [00:00<?, ?it/s]"
      ]
     },
     "metadata": {},
     "output_type": "display_data"
    }
   ],
   "source": [
    "# Fitting the dataset to our neural network\n",
    "skorch_model = create_model(nn_pipe)"
   ]
  },
  {
   "cell_type": "code",
   "execution_count": 50,
   "id": "5f2f148b-8e9c-4f52-96ca-e406b141ac88",
   "metadata": {},
   "outputs": [
    {
     "data": {
      "text/html": [],
      "text/plain": [
       "<IPython.core.display.HTML object>"
      ]
     },
     "metadata": {},
     "output_type": "display_data"
    },
    {
     "data": {
      "text/html": [
       "<style type=\"text/css\">\n",
       "#T_15607_row5_col0, #T_15607_row5_col1, #T_15607_row5_col2, #T_15607_row5_col3, #T_15607_row5_col4, #T_15607_row5_col5, #T_15607_row5_col6 {\n",
       "  background: yellow;\n",
       "}\n",
       "</style>\n",
       "<table id=\"T_15607\">\n",
       "  <thead>\n",
       "    <tr>\n",
       "      <th class=\"blank level0\" >&nbsp;</th>\n",
       "      <th id=\"T_15607_level0_col0\" class=\"col_heading level0 col0\" >Accuracy</th>\n",
       "      <th id=\"T_15607_level0_col1\" class=\"col_heading level0 col1\" >AUC</th>\n",
       "      <th id=\"T_15607_level0_col2\" class=\"col_heading level0 col2\" >Recall</th>\n",
       "      <th id=\"T_15607_level0_col3\" class=\"col_heading level0 col3\" >Prec.</th>\n",
       "      <th id=\"T_15607_level0_col4\" class=\"col_heading level0 col4\" >F1</th>\n",
       "      <th id=\"T_15607_level0_col5\" class=\"col_heading level0 col5\" >Kappa</th>\n",
       "      <th id=\"T_15607_level0_col6\" class=\"col_heading level0 col6\" >MCC</th>\n",
       "    </tr>\n",
       "    <tr>\n",
       "      <th class=\"index_name level0\" >Fold</th>\n",
       "      <th class=\"blank col0\" >&nbsp;</th>\n",
       "      <th class=\"blank col1\" >&nbsp;</th>\n",
       "      <th class=\"blank col2\" >&nbsp;</th>\n",
       "      <th class=\"blank col3\" >&nbsp;</th>\n",
       "      <th class=\"blank col4\" >&nbsp;</th>\n",
       "      <th class=\"blank col5\" >&nbsp;</th>\n",
       "      <th class=\"blank col6\" >&nbsp;</th>\n",
       "    </tr>\n",
       "  </thead>\n",
       "  <tbody>\n",
       "    <tr>\n",
       "      <th id=\"T_15607_level0_row0\" class=\"row_heading level0 row0\" >0</th>\n",
       "      <td id=\"T_15607_row0_col0\" class=\"data row0 col0\" >0.9984</td>\n",
       "      <td id=\"T_15607_row0_col1\" class=\"data row0 col1\" >1.0000</td>\n",
       "      <td id=\"T_15607_row0_col2\" class=\"data row0 col2\" >0.9993</td>\n",
       "      <td id=\"T_15607_row0_col3\" class=\"data row0 col3\" >0.9978</td>\n",
       "      <td id=\"T_15607_row0_col4\" class=\"data row0 col4\" >0.9986</td>\n",
       "      <td id=\"T_15607_row0_col5\" class=\"data row0 col5\" >0.9969</td>\n",
       "      <td id=\"T_15607_row0_col6\" class=\"data row0 col6\" >0.9969</td>\n",
       "    </tr>\n",
       "    <tr>\n",
       "      <th id=\"T_15607_level0_row1\" class=\"row_heading level0 row1\" >1</th>\n",
       "      <td id=\"T_15607_row1_col0\" class=\"data row1 col0\" >0.9984</td>\n",
       "      <td id=\"T_15607_row1_col1\" class=\"data row1 col1\" >0.9999</td>\n",
       "      <td id=\"T_15607_row1_col2\" class=\"data row1 col2\" >0.9992</td>\n",
       "      <td id=\"T_15607_row1_col3\" class=\"data row1 col3\" >0.9978</td>\n",
       "      <td id=\"T_15607_row1_col4\" class=\"data row1 col4\" >0.9985</td>\n",
       "      <td id=\"T_15607_row1_col5\" class=\"data row1 col5\" >0.9968</td>\n",
       "      <td id=\"T_15607_row1_col6\" class=\"data row1 col6\" >0.9968</td>\n",
       "    </tr>\n",
       "    <tr>\n",
       "      <th id=\"T_15607_level0_row2\" class=\"row_heading level0 row2\" >2</th>\n",
       "      <td id=\"T_15607_row2_col0\" class=\"data row2 col0\" >0.9988</td>\n",
       "      <td id=\"T_15607_row2_col1\" class=\"data row2 col1\" >1.0000</td>\n",
       "      <td id=\"T_15607_row2_col2\" class=\"data row2 col2\" >0.9997</td>\n",
       "      <td id=\"T_15607_row2_col3\" class=\"data row2 col3\" >0.9980</td>\n",
       "      <td id=\"T_15607_row2_col4\" class=\"data row2 col4\" >0.9988</td>\n",
       "      <td id=\"T_15607_row2_col5\" class=\"data row2 col5\" >0.9975</td>\n",
       "      <td id=\"T_15607_row2_col6\" class=\"data row2 col6\" >0.9975</td>\n",
       "    </tr>\n",
       "    <tr>\n",
       "      <th id=\"T_15607_level0_row3\" class=\"row_heading level0 row3\" >3</th>\n",
       "      <td id=\"T_15607_row3_col0\" class=\"data row3 col0\" >0.9986</td>\n",
       "      <td id=\"T_15607_row3_col1\" class=\"data row3 col1\" >1.0000</td>\n",
       "      <td id=\"T_15607_row3_col2\" class=\"data row3 col2\" >0.9995</td>\n",
       "      <td id=\"T_15607_row3_col3\" class=\"data row3 col3\" >0.9978</td>\n",
       "      <td id=\"T_15607_row3_col4\" class=\"data row3 col4\" >0.9987</td>\n",
       "      <td id=\"T_15607_row3_col5\" class=\"data row3 col5\" >0.9971</td>\n",
       "      <td id=\"T_15607_row3_col6\" class=\"data row3 col6\" >0.9971</td>\n",
       "    </tr>\n",
       "    <tr>\n",
       "      <th id=\"T_15607_level0_row4\" class=\"row_heading level0 row4\" >4</th>\n",
       "      <td id=\"T_15607_row4_col0\" class=\"data row4 col0\" >0.9988</td>\n",
       "      <td id=\"T_15607_row4_col1\" class=\"data row4 col1\" >1.0000</td>\n",
       "      <td id=\"T_15607_row4_col2\" class=\"data row4 col2\" >0.9994</td>\n",
       "      <td id=\"T_15607_row4_col3\" class=\"data row4 col3\" >0.9983</td>\n",
       "      <td id=\"T_15607_row4_col4\" class=\"data row4 col4\" >0.9988</td>\n",
       "      <td id=\"T_15607_row4_col5\" class=\"data row4 col5\" >0.9975</td>\n",
       "      <td id=\"T_15607_row4_col6\" class=\"data row4 col6\" >0.9975</td>\n",
       "    </tr>\n",
       "    <tr>\n",
       "      <th id=\"T_15607_level0_row5\" class=\"row_heading level0 row5\" >Mean</th>\n",
       "      <td id=\"T_15607_row5_col0\" class=\"data row5 col0\" >0.9986</td>\n",
       "      <td id=\"T_15607_row5_col1\" class=\"data row5 col1\" >1.0000</td>\n",
       "      <td id=\"T_15607_row5_col2\" class=\"data row5 col2\" >0.9994</td>\n",
       "      <td id=\"T_15607_row5_col3\" class=\"data row5 col3\" >0.9979</td>\n",
       "      <td id=\"T_15607_row5_col4\" class=\"data row5 col4\" >0.9987</td>\n",
       "      <td id=\"T_15607_row5_col5\" class=\"data row5 col5\" >0.9972</td>\n",
       "      <td id=\"T_15607_row5_col6\" class=\"data row5 col6\" >0.9972</td>\n",
       "    </tr>\n",
       "    <tr>\n",
       "      <th id=\"T_15607_level0_row6\" class=\"row_heading level0 row6\" >Std</th>\n",
       "      <td id=\"T_15607_row6_col0\" class=\"data row6 col0\" >0.0002</td>\n",
       "      <td id=\"T_15607_row6_col1\" class=\"data row6 col1\" >0.0001</td>\n",
       "      <td id=\"T_15607_row6_col2\" class=\"data row6 col2\" >0.0002</td>\n",
       "      <td id=\"T_15607_row6_col3\" class=\"data row6 col3\" >0.0002</td>\n",
       "      <td id=\"T_15607_row6_col4\" class=\"data row6 col4\" >0.0001</td>\n",
       "      <td id=\"T_15607_row6_col5\" class=\"data row6 col5\" >0.0003</td>\n",
       "      <td id=\"T_15607_row6_col6\" class=\"data row6 col6\" >0.0003</td>\n",
       "    </tr>\n",
       "  </tbody>\n",
       "</table>\n"
      ],
      "text/plain": [
       "<pandas.io.formats.style.Styler at 0x17abf5d1d30>"
      ]
     },
     "metadata": {},
     "output_type": "display_data"
    },
    {
     "data": {
      "application/vnd.jupyter.widget-view+json": {
       "model_id": "",
       "version_major": 2,
       "version_minor": 0
      },
      "text/plain": [
       "Processing:   0%|          | 0/4 [00:00<?, ?it/s]"
      ]
     },
     "metadata": {},
     "output_type": "display_data"
    },
    {
     "data": {
      "text/html": [],
      "text/plain": [
       "<IPython.core.display.HTML object>"
      ]
     },
     "metadata": {},
     "output_type": "display_data"
    },
    {
     "data": {
      "text/html": [
       "<style type=\"text/css\">\n",
       "#T_a5f95_row5_col0, #T_a5f95_row5_col1, #T_a5f95_row5_col2, #T_a5f95_row5_col3, #T_a5f95_row5_col4, #T_a5f95_row5_col5, #T_a5f95_row5_col6 {\n",
       "  background: yellow;\n",
       "}\n",
       "</style>\n",
       "<table id=\"T_a5f95\">\n",
       "  <thead>\n",
       "    <tr>\n",
       "      <th class=\"blank level0\" >&nbsp;</th>\n",
       "      <th id=\"T_a5f95_level0_col0\" class=\"col_heading level0 col0\" >Accuracy</th>\n",
       "      <th id=\"T_a5f95_level0_col1\" class=\"col_heading level0 col1\" >AUC</th>\n",
       "      <th id=\"T_a5f95_level0_col2\" class=\"col_heading level0 col2\" >Recall</th>\n",
       "      <th id=\"T_a5f95_level0_col3\" class=\"col_heading level0 col3\" >Prec.</th>\n",
       "      <th id=\"T_a5f95_level0_col4\" class=\"col_heading level0 col4\" >F1</th>\n",
       "      <th id=\"T_a5f95_level0_col5\" class=\"col_heading level0 col5\" >Kappa</th>\n",
       "      <th id=\"T_a5f95_level0_col6\" class=\"col_heading level0 col6\" >MCC</th>\n",
       "    </tr>\n",
       "    <tr>\n",
       "      <th class=\"index_name level0\" >Fold</th>\n",
       "      <th class=\"blank col0\" >&nbsp;</th>\n",
       "      <th class=\"blank col1\" >&nbsp;</th>\n",
       "      <th class=\"blank col2\" >&nbsp;</th>\n",
       "      <th class=\"blank col3\" >&nbsp;</th>\n",
       "      <th class=\"blank col4\" >&nbsp;</th>\n",
       "      <th class=\"blank col5\" >&nbsp;</th>\n",
       "      <th class=\"blank col6\" >&nbsp;</th>\n",
       "    </tr>\n",
       "  </thead>\n",
       "  <tbody>\n",
       "    <tr>\n",
       "      <th id=\"T_a5f95_level0_row0\" class=\"row_heading level0 row0\" >0</th>\n",
       "      <td id=\"T_a5f95_row0_col0\" class=\"data row0 col0\" >0.9984</td>\n",
       "      <td id=\"T_a5f95_row0_col1\" class=\"data row0 col1\" >0.9999</td>\n",
       "      <td id=\"T_a5f95_row0_col2\" class=\"data row0 col2\" >0.9993</td>\n",
       "      <td id=\"T_a5f95_row0_col3\" class=\"data row0 col3\" >0.9977</td>\n",
       "      <td id=\"T_a5f95_row0_col4\" class=\"data row0 col4\" >0.9985</td>\n",
       "      <td id=\"T_a5f95_row0_col5\" class=\"data row0 col5\" >0.9968</td>\n",
       "      <td id=\"T_a5f95_row0_col6\" class=\"data row0 col6\" >0.9968</td>\n",
       "    </tr>\n",
       "    <tr>\n",
       "      <th id=\"T_a5f95_level0_row1\" class=\"row_heading level0 row1\" >1</th>\n",
       "      <td id=\"T_a5f95_row1_col0\" class=\"data row1 col0\" >0.9979</td>\n",
       "      <td id=\"T_a5f95_row1_col1\" class=\"data row1 col1\" >0.9998</td>\n",
       "      <td id=\"T_a5f95_row1_col2\" class=\"data row1 col2\" >0.9992</td>\n",
       "      <td id=\"T_a5f95_row1_col3\" class=\"data row1 col3\" >0.9969</td>\n",
       "      <td id=\"T_a5f95_row1_col4\" class=\"data row1 col4\" >0.9980</td>\n",
       "      <td id=\"T_a5f95_row1_col5\" class=\"data row1 col5\" >0.9958</td>\n",
       "      <td id=\"T_a5f95_row1_col6\" class=\"data row1 col6\" >0.9958</td>\n",
       "    </tr>\n",
       "    <tr>\n",
       "      <th id=\"T_a5f95_level0_row2\" class=\"row_heading level0 row2\" >2</th>\n",
       "      <td id=\"T_a5f95_row2_col0\" class=\"data row2 col0\" >0.9989</td>\n",
       "      <td id=\"T_a5f95_row2_col1\" class=\"data row2 col1\" >1.0000</td>\n",
       "      <td id=\"T_a5f95_row2_col2\" class=\"data row2 col2\" >0.9997</td>\n",
       "      <td id=\"T_a5f95_row2_col3\" class=\"data row2 col3\" >0.9983</td>\n",
       "      <td id=\"T_a5f95_row2_col4\" class=\"data row2 col4\" >0.9990</td>\n",
       "      <td id=\"T_a5f95_row2_col5\" class=\"data row2 col5\" >0.9978</td>\n",
       "      <td id=\"T_a5f95_row2_col6\" class=\"data row2 col6\" >0.9978</td>\n",
       "    </tr>\n",
       "    <tr>\n",
       "      <th id=\"T_a5f95_level0_row3\" class=\"row_heading level0 row3\" >3</th>\n",
       "      <td id=\"T_a5f95_row3_col0\" class=\"data row3 col0\" >0.9983</td>\n",
       "      <td id=\"T_a5f95_row3_col1\" class=\"data row3 col1\" >1.0000</td>\n",
       "      <td id=\"T_a5f95_row3_col2\" class=\"data row3 col2\" >0.9991</td>\n",
       "      <td id=\"T_a5f95_row3_col3\" class=\"data row3 col3\" >0.9977</td>\n",
       "      <td id=\"T_a5f95_row3_col4\" class=\"data row3 col4\" >0.9984</td>\n",
       "      <td id=\"T_a5f95_row3_col5\" class=\"data row3 col5\" >0.9965</td>\n",
       "      <td id=\"T_a5f95_row3_col6\" class=\"data row3 col6\" >0.9965</td>\n",
       "    </tr>\n",
       "    <tr>\n",
       "      <th id=\"T_a5f95_level0_row4\" class=\"row_heading level0 row4\" >4</th>\n",
       "      <td id=\"T_a5f95_row4_col0\" class=\"data row4 col0\" >0.9989</td>\n",
       "      <td id=\"T_a5f95_row4_col1\" class=\"data row4 col1\" >0.9999</td>\n",
       "      <td id=\"T_a5f95_row4_col2\" class=\"data row4 col2\" >0.9995</td>\n",
       "      <td id=\"T_a5f95_row4_col3\" class=\"data row4 col3\" >0.9984</td>\n",
       "      <td id=\"T_a5f95_row4_col4\" class=\"data row4 col4\" >0.9990</td>\n",
       "      <td id=\"T_a5f95_row4_col5\" class=\"data row4 col5\" >0.9978</td>\n",
       "      <td id=\"T_a5f95_row4_col6\" class=\"data row4 col6\" >0.9978</td>\n",
       "    </tr>\n",
       "    <tr>\n",
       "      <th id=\"T_a5f95_level0_row5\" class=\"row_heading level0 row5\" >Mean</th>\n",
       "      <td id=\"T_a5f95_row5_col0\" class=\"data row5 col0\" >0.9985</td>\n",
       "      <td id=\"T_a5f95_row5_col1\" class=\"data row5 col1\" >0.9999</td>\n",
       "      <td id=\"T_a5f95_row5_col2\" class=\"data row5 col2\" >0.9994</td>\n",
       "      <td id=\"T_a5f95_row5_col3\" class=\"data row5 col3\" >0.9978</td>\n",
       "      <td id=\"T_a5f95_row5_col4\" class=\"data row5 col4\" >0.9986</td>\n",
       "      <td id=\"T_a5f95_row5_col5\" class=\"data row5 col5\" >0.9969</td>\n",
       "      <td id=\"T_a5f95_row5_col6\" class=\"data row5 col6\" >0.9969</td>\n",
       "    </tr>\n",
       "    <tr>\n",
       "      <th id=\"T_a5f95_level0_row6\" class=\"row_heading level0 row6\" >Std</th>\n",
       "      <td id=\"T_a5f95_row6_col0\" class=\"data row6 col0\" >0.0004</td>\n",
       "      <td id=\"T_a5f95_row6_col1\" class=\"data row6 col1\" >0.0001</td>\n",
       "      <td id=\"T_a5f95_row6_col2\" class=\"data row6 col2\" >0.0002</td>\n",
       "      <td id=\"T_a5f95_row6_col3\" class=\"data row6 col3\" >0.0005</td>\n",
       "      <td id=\"T_a5f95_row6_col4\" class=\"data row6 col4\" >0.0004</td>\n",
       "      <td id=\"T_a5f95_row6_col5\" class=\"data row6 col5\" >0.0008</td>\n",
       "      <td id=\"T_a5f95_row6_col6\" class=\"data row6 col6\" >0.0008</td>\n",
       "    </tr>\n",
       "  </tbody>\n",
       "</table>\n"
      ],
      "text/plain": [
       "<pandas.io.formats.style.Styler at 0x17aa07ce970>"
      ]
     },
     "metadata": {},
     "output_type": "display_data"
    },
    {
     "data": {
      "application/vnd.jupyter.widget-view+json": {
       "model_id": "",
       "version_major": 2,
       "version_minor": 0
      },
      "text/plain": [
       "Processing:   0%|          | 0/4 [00:00<?, ?it/s]"
      ]
     },
     "metadata": {},
     "output_type": "display_data"
    },
    {
     "data": {
      "text/html": [],
      "text/plain": [
       "<IPython.core.display.HTML object>"
      ]
     },
     "metadata": {},
     "output_type": "display_data"
    },
    {
     "data": {
      "text/html": [
       "<style type=\"text/css\">\n",
       "#T_481e0_row5_col0, #T_481e0_row5_col1, #T_481e0_row5_col2, #T_481e0_row5_col3, #T_481e0_row5_col4, #T_481e0_row5_col5, #T_481e0_row5_col6 {\n",
       "  background: yellow;\n",
       "}\n",
       "</style>\n",
       "<table id=\"T_481e0\">\n",
       "  <thead>\n",
       "    <tr>\n",
       "      <th class=\"blank level0\" >&nbsp;</th>\n",
       "      <th id=\"T_481e0_level0_col0\" class=\"col_heading level0 col0\" >Accuracy</th>\n",
       "      <th id=\"T_481e0_level0_col1\" class=\"col_heading level0 col1\" >AUC</th>\n",
       "      <th id=\"T_481e0_level0_col2\" class=\"col_heading level0 col2\" >Recall</th>\n",
       "      <th id=\"T_481e0_level0_col3\" class=\"col_heading level0 col3\" >Prec.</th>\n",
       "      <th id=\"T_481e0_level0_col4\" class=\"col_heading level0 col4\" >F1</th>\n",
       "      <th id=\"T_481e0_level0_col5\" class=\"col_heading level0 col5\" >Kappa</th>\n",
       "      <th id=\"T_481e0_level0_col6\" class=\"col_heading level0 col6\" >MCC</th>\n",
       "    </tr>\n",
       "    <tr>\n",
       "      <th class=\"index_name level0\" >Fold</th>\n",
       "      <th class=\"blank col0\" >&nbsp;</th>\n",
       "      <th class=\"blank col1\" >&nbsp;</th>\n",
       "      <th class=\"blank col2\" >&nbsp;</th>\n",
       "      <th class=\"blank col3\" >&nbsp;</th>\n",
       "      <th class=\"blank col4\" >&nbsp;</th>\n",
       "      <th class=\"blank col5\" >&nbsp;</th>\n",
       "      <th class=\"blank col6\" >&nbsp;</th>\n",
       "    </tr>\n",
       "  </thead>\n",
       "  <tbody>\n",
       "    <tr>\n",
       "      <th id=\"T_481e0_level0_row0\" class=\"row_heading level0 row0\" >0</th>\n",
       "      <td id=\"T_481e0_row0_col0\" class=\"data row0 col0\" >0.9990</td>\n",
       "      <td id=\"T_481e0_row0_col1\" class=\"data row0 col1\" >1.0000</td>\n",
       "      <td id=\"T_481e0_row0_col2\" class=\"data row0 col2\" >0.9993</td>\n",
       "      <td id=\"T_481e0_row0_col3\" class=\"data row0 col3\" >0.9988</td>\n",
       "      <td id=\"T_481e0_row0_col4\" class=\"data row0 col4\" >0.9991</td>\n",
       "      <td id=\"T_481e0_row0_col5\" class=\"data row0 col5\" >0.9980</td>\n",
       "      <td id=\"T_481e0_row0_col6\" class=\"data row0 col6\" >0.9980</td>\n",
       "    </tr>\n",
       "    <tr>\n",
       "      <th id=\"T_481e0_level0_row1\" class=\"row_heading level0 row1\" >1</th>\n",
       "      <td id=\"T_481e0_row1_col0\" class=\"data row1 col0\" >0.9988</td>\n",
       "      <td id=\"T_481e0_row1_col1\" class=\"data row1 col1\" >1.0000</td>\n",
       "      <td id=\"T_481e0_row1_col2\" class=\"data row1 col2\" >0.9990</td>\n",
       "      <td id=\"T_481e0_row1_col3\" class=\"data row1 col3\" >0.9987</td>\n",
       "      <td id=\"T_481e0_row1_col4\" class=\"data row1 col4\" >0.9988</td>\n",
       "      <td id=\"T_481e0_row1_col5\" class=\"data row1 col5\" >0.9975</td>\n",
       "      <td id=\"T_481e0_row1_col6\" class=\"data row1 col6\" >0.9975</td>\n",
       "    </tr>\n",
       "    <tr>\n",
       "      <th id=\"T_481e0_level0_row2\" class=\"row_heading level0 row2\" >2</th>\n",
       "      <td id=\"T_481e0_row2_col0\" class=\"data row2 col0\" >0.9991</td>\n",
       "      <td id=\"T_481e0_row2_col1\" class=\"data row2 col1\" >1.0000</td>\n",
       "      <td id=\"T_481e0_row2_col2\" class=\"data row2 col2\" >0.9998</td>\n",
       "      <td id=\"T_481e0_row2_col3\" class=\"data row2 col3\" >0.9985</td>\n",
       "      <td id=\"T_481e0_row2_col4\" class=\"data row2 col4\" >0.9991</td>\n",
       "      <td id=\"T_481e0_row2_col5\" class=\"data row2 col5\" >0.9981</td>\n",
       "      <td id=\"T_481e0_row2_col6\" class=\"data row2 col6\" >0.9981</td>\n",
       "    </tr>\n",
       "    <tr>\n",
       "      <th id=\"T_481e0_level0_row3\" class=\"row_heading level0 row3\" >3</th>\n",
       "      <td id=\"T_481e0_row3_col0\" class=\"data row3 col0\" >0.9989</td>\n",
       "      <td id=\"T_481e0_row3_col1\" class=\"data row3 col1\" >1.0000</td>\n",
       "      <td id=\"T_481e0_row3_col2\" class=\"data row3 col2\" >0.9991</td>\n",
       "      <td id=\"T_481e0_row3_col3\" class=\"data row3 col3\" >0.9988</td>\n",
       "      <td id=\"T_481e0_row3_col4\" class=\"data row3 col4\" >0.9990</td>\n",
       "      <td id=\"T_481e0_row3_col5\" class=\"data row3 col5\" >0.9978</td>\n",
       "      <td id=\"T_481e0_row3_col6\" class=\"data row3 col6\" >0.9978</td>\n",
       "    </tr>\n",
       "    <tr>\n",
       "      <th id=\"T_481e0_level0_row4\" class=\"row_heading level0 row4\" >4</th>\n",
       "      <td id=\"T_481e0_row4_col0\" class=\"data row4 col0\" >0.9988</td>\n",
       "      <td id=\"T_481e0_row4_col1\" class=\"data row4 col1\" >1.0000</td>\n",
       "      <td id=\"T_481e0_row4_col2\" class=\"data row4 col2\" >0.9993</td>\n",
       "      <td id=\"T_481e0_row4_col3\" class=\"data row4 col3\" >0.9985</td>\n",
       "      <td id=\"T_481e0_row4_col4\" class=\"data row4 col4\" >0.9989</td>\n",
       "      <td id=\"T_481e0_row4_col5\" class=\"data row4 col5\" >0.9976</td>\n",
       "      <td id=\"T_481e0_row4_col6\" class=\"data row4 col6\" >0.9976</td>\n",
       "    </tr>\n",
       "    <tr>\n",
       "      <th id=\"T_481e0_level0_row5\" class=\"row_heading level0 row5\" >Mean</th>\n",
       "      <td id=\"T_481e0_row5_col0\" class=\"data row5 col0\" >0.9989</td>\n",
       "      <td id=\"T_481e0_row5_col1\" class=\"data row5 col1\" >1.0000</td>\n",
       "      <td id=\"T_481e0_row5_col2\" class=\"data row5 col2\" >0.9993</td>\n",
       "      <td id=\"T_481e0_row5_col3\" class=\"data row5 col3\" >0.9987</td>\n",
       "      <td id=\"T_481e0_row5_col4\" class=\"data row5 col4\" >0.9990</td>\n",
       "      <td id=\"T_481e0_row5_col5\" class=\"data row5 col5\" >0.9978</td>\n",
       "      <td id=\"T_481e0_row5_col6\" class=\"data row5 col6\" >0.9978</td>\n",
       "    </tr>\n",
       "    <tr>\n",
       "      <th id=\"T_481e0_level0_row6\" class=\"row_heading level0 row6\" >Std</th>\n",
       "      <td id=\"T_481e0_row6_col0\" class=\"data row6 col0\" >0.0001</td>\n",
       "      <td id=\"T_481e0_row6_col1\" class=\"data row6 col1\" >0.0000</td>\n",
       "      <td id=\"T_481e0_row6_col2\" class=\"data row6 col2\" >0.0003</td>\n",
       "      <td id=\"T_481e0_row6_col3\" class=\"data row6 col3\" >0.0002</td>\n",
       "      <td id=\"T_481e0_row6_col4\" class=\"data row6 col4\" >0.0001</td>\n",
       "      <td id=\"T_481e0_row6_col5\" class=\"data row6 col5\" >0.0002</td>\n",
       "      <td id=\"T_481e0_row6_col6\" class=\"data row6 col6\" >0.0002</td>\n",
       "    </tr>\n",
       "  </tbody>\n",
       "</table>\n"
      ],
      "text/plain": [
       "<pandas.io.formats.style.Styler at 0x17ab679cca0>"
      ]
     },
     "metadata": {},
     "output_type": "display_data"
    },
    {
     "data": {
      "application/vnd.jupyter.widget-view+json": {
       "model_id": "",
       "version_major": 2,
       "version_minor": 0
      },
      "text/plain": [
       "Processing:   0%|          | 0/4 [00:00<?, ?it/s]"
      ]
     },
     "metadata": {},
     "output_type": "display_data"
    }
   ],
   "source": [
    "# creating the top 2 models + xgboost to stack onto our NN\n",
    "rf_model = create_model(\"rf\")\n",
    "et_model = create_model(\"et\")\n",
    "xgboost = create_model(\"xgboost\") # stacking xgboost onto our NN will takes care of the stacking and boosting process simultaneously"
   ]
  },
  {
   "cell_type": "code",
   "execution_count": 51,
   "id": "b40ae848-a275-412b-8b14-61fb93e41e7b",
   "metadata": {},
   "outputs": [
    {
     "data": {
      "text/html": [],
      "text/plain": [
       "<IPython.core.display.HTML object>"
      ]
     },
     "metadata": {},
     "output_type": "display_data"
    },
    {
     "data": {
      "text/html": [
       "<style type=\"text/css\">\n",
       "#T_ef8ae th {\n",
       "  text-align: left;\n",
       "}\n",
       "#T_ef8ae_row0_col0, #T_ef8ae_row0_col1, #T_ef8ae_row0_col4, #T_ef8ae_row0_col5, #T_ef8ae_row0_col6, #T_ef8ae_row0_col7, #T_ef8ae_row1_col0, #T_ef8ae_row1_col3, #T_ef8ae_row2_col0, #T_ef8ae_row2_col1, #T_ef8ae_row2_col2, #T_ef8ae_row2_col4, #T_ef8ae_row2_col5, #T_ef8ae_row2_col6, #T_ef8ae_row2_col7, #T_ef8ae_row3_col0, #T_ef8ae_row3_col1, #T_ef8ae_row3_col2, #T_ef8ae_row3_col3, #T_ef8ae_row3_col4, #T_ef8ae_row3_col5, #T_ef8ae_row3_col6, #T_ef8ae_row3_col7 {\n",
       "  text-align: left;\n",
       "}\n",
       "#T_ef8ae_row0_col2, #T_ef8ae_row0_col3, #T_ef8ae_row1_col1, #T_ef8ae_row1_col2, #T_ef8ae_row1_col4, #T_ef8ae_row1_col5, #T_ef8ae_row1_col6, #T_ef8ae_row1_col7, #T_ef8ae_row2_col3 {\n",
       "  text-align: left;\n",
       "  background-color: yellow;\n",
       "}\n",
       "#T_ef8ae_row0_col8, #T_ef8ae_row2_col8, #T_ef8ae_row3_col8 {\n",
       "  text-align: left;\n",
       "  background-color: lightgrey;\n",
       "}\n",
       "#T_ef8ae_row1_col8 {\n",
       "  text-align: left;\n",
       "  background-color: yellow;\n",
       "  background-color: lightgrey;\n",
       "}\n",
       "</style>\n",
       "<table id=\"T_ef8ae\">\n",
       "  <thead>\n",
       "    <tr>\n",
       "      <th class=\"blank level0\" >&nbsp;</th>\n",
       "      <th id=\"T_ef8ae_level0_col0\" class=\"col_heading level0 col0\" >Model</th>\n",
       "      <th id=\"T_ef8ae_level0_col1\" class=\"col_heading level0 col1\" >Accuracy</th>\n",
       "      <th id=\"T_ef8ae_level0_col2\" class=\"col_heading level0 col2\" >AUC</th>\n",
       "      <th id=\"T_ef8ae_level0_col3\" class=\"col_heading level0 col3\" >Recall</th>\n",
       "      <th id=\"T_ef8ae_level0_col4\" class=\"col_heading level0 col4\" >Prec.</th>\n",
       "      <th id=\"T_ef8ae_level0_col5\" class=\"col_heading level0 col5\" >F1</th>\n",
       "      <th id=\"T_ef8ae_level0_col6\" class=\"col_heading level0 col6\" >Kappa</th>\n",
       "      <th id=\"T_ef8ae_level0_col7\" class=\"col_heading level0 col7\" >MCC</th>\n",
       "      <th id=\"T_ef8ae_level0_col8\" class=\"col_heading level0 col8\" >TT (Sec)</th>\n",
       "    </tr>\n",
       "  </thead>\n",
       "  <tbody>\n",
       "    <tr>\n",
       "      <th id=\"T_ef8ae_level0_row0\" class=\"row_heading level0 row0\" >1</th>\n",
       "      <td id=\"T_ef8ae_row0_col0\" class=\"data row0 col0\" >Random Forest Classifier</td>\n",
       "      <td id=\"T_ef8ae_row0_col1\" class=\"data row0 col1\" >0.9986</td>\n",
       "      <td id=\"T_ef8ae_row0_col2\" class=\"data row0 col2\" >1.0000</td>\n",
       "      <td id=\"T_ef8ae_row0_col3\" class=\"data row0 col3\" >0.9994</td>\n",
       "      <td id=\"T_ef8ae_row0_col4\" class=\"data row0 col4\" >0.9979</td>\n",
       "      <td id=\"T_ef8ae_row0_col5\" class=\"data row0 col5\" >0.9987</td>\n",
       "      <td id=\"T_ef8ae_row0_col6\" class=\"data row0 col6\" >0.9972</td>\n",
       "      <td id=\"T_ef8ae_row0_col7\" class=\"data row0 col7\" >0.9972</td>\n",
       "      <td id=\"T_ef8ae_row0_col8\" class=\"data row0 col8\" >1.0720</td>\n",
       "    </tr>\n",
       "    <tr>\n",
       "      <th id=\"T_ef8ae_level0_row1\" class=\"row_heading level0 row1\" >3</th>\n",
       "      <td id=\"T_ef8ae_row1_col0\" class=\"data row1 col0\" >Extreme Gradient Boosting</td>\n",
       "      <td id=\"T_ef8ae_row1_col1\" class=\"data row1 col1\" >0.9989</td>\n",
       "      <td id=\"T_ef8ae_row1_col2\" class=\"data row1 col2\" >1.0000</td>\n",
       "      <td id=\"T_ef8ae_row1_col3\" class=\"data row1 col3\" >0.9993</td>\n",
       "      <td id=\"T_ef8ae_row1_col4\" class=\"data row1 col4\" >0.9987</td>\n",
       "      <td id=\"T_ef8ae_row1_col5\" class=\"data row1 col5\" >0.9990</td>\n",
       "      <td id=\"T_ef8ae_row1_col6\" class=\"data row1 col6\" >0.9978</td>\n",
       "      <td id=\"T_ef8ae_row1_col7\" class=\"data row1 col7\" >0.9978</td>\n",
       "      <td id=\"T_ef8ae_row1_col8\" class=\"data row1 col8\" >0.8200</td>\n",
       "    </tr>\n",
       "    <tr>\n",
       "      <th id=\"T_ef8ae_level0_row2\" class=\"row_heading level0 row2\" >2</th>\n",
       "      <td id=\"T_ef8ae_row2_col0\" class=\"data row2 col0\" >Extra Trees Classifier</td>\n",
       "      <td id=\"T_ef8ae_row2_col1\" class=\"data row2 col1\" >0.9985</td>\n",
       "      <td id=\"T_ef8ae_row2_col2\" class=\"data row2 col2\" >0.9999</td>\n",
       "      <td id=\"T_ef8ae_row2_col3\" class=\"data row2 col3\" >0.9994</td>\n",
       "      <td id=\"T_ef8ae_row2_col4\" class=\"data row2 col4\" >0.9978</td>\n",
       "      <td id=\"T_ef8ae_row2_col5\" class=\"data row2 col5\" >0.9986</td>\n",
       "      <td id=\"T_ef8ae_row2_col6\" class=\"data row2 col6\" >0.9969</td>\n",
       "      <td id=\"T_ef8ae_row2_col7\" class=\"data row2 col7\" >0.9969</td>\n",
       "      <td id=\"T_ef8ae_row2_col8\" class=\"data row2 col8\" >1.1980</td>\n",
       "    </tr>\n",
       "    <tr>\n",
       "      <th id=\"T_ef8ae_level0_row3\" class=\"row_heading level0 row3\" >0</th>\n",
       "      <td id=\"T_ef8ae_row3_col0\" class=\"data row3 col0\" >NeuralNetClassifier</td>\n",
       "      <td id=\"T_ef8ae_row3_col1\" class=\"data row3 col1\" >0.9755</td>\n",
       "      <td id=\"T_ef8ae_row3_col2\" class=\"data row3 col2\" >0.9958</td>\n",
       "      <td id=\"T_ef8ae_row3_col3\" class=\"data row3 col3\" >0.9880</td>\n",
       "      <td id=\"T_ef8ae_row3_col4\" class=\"data row3 col4\" >0.9669</td>\n",
       "      <td id=\"T_ef8ae_row3_col5\" class=\"data row3 col5\" >0.9773</td>\n",
       "      <td id=\"T_ef8ae_row3_col6\" class=\"data row3 col6\" >0.9506</td>\n",
       "      <td id=\"T_ef8ae_row3_col7\" class=\"data row3 col7\" >0.9509</td>\n",
       "      <td id=\"T_ef8ae_row3_col8\" class=\"data row3 col8\" >38.4180</td>\n",
       "    </tr>\n",
       "  </tbody>\n",
       "</table>\n"
      ],
      "text/plain": [
       "<pandas.io.formats.style.Styler at 0x17ab8f779d0>"
      ]
     },
     "metadata": {},
     "output_type": "display_data"
    },
    {
     "data": {
      "application/vnd.jupyter.widget-view+json": {
       "model_id": "",
       "version_major": 2,
       "version_minor": 0
      },
      "text/plain": [
       "Processing:   0%|          | 0/21 [00:00<?, ?it/s]"
      ]
     },
     "metadata": {},
     "output_type": "display_data"
    }
   ],
   "source": [
    "# comparing our models\n",
    "best_model = compare_models(include=[skorch_model, rf_model, et_model, xgboost], sort=\"AUC\")"
   ]
  },
  {
   "cell_type": "markdown",
   "id": "025f013b-4673-4523-bf88-657607fea1e7",
   "metadata": {
    "tags": []
   },
   "source": [
    "## Optimizing model through stacking of top performing classification models"
   ]
  },
  {
   "cell_type": "code",
   "execution_count": 56,
   "id": "eec7b9f5-054a-4c72-83b3-451eb75cdf29",
   "metadata": {},
   "outputs": [
    {
     "data": {
      "text/html": [],
      "text/plain": [
       "<IPython.core.display.HTML object>"
      ]
     },
     "metadata": {},
     "output_type": "display_data"
    },
    {
     "data": {
      "text/html": [
       "<style type=\"text/css\">\n",
       "#T_a2ae6_row5_col0, #T_a2ae6_row5_col1, #T_a2ae6_row5_col2, #T_a2ae6_row5_col3, #T_a2ae6_row5_col4, #T_a2ae6_row5_col5, #T_a2ae6_row5_col6 {\n",
       "  background: yellow;\n",
       "}\n",
       "</style>\n",
       "<table id=\"T_a2ae6\">\n",
       "  <thead>\n",
       "    <tr>\n",
       "      <th class=\"blank level0\" >&nbsp;</th>\n",
       "      <th id=\"T_a2ae6_level0_col0\" class=\"col_heading level0 col0\" >Accuracy</th>\n",
       "      <th id=\"T_a2ae6_level0_col1\" class=\"col_heading level0 col1\" >AUC</th>\n",
       "      <th id=\"T_a2ae6_level0_col2\" class=\"col_heading level0 col2\" >Recall</th>\n",
       "      <th id=\"T_a2ae6_level0_col3\" class=\"col_heading level0 col3\" >Prec.</th>\n",
       "      <th id=\"T_a2ae6_level0_col4\" class=\"col_heading level0 col4\" >F1</th>\n",
       "      <th id=\"T_a2ae6_level0_col5\" class=\"col_heading level0 col5\" >Kappa</th>\n",
       "      <th id=\"T_a2ae6_level0_col6\" class=\"col_heading level0 col6\" >MCC</th>\n",
       "    </tr>\n",
       "    <tr>\n",
       "      <th class=\"index_name level0\" >Fold</th>\n",
       "      <th class=\"blank col0\" >&nbsp;</th>\n",
       "      <th class=\"blank col1\" >&nbsp;</th>\n",
       "      <th class=\"blank col2\" >&nbsp;</th>\n",
       "      <th class=\"blank col3\" >&nbsp;</th>\n",
       "      <th class=\"blank col4\" >&nbsp;</th>\n",
       "      <th class=\"blank col5\" >&nbsp;</th>\n",
       "      <th class=\"blank col6\" >&nbsp;</th>\n",
       "    </tr>\n",
       "  </thead>\n",
       "  <tbody>\n",
       "    <tr>\n",
       "      <th id=\"T_a2ae6_level0_row0\" class=\"row_heading level0 row0\" >0</th>\n",
       "      <td id=\"T_a2ae6_row0_col0\" class=\"data row0 col0\" >0.9988</td>\n",
       "      <td id=\"T_a2ae6_row0_col1\" class=\"data row0 col1\" >1.0000</td>\n",
       "      <td id=\"T_a2ae6_row0_col2\" class=\"data row0 col2\" >0.9994</td>\n",
       "      <td id=\"T_a2ae6_row0_col3\" class=\"data row0 col3\" >0.9984</td>\n",
       "      <td id=\"T_a2ae6_row0_col4\" class=\"data row0 col4\" >0.9989</td>\n",
       "      <td id=\"T_a2ae6_row0_col5\" class=\"data row0 col5\" >0.9976</td>\n",
       "      <td id=\"T_a2ae6_row0_col6\" class=\"data row0 col6\" >0.9976</td>\n",
       "    </tr>\n",
       "    <tr>\n",
       "      <th id=\"T_a2ae6_level0_row1\" class=\"row_heading level0 row1\" >1</th>\n",
       "      <td id=\"T_a2ae6_row1_col0\" class=\"data row1 col0\" >0.9988</td>\n",
       "      <td id=\"T_a2ae6_row1_col1\" class=\"data row1 col1\" >0.9998</td>\n",
       "      <td id=\"T_a2ae6_row1_col2\" class=\"data row1 col2\" >0.9987</td>\n",
       "      <td id=\"T_a2ae6_row1_col3\" class=\"data row1 col3\" >0.9990</td>\n",
       "      <td id=\"T_a2ae6_row1_col4\" class=\"data row1 col4\" >0.9988</td>\n",
       "      <td id=\"T_a2ae6_row1_col5\" class=\"data row1 col5\" >0.9975</td>\n",
       "      <td id=\"T_a2ae6_row1_col6\" class=\"data row1 col6\" >0.9975</td>\n",
       "    </tr>\n",
       "    <tr>\n",
       "      <th id=\"T_a2ae6_level0_row2\" class=\"row_heading level0 row2\" >2</th>\n",
       "      <td id=\"T_a2ae6_row2_col0\" class=\"data row2 col0\" >0.9993</td>\n",
       "      <td id=\"T_a2ae6_row2_col1\" class=\"data row2 col1\" >1.0000</td>\n",
       "      <td id=\"T_a2ae6_row2_col2\" class=\"data row2 col2\" >0.9999</td>\n",
       "      <td id=\"T_a2ae6_row2_col3\" class=\"data row2 col3\" >0.9987</td>\n",
       "      <td id=\"T_a2ae6_row2_col4\" class=\"data row2 col4\" >0.9993</td>\n",
       "      <td id=\"T_a2ae6_row2_col5\" class=\"data row2 col5\" >0.9985</td>\n",
       "      <td id=\"T_a2ae6_row2_col6\" class=\"data row2 col6\" >0.9985</td>\n",
       "    </tr>\n",
       "    <tr>\n",
       "      <th id=\"T_a2ae6_level0_row3\" class=\"row_heading level0 row3\" >3</th>\n",
       "      <td id=\"T_a2ae6_row3_col0\" class=\"data row3 col0\" >0.9992</td>\n",
       "      <td id=\"T_a2ae6_row3_col1\" class=\"data row3 col1\" >1.0000</td>\n",
       "      <td id=\"T_a2ae6_row3_col2\" class=\"data row3 col2\" >0.9997</td>\n",
       "      <td id=\"T_a2ae6_row3_col3\" class=\"data row3 col3\" >0.9988</td>\n",
       "      <td id=\"T_a2ae6_row3_col4\" class=\"data row3 col4\" >0.9992</td>\n",
       "      <td id=\"T_a2ae6_row3_col5\" class=\"data row3 col5\" >0.9984</td>\n",
       "      <td id=\"T_a2ae6_row3_col6\" class=\"data row3 col6\" >0.9984</td>\n",
       "    </tr>\n",
       "    <tr>\n",
       "      <th id=\"T_a2ae6_level0_row4\" class=\"row_heading level0 row4\" >4</th>\n",
       "      <td id=\"T_a2ae6_row4_col0\" class=\"data row4 col0\" >0.9989</td>\n",
       "      <td id=\"T_a2ae6_row4_col1\" class=\"data row4 col1\" >1.0000</td>\n",
       "      <td id=\"T_a2ae6_row4_col2\" class=\"data row4 col2\" >0.9993</td>\n",
       "      <td id=\"T_a2ae6_row4_col3\" class=\"data row4 col3\" >0.9986</td>\n",
       "      <td id=\"T_a2ae6_row4_col4\" class=\"data row4 col4\" >0.9990</td>\n",
       "      <td id=\"T_a2ae6_row4_col5\" class=\"data row4 col5\" >0.9978</td>\n",
       "      <td id=\"T_a2ae6_row4_col6\" class=\"data row4 col6\" >0.9978</td>\n",
       "    </tr>\n",
       "    <tr>\n",
       "      <th id=\"T_a2ae6_level0_row5\" class=\"row_heading level0 row5\" >Mean</th>\n",
       "      <td id=\"T_a2ae6_row5_col0\" class=\"data row5 col0\" >0.9990</td>\n",
       "      <td id=\"T_a2ae6_row5_col1\" class=\"data row5 col1\" >0.9999</td>\n",
       "      <td id=\"T_a2ae6_row5_col2\" class=\"data row5 col2\" >0.9994</td>\n",
       "      <td id=\"T_a2ae6_row5_col3\" class=\"data row5 col3\" >0.9987</td>\n",
       "      <td id=\"T_a2ae6_row5_col4\" class=\"data row5 col4\" >0.9990</td>\n",
       "      <td id=\"T_a2ae6_row5_col5\" class=\"data row5 col5\" >0.9980</td>\n",
       "      <td id=\"T_a2ae6_row5_col6\" class=\"data row5 col6\" >0.9980</td>\n",
       "    </tr>\n",
       "    <tr>\n",
       "      <th id=\"T_a2ae6_level0_row6\" class=\"row_heading level0 row6\" >Std</th>\n",
       "      <td id=\"T_a2ae6_row6_col0\" class=\"data row6 col0\" >0.0002</td>\n",
       "      <td id=\"T_a2ae6_row6_col1\" class=\"data row6 col1\" >0.0001</td>\n",
       "      <td id=\"T_a2ae6_row6_col2\" class=\"data row6 col2\" >0.0004</td>\n",
       "      <td id=\"T_a2ae6_row6_col3\" class=\"data row6 col3\" >0.0002</td>\n",
       "      <td id=\"T_a2ae6_row6_col4\" class=\"data row6 col4\" >0.0002</td>\n",
       "      <td id=\"T_a2ae6_row6_col5\" class=\"data row6 col5\" >0.0004</td>\n",
       "      <td id=\"T_a2ae6_row6_col6\" class=\"data row6 col6\" >0.0004</td>\n",
       "    </tr>\n",
       "  </tbody>\n",
       "</table>\n"
      ],
      "text/plain": [
       "<pandas.io.formats.style.Styler at 0x17ab8edd9a0>"
      ]
     },
     "metadata": {},
     "output_type": "display_data"
    },
    {
     "data": {
      "application/vnd.jupyter.widget-view+json": {
       "model_id": "",
       "version_major": 2,
       "version_minor": 0
      },
      "text/plain": [
       "Processing:   0%|          | 0/6 [00:00<?, ?it/s]"
      ]
     },
     "metadata": {},
     "output_type": "display_data"
    }
   ],
   "source": [
    "# stacking our models | run time around 15 minutes\n",
    "stacker = stack_models([skorch_model, rf_model, et_model, xgboost])"
   ]
  },
  {
   "cell_type": "markdown",
   "id": "0dd70099-6b6e-43cb-b761-d2466fb3cb9a",
   "metadata": {},
   "source": [
    "## Model Evaluation and Prediction"
   ]
  },
  {
   "cell_type": "code",
   "execution_count": null,
   "id": "be42492c-5923-4895-9a4e-c0123dffd409",
   "metadata": {},
   "outputs": [],
   "source": [
    "#This will print out a summary of the evaluation metrics similar to above, but just for 1 line\n",
    "evaluate_model(stacker)"
   ]
  },
  {
   "cell_type": "code",
   "execution_count": 37,
   "id": "93ac3964-4687-4e05-b204-3a940b38fcc0",
   "metadata": {},
   "outputs": [
    {
     "data": {
      "text/html": [
       "<style type=\"text/css\">\n",
       "</style>\n",
       "<table id=\"T_bb8e6\">\n",
       "  <thead>\n",
       "    <tr>\n",
       "      <th class=\"blank level0\" >&nbsp;</th>\n",
       "      <th id=\"T_bb8e6_level0_col0\" class=\"col_heading level0 col0\" >Model</th>\n",
       "      <th id=\"T_bb8e6_level0_col1\" class=\"col_heading level0 col1\" >Accuracy</th>\n",
       "      <th id=\"T_bb8e6_level0_col2\" class=\"col_heading level0 col2\" >AUC</th>\n",
       "      <th id=\"T_bb8e6_level0_col3\" class=\"col_heading level0 col3\" >Recall</th>\n",
       "      <th id=\"T_bb8e6_level0_col4\" class=\"col_heading level0 col4\" >Prec.</th>\n",
       "      <th id=\"T_bb8e6_level0_col5\" class=\"col_heading level0 col5\" >F1</th>\n",
       "      <th id=\"T_bb8e6_level0_col6\" class=\"col_heading level0 col6\" >Kappa</th>\n",
       "      <th id=\"T_bb8e6_level0_col7\" class=\"col_heading level0 col7\" >MCC</th>\n",
       "    </tr>\n",
       "  </thead>\n",
       "  <tbody>\n",
       "    <tr>\n",
       "      <th id=\"T_bb8e6_level0_row0\" class=\"row_heading level0 row0\" >0</th>\n",
       "      <td id=\"T_bb8e6_row0_col0\" class=\"data row0 col0\" >Stacking Classifier</td>\n",
       "      <td id=\"T_bb8e6_row0_col1\" class=\"data row0 col1\" >0.9990</td>\n",
       "      <td id=\"T_bb8e6_row0_col2\" class=\"data row0 col2\" >1.0000</td>\n",
       "      <td id=\"T_bb8e6_row0_col3\" class=\"data row0 col3\" >0.9992</td>\n",
       "      <td id=\"T_bb8e6_row0_col4\" class=\"data row0 col4\" >0.9989</td>\n",
       "      <td id=\"T_bb8e6_row0_col5\" class=\"data row0 col5\" >0.9990</td>\n",
       "      <td id=\"T_bb8e6_row0_col6\" class=\"data row0 col6\" >0.9979</td>\n",
       "      <td id=\"T_bb8e6_row0_col7\" class=\"data row0 col7\" >0.9979</td>\n",
       "    </tr>\n",
       "  </tbody>\n",
       "</table>\n"
      ],
      "text/plain": [
       "<pandas.io.formats.style.Styler at 0x1f31c6f8e20>"
      ]
     },
     "metadata": {},
     "output_type": "display_data"
    },
    {
     "data": {
      "text/html": [
       "<div>\n",
       "<style scoped>\n",
       "    .dataframe tbody tr th:only-of-type {\n",
       "        vertical-align: middle;\n",
       "    }\n",
       "\n",
       "    .dataframe tbody tr th {\n",
       "        vertical-align: top;\n",
       "    }\n",
       "\n",
       "    .dataframe thead th {\n",
       "        text-align: right;\n",
       "    }\n",
       "</style>\n",
       "<table border=\"1\" class=\"dataframe\">\n",
       "  <thead>\n",
       "    <tr style=\"text-align: right;\">\n",
       "      <th></th>\n",
       "      <th>feature_1</th>\n",
       "      <th>feature_2</th>\n",
       "      <th>feature_3</th>\n",
       "      <th>feature_4</th>\n",
       "      <th>feature_5</th>\n",
       "      <th>feature_6</th>\n",
       "      <th>feature_7</th>\n",
       "      <th>feature_8</th>\n",
       "      <th>feature_9</th>\n",
       "      <th>feature_10</th>\n",
       "      <th>...</th>\n",
       "      <th>feature_116</th>\n",
       "      <th>feature_117</th>\n",
       "      <th>feature_118</th>\n",
       "      <th>feature_119</th>\n",
       "      <th>feature_120</th>\n",
       "      <th>feature_121</th>\n",
       "      <th>feature_122</th>\n",
       "      <th>target</th>\n",
       "      <th>prediction_label</th>\n",
       "      <th>prediction_score</th>\n",
       "    </tr>\n",
       "  </thead>\n",
       "  <tbody>\n",
       "    <tr>\n",
       "      <th>80622</th>\n",
       "      <td>-0.110249</td>\n",
       "      <td>-0.007720</td>\n",
       "      <td>-0.004852</td>\n",
       "      <td>-0.014089</td>\n",
       "      <td>-0.089486</td>\n",
       "      <td>-0.007736</td>\n",
       "      <td>-0.095076</td>\n",
       "      <td>-0.027023</td>\n",
       "      <td>1.235694</td>\n",
       "      <td>-0.011664</td>\n",
       "      <td>...</td>\n",
       "      <td>0.0</td>\n",
       "      <td>0.0</td>\n",
       "      <td>0.0</td>\n",
       "      <td>0.0</td>\n",
       "      <td>0.0</td>\n",
       "      <td>1.0</td>\n",
       "      <td>0.0</td>\n",
       "      <td>1</td>\n",
       "      <td>1</td>\n",
       "      <td>0.9998</td>\n",
       "    </tr>\n",
       "    <tr>\n",
       "      <th>80623</th>\n",
       "      <td>-0.110249</td>\n",
       "      <td>-0.007762</td>\n",
       "      <td>-0.004919</td>\n",
       "      <td>-0.014089</td>\n",
       "      <td>-0.089486</td>\n",
       "      <td>-0.007736</td>\n",
       "      <td>-0.095076</td>\n",
       "      <td>-0.027023</td>\n",
       "      <td>-0.809262</td>\n",
       "      <td>-0.011664</td>\n",
       "      <td>...</td>\n",
       "      <td>1.0</td>\n",
       "      <td>0.0</td>\n",
       "      <td>0.0</td>\n",
       "      <td>0.0</td>\n",
       "      <td>0.0</td>\n",
       "      <td>0.0</td>\n",
       "      <td>0.0</td>\n",
       "      <td>0</td>\n",
       "      <td>0</td>\n",
       "      <td>1.0000</td>\n",
       "    </tr>\n",
       "    <tr>\n",
       "      <th>80624</th>\n",
       "      <td>-0.110249</td>\n",
       "      <td>-0.007762</td>\n",
       "      <td>-0.004919</td>\n",
       "      <td>-0.014089</td>\n",
       "      <td>-0.089486</td>\n",
       "      <td>-0.007736</td>\n",
       "      <td>-0.095076</td>\n",
       "      <td>-0.027023</td>\n",
       "      <td>-0.809262</td>\n",
       "      <td>-0.011664</td>\n",
       "      <td>...</td>\n",
       "      <td>0.0</td>\n",
       "      <td>0.0</td>\n",
       "      <td>1.0</td>\n",
       "      <td>0.0</td>\n",
       "      <td>0.0</td>\n",
       "      <td>0.0</td>\n",
       "      <td>0.0</td>\n",
       "      <td>1</td>\n",
       "      <td>1</td>\n",
       "      <td>0.9863</td>\n",
       "    </tr>\n",
       "    <tr>\n",
       "      <th>80625</th>\n",
       "      <td>-0.110249</td>\n",
       "      <td>-0.007762</td>\n",
       "      <td>-0.004919</td>\n",
       "      <td>-0.014089</td>\n",
       "      <td>-0.089486</td>\n",
       "      <td>-0.007736</td>\n",
       "      <td>-0.095076</td>\n",
       "      <td>-0.027023</td>\n",
       "      <td>-0.809262</td>\n",
       "      <td>-0.011664</td>\n",
       "      <td>...</td>\n",
       "      <td>0.0</td>\n",
       "      <td>1.0</td>\n",
       "      <td>0.0</td>\n",
       "      <td>0.0</td>\n",
       "      <td>0.0</td>\n",
       "      <td>0.0</td>\n",
       "      <td>0.0</td>\n",
       "      <td>0</td>\n",
       "      <td>0</td>\n",
       "      <td>0.9999</td>\n",
       "    </tr>\n",
       "    <tr>\n",
       "      <th>80626</th>\n",
       "      <td>-0.110249</td>\n",
       "      <td>-0.007762</td>\n",
       "      <td>-0.004919</td>\n",
       "      <td>-0.014089</td>\n",
       "      <td>-0.089486</td>\n",
       "      <td>-0.007736</td>\n",
       "      <td>-0.095076</td>\n",
       "      <td>-0.027023</td>\n",
       "      <td>-0.809262</td>\n",
       "      <td>-0.011664</td>\n",
       "      <td>...</td>\n",
       "      <td>0.0</td>\n",
       "      <td>0.0</td>\n",
       "      <td>0.0</td>\n",
       "      <td>0.0</td>\n",
       "      <td>0.0</td>\n",
       "      <td>0.0</td>\n",
       "      <td>0.0</td>\n",
       "      <td>0</td>\n",
       "      <td>0</td>\n",
       "      <td>0.9999</td>\n",
       "    </tr>\n",
       "    <tr>\n",
       "      <th>...</th>\n",
       "      <td>...</td>\n",
       "      <td>...</td>\n",
       "      <td>...</td>\n",
       "      <td>...</td>\n",
       "      <td>...</td>\n",
       "      <td>...</td>\n",
       "      <td>...</td>\n",
       "      <td>...</td>\n",
       "      <td>...</td>\n",
       "      <td>...</td>\n",
       "      <td>...</td>\n",
       "      <td>...</td>\n",
       "      <td>...</td>\n",
       "      <td>...</td>\n",
       "      <td>...</td>\n",
       "      <td>...</td>\n",
       "      <td>...</td>\n",
       "      <td>...</td>\n",
       "      <td>...</td>\n",
       "      <td>...</td>\n",
       "      <td>...</td>\n",
       "    </tr>\n",
       "    <tr>\n",
       "      <th>100773</th>\n",
       "      <td>-0.107946</td>\n",
       "      <td>-0.007744</td>\n",
       "      <td>-0.004882</td>\n",
       "      <td>-0.014089</td>\n",
       "      <td>-0.089486</td>\n",
       "      <td>-0.007736</td>\n",
       "      <td>-0.095076</td>\n",
       "      <td>-0.027023</td>\n",
       "      <td>-0.809262</td>\n",
       "      <td>-0.011664</td>\n",
       "      <td>...</td>\n",
       "      <td>0.0</td>\n",
       "      <td>0.0</td>\n",
       "      <td>0.0</td>\n",
       "      <td>0.0</td>\n",
       "      <td>0.0</td>\n",
       "      <td>1.0</td>\n",
       "      <td>0.0</td>\n",
       "      <td>1</td>\n",
       "      <td>1</td>\n",
       "      <td>0.9997</td>\n",
       "    </tr>\n",
       "    <tr>\n",
       "      <th>100774</th>\n",
       "      <td>-0.110249</td>\n",
       "      <td>-0.007755</td>\n",
       "      <td>-0.004886</td>\n",
       "      <td>-0.014089</td>\n",
       "      <td>-0.089486</td>\n",
       "      <td>-0.007736</td>\n",
       "      <td>-0.095076</td>\n",
       "      <td>-0.027023</td>\n",
       "      <td>-0.809262</td>\n",
       "      <td>-0.011664</td>\n",
       "      <td>...</td>\n",
       "      <td>0.0</td>\n",
       "      <td>0.0</td>\n",
       "      <td>0.0</td>\n",
       "      <td>0.0</td>\n",
       "      <td>0.0</td>\n",
       "      <td>1.0</td>\n",
       "      <td>0.0</td>\n",
       "      <td>1</td>\n",
       "      <td>1</td>\n",
       "      <td>0.9998</td>\n",
       "    </tr>\n",
       "    <tr>\n",
       "      <th>100775</th>\n",
       "      <td>-0.110249</td>\n",
       "      <td>-0.007762</td>\n",
       "      <td>-0.004919</td>\n",
       "      <td>-0.014089</td>\n",
       "      <td>-0.089486</td>\n",
       "      <td>-0.007736</td>\n",
       "      <td>-0.095076</td>\n",
       "      <td>-0.027023</td>\n",
       "      <td>-0.809262</td>\n",
       "      <td>-0.011664</td>\n",
       "      <td>...</td>\n",
       "      <td>0.0</td>\n",
       "      <td>1.0</td>\n",
       "      <td>0.0</td>\n",
       "      <td>0.0</td>\n",
       "      <td>0.0</td>\n",
       "      <td>0.0</td>\n",
       "      <td>0.0</td>\n",
       "      <td>0</td>\n",
       "      <td>0</td>\n",
       "      <td>1.0000</td>\n",
       "    </tr>\n",
       "    <tr>\n",
       "      <th>100776</th>\n",
       "      <td>-0.110249</td>\n",
       "      <td>-0.007718</td>\n",
       "      <td>-0.004711</td>\n",
       "      <td>-0.014089</td>\n",
       "      <td>-0.089486</td>\n",
       "      <td>-0.007736</td>\n",
       "      <td>-0.095076</td>\n",
       "      <td>-0.027023</td>\n",
       "      <td>1.235694</td>\n",
       "      <td>-0.011664</td>\n",
       "      <td>...</td>\n",
       "      <td>0.0</td>\n",
       "      <td>0.0</td>\n",
       "      <td>0.0</td>\n",
       "      <td>0.0</td>\n",
       "      <td>0.0</td>\n",
       "      <td>1.0</td>\n",
       "      <td>0.0</td>\n",
       "      <td>1</td>\n",
       "      <td>1</td>\n",
       "      <td>0.9998</td>\n",
       "    </tr>\n",
       "    <tr>\n",
       "      <th>100777</th>\n",
       "      <td>-0.110249</td>\n",
       "      <td>-0.007754</td>\n",
       "      <td>-0.004887</td>\n",
       "      <td>-0.014089</td>\n",
       "      <td>-0.089486</td>\n",
       "      <td>-0.007736</td>\n",
       "      <td>-0.095076</td>\n",
       "      <td>-0.027023</td>\n",
       "      <td>-0.809262</td>\n",
       "      <td>-0.011664</td>\n",
       "      <td>...</td>\n",
       "      <td>0.0</td>\n",
       "      <td>0.0</td>\n",
       "      <td>0.0</td>\n",
       "      <td>0.0</td>\n",
       "      <td>0.0</td>\n",
       "      <td>1.0</td>\n",
       "      <td>0.0</td>\n",
       "      <td>1</td>\n",
       "      <td>1</td>\n",
       "      <td>0.9999</td>\n",
       "    </tr>\n",
       "  </tbody>\n",
       "</table>\n",
       "<p>20156 rows × 125 columns</p>\n",
       "</div>"
      ],
      "text/plain": [
       "        feature_1  feature_2  feature_3  feature_4  feature_5  feature_6  \\\n",
       "80622   -0.110249  -0.007720  -0.004852  -0.014089  -0.089486  -0.007736   \n",
       "80623   -0.110249  -0.007762  -0.004919  -0.014089  -0.089486  -0.007736   \n",
       "80624   -0.110249  -0.007762  -0.004919  -0.014089  -0.089486  -0.007736   \n",
       "80625   -0.110249  -0.007762  -0.004919  -0.014089  -0.089486  -0.007736   \n",
       "80626   -0.110249  -0.007762  -0.004919  -0.014089  -0.089486  -0.007736   \n",
       "...           ...        ...        ...        ...        ...        ...   \n",
       "100773  -0.107946  -0.007744  -0.004882  -0.014089  -0.089486  -0.007736   \n",
       "100774  -0.110249  -0.007755  -0.004886  -0.014089  -0.089486  -0.007736   \n",
       "100775  -0.110249  -0.007762  -0.004919  -0.014089  -0.089486  -0.007736   \n",
       "100776  -0.110249  -0.007718  -0.004711  -0.014089  -0.089486  -0.007736   \n",
       "100777  -0.110249  -0.007754  -0.004887  -0.014089  -0.089486  -0.007736   \n",
       "\n",
       "        feature_7  feature_8  feature_9  feature_10  ...  feature_116  \\\n",
       "80622   -0.095076  -0.027023   1.235694   -0.011664  ...          0.0   \n",
       "80623   -0.095076  -0.027023  -0.809262   -0.011664  ...          1.0   \n",
       "80624   -0.095076  -0.027023  -0.809262   -0.011664  ...          0.0   \n",
       "80625   -0.095076  -0.027023  -0.809262   -0.011664  ...          0.0   \n",
       "80626   -0.095076  -0.027023  -0.809262   -0.011664  ...          0.0   \n",
       "...           ...        ...        ...         ...  ...          ...   \n",
       "100773  -0.095076  -0.027023  -0.809262   -0.011664  ...          0.0   \n",
       "100774  -0.095076  -0.027023  -0.809262   -0.011664  ...          0.0   \n",
       "100775  -0.095076  -0.027023  -0.809262   -0.011664  ...          0.0   \n",
       "100776  -0.095076  -0.027023   1.235694   -0.011664  ...          0.0   \n",
       "100777  -0.095076  -0.027023  -0.809262   -0.011664  ...          0.0   \n",
       "\n",
       "        feature_117  feature_118  feature_119  feature_120  feature_121  \\\n",
       "80622           0.0          0.0          0.0          0.0          1.0   \n",
       "80623           0.0          0.0          0.0          0.0          0.0   \n",
       "80624           0.0          1.0          0.0          0.0          0.0   \n",
       "80625           1.0          0.0          0.0          0.0          0.0   \n",
       "80626           0.0          0.0          0.0          0.0          0.0   \n",
       "...             ...          ...          ...          ...          ...   \n",
       "100773          0.0          0.0          0.0          0.0          1.0   \n",
       "100774          0.0          0.0          0.0          0.0          1.0   \n",
       "100775          1.0          0.0          0.0          0.0          0.0   \n",
       "100776          0.0          0.0          0.0          0.0          1.0   \n",
       "100777          0.0          0.0          0.0          0.0          1.0   \n",
       "\n",
       "        feature_122  target  prediction_label  prediction_score  \n",
       "80622           0.0       1                 1            0.9998  \n",
       "80623           0.0       0                 0            1.0000  \n",
       "80624           0.0       1                 1            0.9863  \n",
       "80625           0.0       0                 0            0.9999  \n",
       "80626           0.0       0                 0            0.9999  \n",
       "...             ...     ...               ...               ...  \n",
       "100773          0.0       1                 1            0.9997  \n",
       "100774          0.0       1                 1            0.9998  \n",
       "100775          0.0       0                 0            1.0000  \n",
       "100776          0.0       1                 1            0.9998  \n",
       "100777          0.0       1                 1            0.9999  \n",
       "\n",
       "[20156 rows x 125 columns]"
      ]
     },
     "execution_count": 37,
     "metadata": {},
     "output_type": "execute_result"
    }
   ],
   "source": [
    "# Will run the model on the test set and generate results. Predictions are classified into two groups: (0) for attacks and (1) for normal packets\n",
    "# \"target\" contains the original values while \"prediction_label\" contains the values predicted by the model \n",
    "predict_model(stacker)"
   ]
  }
 ],
 "metadata": {
  "kernelspec": {
   "display_name": "Python 3 (ipykernel)",
   "language": "python",
   "name": "python3"
  },
  "language_info": {
   "codemirror_mode": {
    "name": "ipython",
    "version": 3
   },
   "file_extension": ".py",
   "mimetype": "text/x-python",
   "name": "python",
   "nbconvert_exporter": "python",
   "pygments_lexer": "ipython3",
   "version": "3.9.13"
  },
  "papermill": {
   "default_parameters": {},
   "duration": 2724.265669,
   "end_time": "2021-12-22T10:58:45.575435",
   "environment_variables": {},
   "exception": null,
   "input_path": "__notebook__.ipynb",
   "output_path": "__notebook__.ipynb",
   "parameters": {},
   "start_time": "2021-12-22T10:13:21.309766",
   "version": "2.3.3"
  }
 },
 "nbformat": 4,
 "nbformat_minor": 5
}
